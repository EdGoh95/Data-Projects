{
 "cells": [
  {
   "cell_type": "code",
   "execution_count": 1,
   "id": "590ad260",
   "metadata": {},
   "outputs": [],
   "source": [
    "import pandas as pd\n",
    "import numpy as np\n",
    "from azureml.core import Workspace, Dataset, Datastore, Experiment\n",
    "from azureml.core.compute import ComputeTarget\n",
    "from azureml.train.automl import AutoMLConfig\n",
    "from azureml.train.automl.run import AutoMLRun\n",
    "from azureml.widgets import RunDetails"
   ]
  },
  {
   "cell_type": "markdown",
   "id": "ad209799",
   "metadata": {},
   "source": [
    "# Initializing The Compute Cluster"
   ]
  },
  {
   "cell_type": "code",
   "execution_count": 2,
   "id": "989e71a2",
   "metadata": {},
   "outputs": [],
   "source": [
    "ws = Workspace.from_config(path = 'config.json')\n",
    "compute_name = 'automl-cluster'\n",
    "compute_target = ComputeTarget(ws, compute_name)"
   ]
  },
  {
   "cell_type": "markdown",
   "id": "a535a9a2",
   "metadata": {},
   "source": [
    "# Preparing The Diabetes Dataset"
   ]
  },
  {
   "cell_type": "code",
   "execution_count": 3,
   "id": "22892802",
   "metadata": {},
   "outputs": [],
   "source": [
    "datastore = Datastore.get_default(ws)"
   ]
  },
  {
   "cell_type": "code",
   "execution_count": 4,
   "id": "46d9bafa",
   "metadata": {},
   "outputs": [
    {
     "data": {
      "text/html": [
       "<div>\n",
       "<style scoped>\n",
       "    .dataframe tbody tr th:only-of-type {\n",
       "        vertical-align: middle;\n",
       "    }\n",
       "\n",
       "    .dataframe tbody tr th {\n",
       "        vertical-align: top;\n",
       "    }\n",
       "\n",
       "    .dataframe thead th {\n",
       "        text-align: right;\n",
       "    }\n",
       "</style>\n",
       "<table border=\"1\" class=\"dataframe\">\n",
       "  <thead>\n",
       "    <tr style=\"text-align: right;\">\n",
       "      <th></th>\n",
       "      <th>AGE</th>\n",
       "      <th>SEX</th>\n",
       "      <th>BMI</th>\n",
       "      <th>BP</th>\n",
       "      <th>S1</th>\n",
       "      <th>S2</th>\n",
       "      <th>S3</th>\n",
       "      <th>S4</th>\n",
       "      <th>S5</th>\n",
       "      <th>S6</th>\n",
       "      <th>Y</th>\n",
       "    </tr>\n",
       "  </thead>\n",
       "  <tbody>\n",
       "    <tr>\n",
       "      <th>0</th>\n",
       "      <td>59</td>\n",
       "      <td>2</td>\n",
       "      <td>32.1</td>\n",
       "      <td>101.0</td>\n",
       "      <td>157</td>\n",
       "      <td>93.2</td>\n",
       "      <td>38.0</td>\n",
       "      <td>4.00</td>\n",
       "      <td>4.8598</td>\n",
       "      <td>87</td>\n",
       "      <td>151</td>\n",
       "    </tr>\n",
       "    <tr>\n",
       "      <th>1</th>\n",
       "      <td>48</td>\n",
       "      <td>1</td>\n",
       "      <td>21.6</td>\n",
       "      <td>87.0</td>\n",
       "      <td>183</td>\n",
       "      <td>103.2</td>\n",
       "      <td>70.0</td>\n",
       "      <td>3.00</td>\n",
       "      <td>3.8918</td>\n",
       "      <td>69</td>\n",
       "      <td>75</td>\n",
       "    </tr>\n",
       "    <tr>\n",
       "      <th>2</th>\n",
       "      <td>72</td>\n",
       "      <td>2</td>\n",
       "      <td>30.5</td>\n",
       "      <td>93.0</td>\n",
       "      <td>156</td>\n",
       "      <td>93.6</td>\n",
       "      <td>41.0</td>\n",
       "      <td>4.00</td>\n",
       "      <td>4.6728</td>\n",
       "      <td>85</td>\n",
       "      <td>141</td>\n",
       "    </tr>\n",
       "    <tr>\n",
       "      <th>3</th>\n",
       "      <td>24</td>\n",
       "      <td>1</td>\n",
       "      <td>25.3</td>\n",
       "      <td>84.0</td>\n",
       "      <td>198</td>\n",
       "      <td>131.4</td>\n",
       "      <td>40.0</td>\n",
       "      <td>5.00</td>\n",
       "      <td>4.8903</td>\n",
       "      <td>89</td>\n",
       "      <td>206</td>\n",
       "    </tr>\n",
       "    <tr>\n",
       "      <th>4</th>\n",
       "      <td>50</td>\n",
       "      <td>1</td>\n",
       "      <td>23.0</td>\n",
       "      <td>101.0</td>\n",
       "      <td>192</td>\n",
       "      <td>125.4</td>\n",
       "      <td>52.0</td>\n",
       "      <td>4.00</td>\n",
       "      <td>4.2905</td>\n",
       "      <td>80</td>\n",
       "      <td>135</td>\n",
       "    </tr>\n",
       "    <tr>\n",
       "      <th>5</th>\n",
       "      <td>23</td>\n",
       "      <td>1</td>\n",
       "      <td>22.6</td>\n",
       "      <td>89.0</td>\n",
       "      <td>139</td>\n",
       "      <td>64.8</td>\n",
       "      <td>61.0</td>\n",
       "      <td>2.00</td>\n",
       "      <td>4.1897</td>\n",
       "      <td>68</td>\n",
       "      <td>97</td>\n",
       "    </tr>\n",
       "    <tr>\n",
       "      <th>6</th>\n",
       "      <td>36</td>\n",
       "      <td>2</td>\n",
       "      <td>22.0</td>\n",
       "      <td>90.0</td>\n",
       "      <td>160</td>\n",
       "      <td>99.6</td>\n",
       "      <td>50.0</td>\n",
       "      <td>3.00</td>\n",
       "      <td>3.9512</td>\n",
       "      <td>82</td>\n",
       "      <td>138</td>\n",
       "    </tr>\n",
       "    <tr>\n",
       "      <th>7</th>\n",
       "      <td>66</td>\n",
       "      <td>2</td>\n",
       "      <td>26.2</td>\n",
       "      <td>114.0</td>\n",
       "      <td>255</td>\n",
       "      <td>185.0</td>\n",
       "      <td>56.0</td>\n",
       "      <td>4.55</td>\n",
       "      <td>4.2485</td>\n",
       "      <td>92</td>\n",
       "      <td>63</td>\n",
       "    </tr>\n",
       "    <tr>\n",
       "      <th>8</th>\n",
       "      <td>60</td>\n",
       "      <td>2</td>\n",
       "      <td>32.1</td>\n",
       "      <td>83.0</td>\n",
       "      <td>179</td>\n",
       "      <td>119.4</td>\n",
       "      <td>42.0</td>\n",
       "      <td>4.00</td>\n",
       "      <td>4.4773</td>\n",
       "      <td>94</td>\n",
       "      <td>110</td>\n",
       "    </tr>\n",
       "    <tr>\n",
       "      <th>9</th>\n",
       "      <td>29</td>\n",
       "      <td>1</td>\n",
       "      <td>30.0</td>\n",
       "      <td>85.0</td>\n",
       "      <td>180</td>\n",
       "      <td>93.4</td>\n",
       "      <td>43.0</td>\n",
       "      <td>4.00</td>\n",
       "      <td>5.3845</td>\n",
       "      <td>88</td>\n",
       "      <td>310</td>\n",
       "    </tr>\n",
       "  </tbody>\n",
       "</table>\n",
       "</div>"
      ],
      "text/plain": [
       "   AGE  SEX   BMI     BP   S1     S2    S3    S4      S5  S6    Y\n",
       "0   59    2  32.1  101.0  157   93.2  38.0  4.00  4.8598  87  151\n",
       "1   48    1  21.6   87.0  183  103.2  70.0  3.00  3.8918  69   75\n",
       "2   72    2  30.5   93.0  156   93.6  41.0  4.00  4.6728  85  141\n",
       "3   24    1  25.3   84.0  198  131.4  40.0  5.00  4.8903  89  206\n",
       "4   50    1  23.0  101.0  192  125.4  52.0  4.00  4.2905  80  135\n",
       "5   23    1  22.6   89.0  139   64.8  61.0  2.00  4.1897  68   97\n",
       "6   36    2  22.0   90.0  160   99.6  50.0  3.00  3.9512  82  138\n",
       "7   66    2  26.2  114.0  255  185.0  56.0  4.55  4.2485  92   63\n",
       "8   60    2  32.1   83.0  179  119.4  42.0  4.00  4.4773  94  110\n",
       "9   29    1  30.0   85.0  180   93.4  43.0  4.00  5.3845  88  310"
      ]
     },
     "execution_count": 4,
     "metadata": {},
     "output_type": "execute_result"
    }
   ],
   "source": [
    "diabetes_dataset = Dataset.get_by_name(ws, 'Diabetes Sample', version = 'latest')\n",
    "diabetes_dataset.take(10).to_pandas_dataframe()"
   ]
  },
  {
   "cell_type": "code",
   "execution_count": 5,
   "id": "8e033b74",
   "metadata": {},
   "outputs": [
    {
     "name": "stdout",
     "output_type": "stream",
     "text": [
      "Validating arguments.\n",
      "Arguments validated.\n",
      "Successfully obtained datastore reference and path.\n",
      "Uploading file to managed-dataset/9931cbf2-5e30-4a23-876b-a956d763d143/\n",
      "Successfully uploaded file to datastore.\n",
      "Creating and registering a new dataset.\n",
      "Successfully created and registered a new dataset.\n"
     ]
    },
    {
     "data": {
      "text/plain": [
       "{\n",
       "  \"source\": [\n",
       "    \"('workspaceblobstore', 'managed-dataset/9931cbf2-5e30-4a23-876b-a956d763d143/')\"\n",
       "  ],\n",
       "  \"definition\": [\n",
       "    \"GetDatastoreFiles\",\n",
       "    \"ReadParquetFile\",\n",
       "    \"DropColumns\"\n",
       "  ],\n",
       "  \"registration\": {\n",
       "    \"id\": \"297c4497-fc87-40a6-b39e-580ec2673918\",\n",
       "    \"name\": \"Diabetes Sample With Age & Sex Dropped\",\n",
       "    \"version\": 4,\n",
       "    \"workspace\": \"Workspace.create(name='auotml-example-workspace', subscription_id='0c19fc19-85fd-4aa4-b133-61dd20fa93df', resource_group='edwin.spartan117-rg')\"\n",
       "  }\n",
       "}"
      ]
     },
     "execution_count": 5,
     "metadata": {},
     "output_type": "execute_result"
    }
   ],
   "source": [
    "diabetes_df = diabetes_dataset.to_pandas_dataframe()\n",
    "diabetes_df_cleaned = diabetes_df.drop(['AGE', 'SEX'], axis = 1)\n",
    "diabetes_dataset.Tabular.register_pandas_dataframe(diabetes_df_cleaned, datastore, \n",
    "                                                   'Diabetes Sample With Age & Sex Dropped')"
   ]
  },
  {
   "cell_type": "code",
   "execution_count": 6,
   "id": "a1e41ea0",
   "metadata": {},
   "outputs": [],
   "source": [
    "outlier_threshold = round((np.std(diabetes_df.AGE)*3) + np.mean(diabetes_df.AGE))\n",
    "diabetes_df['AGE'] = diabetes_df['AGE'].mask(diabetes_df['AGE'] > outlier_threshold, outlier_threshold)"
   ]
  },
  {
   "cell_type": "code",
   "execution_count": 7,
   "id": "392dc56d",
   "metadata": {},
   "outputs": [],
   "source": [
    "diabetes_df['OBESE'] = np.where(diabetes_df['BMI'] > 30, 1, 0)"
   ]
  },
  {
   "cell_type": "code",
   "execution_count": 8,
   "id": "08ed1821",
   "metadata": {},
   "outputs": [
    {
     "name": "stdout",
     "output_type": "stream",
     "text": [
      "Validating arguments.\n",
      "Arguments validated.\n",
      "Successfully obtained datastore reference and path.\n",
      "Uploading file to managed-dataset/43de3c93-39de-4359-8f02-1e05949ac36c/\n",
      "Successfully uploaded file to datastore.\n",
      "Creating and registering a new dataset.\n",
      "Successfully created and registered a new dataset.\n"
     ]
    },
    {
     "data": {
      "text/plain": [
       "{\n",
       "  \"source\": [\n",
       "    \"('workspaceblobstore', 'managed-dataset/43de3c93-39de-4359-8f02-1e05949ac36c/')\"\n",
       "  ],\n",
       "  \"definition\": [\n",
       "    \"GetDatastoreFiles\",\n",
       "    \"ReadParquetFile\",\n",
       "    \"DropColumns\"\n",
       "  ],\n",
       "  \"registration\": {\n",
       "    \"id\": \"25f7c570-d539-4de6-82ba-a14f3d82a0a1\",\n",
       "    \"name\": \"Diabetes Sample After Data Transformation\",\n",
       "    \"version\": 2,\n",
       "    \"workspace\": \"Workspace.create(name='auotml-example-workspace', subscription_id='0c19fc19-85fd-4aa4-b133-61dd20fa93df', resource_group='edwin.spartan117-rg')\"\n",
       "  }\n",
       "}"
      ]
     },
     "execution_count": 8,
     "metadata": {},
     "output_type": "execute_result"
    }
   ],
   "source": [
    "diabetes_dataset.Tabular.register_pandas_dataframe(diabetes_df, datastore, 'Diabetes Sample After Data Transformation')"
   ]
  },
  {
   "cell_type": "markdown",
   "id": "b1ead4df",
   "metadata": {},
   "source": [
    "# Model Training"
   ]
  },
  {
   "cell_type": "code",
   "execution_count": 9,
   "id": "ee2faf29",
   "metadata": {},
   "outputs": [
    {
     "name": "stdout",
     "output_type": "stream",
     "text": [
      "Submitting remote run.\n",
      "No run_configuration provided, running on automl-cluster with default configuration\n",
      "Running on remote compute: automl-cluster\n"
     ]
    },
    {
     "data": {
      "text/html": [
       "<table style=\"width:100%\"><tr><th>Experiment</th><th>Id</th><th>Type</th><th>Status</th><th>Details Page</th><th>Docs Page</th></tr><tr><td>Diabetes-Sample-Regression</td><td>AutoML_05a05f45-6d7e-45e1-9b2a-41ff3dd9d4af</td><td>automl</td><td>NotStarted</td><td><a href=\"https://ml.azure.com/runs/AutoML_05a05f45-6d7e-45e1-9b2a-41ff3dd9d4af?wsid=/subscriptions/0c19fc19-85fd-4aa4-b133-61dd20fa93df/resourcegroups/edwin.spartan117-rg/workspaces/auotml-example-workspace&amp;tid=c5f4b1c2-b533-4788-b1c5-99d0f10fb9b6\" target=\"_blank\" rel=\"noopener\">Link to Azure Machine Learning studio</a></td><td><a href=\"https://docs.microsoft.com/en-us/python/api/overview/azure/ml/intro?view=azure-ml-py\" target=\"_blank\" rel=\"noopener\">Link to Documentation</a></td></tr></table>"
      ]
     },
     "metadata": {},
     "output_type": "display_data"
    },
    {
     "name": "stdout",
     "output_type": "stream",
     "text": [
      "\n",
      "Current status: FeaturesGeneration. Generating features for the dataset.\n",
      "Current status: DatasetCrossValidationSplit. Generating individually featurized CV splits.\n",
      "Current status: ModelSelection. Beginning model selection.\n",
      "\n",
      "********************************************************************************************\n",
      "DATA GUARDRAILS: \n",
      "\n",
      "TYPE:         Missing feature values imputation\n",
      "STATUS:       PASSED\n",
      "DESCRIPTION:  No feature missing values were detected in the training data.\n",
      "              Learn more about missing value imputation: https://aka.ms/AutomatedMLFeaturization\n",
      "\n",
      "********************************************************************************************\n",
      "\n",
      "TYPE:         High cardinality feature detection\n",
      "STATUS:       PASSED\n",
      "DESCRIPTION:  Your inputs were analyzed, and no high cardinality features were detected.\n",
      "              Learn more about high cardinality feature handling: https://aka.ms/AutomatedMLFeaturization\n",
      "\n",
      "********************************************************************************************\n",
      "\n",
      "********************************************************************************************\n",
      "ITER: The iteration being evaluated.\n",
      "PIPELINE: A summary description of the pipeline being evaluated.\n",
      "DURATION: Time taken for the current iteration.\n",
      "METRIC: The result of computing score on the fitted pipeline.\n",
      "BEST: The best observed score thus far.\n",
      "********************************************************************************************\n",
      "\n",
      " ITER   PIPELINE                                       DURATION            METRIC      BEST\n",
      "    0   MaxAbsScaler LightGBM                          0:00:13             0.1859    0.1859\n",
      "    1   MaxAbsScaler XGBoostRegressor                  0:00:12             0.1953    0.1859\n",
      "    2   MaxAbsScaler ElasticNet                        0:00:11             0.1709    0.1709\n",
      "    3   RobustScaler ElasticNet                        0:00:10             0.1704    0.1704\n",
      "    4   MinMaxScaler ElasticNet                        0:00:15             0.1705    0.1704\n",
      "    5   StandardScalerWrapper ElasticNet               0:00:10             0.1704    0.1704\n",
      "    6   MinMaxScaler RandomForest                      0:00:11             0.1787    0.1704\n",
      "    7   MaxAbsScaler ElasticNet                        0:00:10             0.1707    0.1704\n",
      "    8   StandardScalerWrapper ElasticNet               0:00:10             0.1704    0.1704\n",
      "    9   MaxAbsScaler ElasticNet                        0:00:10             0.1704    0.1704\n",
      "   10   StandardScalerWrapper ElasticNet               0:00:10             0.1704    0.1704\n",
      "   11   MinMaxScaler ExtremeRandomTrees                0:00:11             0.1747    0.1704\n",
      "   12   MinMaxScaler RandomForest                      0:00:11             0.1901    0.1704\n",
      "   13   MinMaxScaler ExtremeRandomTrees                0:00:11             0.1724    0.1704\n",
      "   14   MinMaxScaler ExtremeRandomTrees                0:00:10             0.1783    0.1704\n",
      "   15   MaxAbsScaler ExtremeRandomTrees                0:00:10             0.1839    0.1704\n",
      "   16   MinMaxScaler DecisionTree                      0:00:10             0.1910    0.1704\n",
      "   17   RobustScaler ExtremeRandomTrees                0:00:10             0.1804    0.1704\n",
      "   18   RobustScaler DecisionTree                      0:00:10             0.2027    0.1704\n",
      "   19   MaxAbsScaler RandomForest                      0:00:11             0.1761    0.1704\n",
      "   20   StandardScalerWrapper ExtremeRandomTrees       0:00:34             0.1765    0.1704\n",
      "   21   StandardScalerWrapper RandomForest             0:00:27             0.1769    0.1704\n",
      "   22   StandardScalerWrapper ExtremeRandomTrees       0:00:27             0.1781    0.1704\n",
      "   23   StandardScalerWrapper ExtremeRandomTrees       0:00:28             0.1753    0.1704\n",
      "   24   MinMaxScaler LightGBM                          0:00:28             0.1720    0.1704\n",
      "   25   MinMaxScaler ElasticNet                        0:00:27             0.1919    0.1704\n",
      "   26   RobustScaler ExtremeRandomTrees                0:00:31             0.1762    0.1704\n",
      "   27   RobustScaler ExtremeRandomTrees                0:00:29             0.1733    0.1704\n",
      "   28   StandardScalerWrapper RandomForest             0:00:30             0.1774    0.1704\n",
      "   29   MinMaxScaler ExtremeRandomTrees                0:00:29             0.1744    0.1704\n",
      "   30    VotingEnsemble                                0:00:42             0.1680    0.1680\n",
      "   31    StackEnsemble                                 0:00:43             0.1701    0.1680\n"
     ]
    },
    {
     "data": {
      "application/vnd.jupyter.widget-view+json": {
       "model_id": "a151d1a3b5c54b2db4d474ca2346cac5",
       "version_major": 2,
       "version_minor": 0
      },
      "text/plain": [
       "_AutoMLWidget(widget_settings={'childWidgetDisplay': 'popup', 'send_telemetry': False, 'log_level': 'INFO', 's…"
      ]
     },
     "metadata": {},
     "output_type": "display_data"
    },
    {
     "data": {
      "application/aml.mini.widget.v1": "{\"status\": \"Completed\", \"workbench_run_details_uri\": \"https://ml.azure.com/runs/AutoML_05a05f45-6d7e-45e1-9b2a-41ff3dd9d4af?wsid=/subscriptions/0c19fc19-85fd-4aa4-b133-61dd20fa93df/resourcegroups/edwin.spartan117-rg/workspaces/auotml-example-workspace&tid=c5f4b1c2-b533-4788-b1c5-99d0f10fb9b6\", \"run_id\": \"AutoML_05a05f45-6d7e-45e1-9b2a-41ff3dd9d4af\", \"run_properties\": {\"run_id\": \"AutoML_05a05f45-6d7e-45e1-9b2a-41ff3dd9d4af\", \"created_utc\": \"2023-11-22T09:03:36.916289Z\", \"properties\": {\"num_iterations\": \"1000\", \"training_type\": \"TrainFull\", \"acquisition_function\": \"EI\", \"primary_metric\": \"normalized_root_mean_squared_error\", \"train_split\": \"0\", \"acquisition_parameter\": \"0\", \"num_cross_validation\": \"10\", \"target\": \"automl-cluster\", \"AMLSettingsJsonString\": \"{\\\"path\\\":null,\\\"name\\\":\\\"Diabetes-Sample-Regression\\\",\\\"subscription_id\\\":\\\"0c19fc19-85fd-4aa4-b133-61dd20fa93df\\\",\\\"resource_group\\\":\\\"edwin.spartan117-rg\\\",\\\"workspace_name\\\":\\\"auotml-example-workspace\\\",\\\"region\\\":\\\"southeastasia\\\",\\\"compute_target\\\":\\\"automl-cluster\\\",\\\"spark_service\\\":null,\\\"azure_service\\\":\\\"remote\\\",\\\"many_models\\\":false,\\\"pipeline_fetch_max_batch_size\\\":1,\\\"enable_batch_run\\\":true,\\\"enable_parallel_run\\\":false,\\\"num_procs\\\":null,\\\"enable_run_restructure\\\":false,\\\"start_auxiliary_runs_before_parent_complete\\\":false,\\\"enable_code_generation\\\":true,\\\"iterations\\\":1000,\\\"primary_metric\\\":\\\"normalized_root_mean_squared_error\\\",\\\"task_type\\\":\\\"regression\\\",\\\"positive_label\\\":null,\\\"data_script\\\":null,\\\"test_size\\\":0.0,\\\"test_include_predictions_only\\\":false,\\\"validation_size\\\":0.0,\\\"n_cross_validations\\\":10,\\\"y_min\\\":null,\\\"y_max\\\":null,\\\"num_classes\\\":null,\\\"featurization\\\":\\\"auto\\\",\\\"_ignore_package_version_incompatibilities\\\":false,\\\"is_timeseries\\\":false,\\\"max_cores_per_iteration\\\":1,\\\"max_concurrent_iterations\\\":1,\\\"iteration_timeout_minutes\\\":null,\\\"mem_in_mb\\\":null,\\\"enforce_time_on_windows\\\":false,\\\"experiment_timeout_minutes\\\":30,\\\"experiment_exit_score\\\":null,\\\"partition_column_names\\\":null,\\\"whitelist_models\\\":null,\\\"blacklist_algos\\\":[\\\"TensorFlowDNN\\\",\\\"TensorFlowLinearRegressor\\\"],\\\"supported_models\\\":[\\\"DecisionTree\\\",\\\"TensorFlowDNN\\\",\\\"FastLinearRegressor\\\",\\\"TensorFlowLinearRegressor\\\",\\\"ElasticNet\\\",\\\"GradientBoosting\\\",\\\"SGD\\\",\\\"ExtremeRandomTrees\\\",\\\"LassoLars\\\",\\\"KNN\\\",\\\"LightGBM\\\",\\\"RandomForest\\\",\\\"OnlineGradientDescentRegressor\\\",\\\"XGBoostRegressor\\\",\\\"TabnetRegressor\\\"],\\\"private_models\\\":[],\\\"auto_blacklist\\\":true,\\\"blacklist_samples_reached\\\":false,\\\"exclude_nan_labels\\\":true,\\\"verbosity\\\":20,\\\"_debug_log\\\":\\\"azureml_automl.log\\\",\\\"show_warnings\\\":false,\\\"model_explainability\\\":true,\\\"service_url\\\":null,\\\"sdk_url\\\":null,\\\"sdk_packages\\\":null,\\\"enable_onnx_compatible_models\\\":false,\\\"enable_split_onnx_featurizer_estimator_models\\\":false,\\\"vm_type\\\":\\\"STANDARD_DS3_V2\\\",\\\"telemetry_verbosity\\\":20,\\\"send_telemetry\\\":true,\\\"enable_dnn\\\":false,\\\"scenario\\\":\\\"AutoML\\\",\\\"environment_label\\\":null,\\\"save_mlflow\\\":false,\\\"enable_categorical_indicators\\\":false,\\\"force_text_dnn\\\":false,\\\"enable_feature_sweeping\\\":true,\\\"enable_early_stopping\\\":true,\\\"early_stopping_n_iters\\\":10,\\\"arguments\\\":null,\\\"dataset_id\\\":\\\"d5676192-317e-4e8f-a846-0b697fac65fc\\\",\\\"hyperdrive_config\\\":null,\\\"validation_dataset_id\\\":null,\\\"run_source\\\":null,\\\"metrics\\\":null,\\\"enable_metric_confidence\\\":false,\\\"enable_ensembling\\\":true,\\\"enable_stack_ensembling\\\":true,\\\"ensemble_iterations\\\":15,\\\"enable_tf\\\":false,\\\"enable_subsampling\\\":null,\\\"subsample_seed\\\":null,\\\"enable_nimbusml\\\":false,\\\"enable_streaming\\\":false,\\\"force_streaming\\\":false,\\\"track_child_runs\\\":true,\\\"n_best_runs\\\":1,\\\"allowed_private_models\\\":[],\\\"label_column_name\\\":\\\"Y\\\",\\\"weight_column_name\\\":null,\\\"cv_split_column_names\\\":null,\\\"enable_local_managed\\\":false,\\\"_local_managed_run_id\\\":null,\\\"cost_mode\\\":1,\\\"lag_length\\\":0,\\\"metric_operation\\\":\\\"minimize\\\",\\\"preprocess\\\":true}\", \"DataPrepJsonString\": \"{\\\\\\\"training_data\\\\\\\": {\\\\\\\"datasetId\\\\\\\": \\\\\\\"d5676192-317e-4e8f-a846-0b697fac65fc\\\\\\\"}, \\\\\\\"datasets\\\\\\\": 0}\", \"EnableSubsampling\": null, \"runTemplate\": \"AutoML\", \"azureml.runsource\": \"automl\", \"display_task_type\": \"regression\", \"dependencies_versions\": \"{\\\"azureml-dataprep-native\\\": \\\"38.0.0\\\", \\\"azureml-dataprep\\\": \\\"4.10.8\\\", \\\"azureml-dataprep-rslex\\\": \\\"2.17.12\\\", \\\"azureml-train-automl-runtime\\\": \\\"1.51.0.post2\\\", \\\"azureml-train-automl-client\\\": \\\"1.51.0.post1\\\", \\\"azureml-training-tabular\\\": \\\"1.51.0.post1\\\", \\\"azureml-automl-runtime\\\": \\\"1.51.0.post1\\\", \\\"azureml-automl-core\\\": \\\"1.51.0.post1\\\", \\\"azureml-mlflow\\\": \\\"1.51.0\\\", \\\"azureml-datadrift\\\": \\\"1.51.0\\\", \\\"azureml-pipeline\\\": \\\"1.51.0\\\", \\\"azureml-contrib-dataset\\\": \\\"1.51.0\\\", \\\"azureml-contrib-notebook\\\": \\\"1.51.0\\\", \\\"azureml-accel-models\\\": \\\"1.51.0\\\", \\\"azureml-automl-dnn-nlp\\\": \\\"1.51.0\\\", \\\"azureml-pipeline-core\\\": \\\"1.51.0\\\", \\\"azureml-responsibleai\\\": \\\"1.51.0\\\", \\\"azureml-contrib-automl-pipeline-steps\\\": \\\"1.51.0\\\", \\\"azureml-pipeline-steps\\\": \\\"1.51.0\\\", \\\"azureml-core\\\": \\\"1.51.0\\\", \\\"azureml-contrib-reinforcementlearning\\\": \\\"1.51.0\\\", \\\"azureml-contrib-server\\\": \\\"1.51.0\\\", \\\"azureml-opendatasets\\\": \\\"1.51.0\\\", \\\"azureml-contrib-services\\\": \\\"1.51.0\\\", \\\"azureml-telemetry\\\": \\\"1.51.0\\\", \\\"azureml-train-restclients-hyperdrive\\\": \\\"1.51.0\\\", \\\"azureml-interpret\\\": \\\"1.51.0\\\", \\\"azureml-train-core\\\": \\\"1.51.0\\\", \\\"azureml-tensorboard\\\": \\\"1.51.0\\\", \\\"azureml-train\\\": \\\"1.51.0\\\", \\\"azureml-contrib-pipeline-steps\\\": \\\"1.51.0\\\", \\\"azureml-explain-model\\\": \\\"1.51.0\\\", \\\"azureml-cli-common\\\": \\\"1.51.0\\\", \\\"azureml-widgets\\\": \\\"1.51.0\\\", \\\"azureml-train-automl\\\": \\\"1.51.0\\\", \\\"azureml-defaults\\\": \\\"1.51.0\\\", \\\"azureml-contrib-fairness\\\": \\\"1.51.0\\\", \\\"azureml-sdk\\\": \\\"1.51.0\\\", \\\"azureml-dataset-runtime\\\": \\\"1.51.0\\\", \\\"azureml-inference-server-http\\\": \\\"0.8.4\\\"}\", \"_aml_system_scenario_identification\": \"Remote.Parent\", \"ClientType\": \"SDK\", \"PlatformVersion\": \"DPV1\", \"environment_cpu_name\": \"AzureML-AutoML\", \"environment_cpu_label\": \"scikit-upgrade2\", \"environment_gpu_name\": \"AzureML-AutoML-GPU\", \"environment_gpu_label\": \"scikit-upgrade2\", \"root_attribution\": \"automl\", \"attribution\": \"AutoML\", \"Orchestrator\": \"AutoML\", \"CancelUri\": \"https://southeastasia.api.azureml.ms/jasmine/v1.0/subscriptions/0c19fc19-85fd-4aa4-b133-61dd20fa93df/resourceGroups/edwin.spartan117-rg/providers/Microsoft.MachineLearningServices/workspaces/auotml-example-workspace/experimentids/a3d12a08-791d-439a-afd7-576d6b795663/cancel/AutoML_05a05f45-6d7e-45e1-9b2a-41ff3dd9d4af\", \"ClientSdkVersion\": null, \"snapshotId\": \"00000000-0000-0000-0000-000000000000\", \"SetupRunId\": \"AutoML_05a05f45-6d7e-45e1-9b2a-41ff3dd9d4af_setup\", \"SetupRunContainerId\": \"dcid.AutoML_05a05f45-6d7e-45e1-9b2a-41ff3dd9d4af_setup\", \"FeaturizationRunJsonPath\": \"featurizer_container.json\", \"FeaturizationRunId\": \"AutoML_05a05f45-6d7e-45e1-9b2a-41ff3dd9d4af_featurize\", \"ProblemInfoJsonString\": \"{\\\"dataset_num_categorical\\\": 0, \\\"is_sparse\\\": false, \\\"subsampling\\\": false, \\\"has_extra_col\\\": true, \\\"dataset_classes\\\": 214, \\\"dataset_features\\\": 10, \\\"dataset_samples\\\": 442, \\\"single_frequency_class_detected\\\": false}\", \"ModelExplainRunId\": \"AutoML_05a05f45-6d7e-45e1-9b2a-41ff3dd9d4af_ModelExplain\"}, \"tags\": {\"model_explain_run\": \"best_run\", \"_aml_system_automl_run_workspace_id\": \"080e5758-0b91-49eb-ac97-661db0f2b2eb\", \"_aml_system_azureml.automlComponent\": \"AutoML\", \"pipeline_id_000\": \"faf12f74cf9bbd358ca5525682c5030d36f7be7c;4bc4ec47eb8df2d5d68b361cd60120e65196f757;2dc95d8bafd84221b8de309021c722b4fa570e77;25f83b241b8941c8c1f896a8338015dbab159f71;1ee8bbdda30f414fb76bee47d543cd5e109dcdf8;86f7c6ce026522eff88f32e647e3e27450da2679;6ea29a0b9fd1f634678397a456aaf8d4d853f689;7839ca66a0ff9be386363c852f0384a7b2a1c93f;4379608887dc335ce8c4ec4afbec7da03177d166;ae729f09378486945c70eb2a2306f8aa8f4e30a7;13907c2227a8ccd337dcfb9775a6091b777331e0;7b7eb05148aedbc9f680e7533de408ae512d737a;65d7c43a91915b98bea837d39e652767814c8983;480f8271b09711d8daebb36454a153b84ef1254e;e647a57da02d25aba6061b72d5df7283520175ad;b5f35f573ce4f6e8526176d4e0932b5193598307;3840ebb82b060782c0c1aaabbe352751ed0cb999;1f8577810e0ef1b58bfcf0cc67c0115f13247d60;322472bb82968b4f37e85efa3a44571fd0e0a889;8e46c6fe09217362012480a5578772e593fb1c7f;4cc886b6cc871877ba95e8363fa9d7a6ab1642d2;9f85195d2e27cf1becfe0fb8f9586381f62892ea;896f00b6bc0c96d74747e256f9eb1c1119660c46;221f78ec666d4b1d460391d52f75942aefd7a9ce;a4bbab68227b8ab31c9adc7cc80caac1686ad968;a9311fa5036140fafea31c926bdf3b19a6e2c717;1f9f6ba360637df5300c0bd1097a408d004693e0;0ab67155c44b17e79c2449c6d1c988938f6df4f9;50c7d01c9c0fd71f911ac3d53af72a790e6a8bc7;6fe6b24b2a7b09c60685c48cae3f1a94c85f3685;__AutoML_Ensemble__;__AutoML_Stack_Ensemble__\", \"score_000\": \"0.18585110825186782;0.1953280542646287;0.17088654481168936;0.17040629123826287;0.17049966670266822;0.17039011648703006;0.17867247659755212;0.170709187947094;0.17038877891916715;0.1703945675771152;0.17039405592210316;0.1747473194433528;0.19010779901402405;0.17241160679342205;0.17832441984480665;0.18388012650018454;0.1910140398224538;0.1803901729401785;0.20270323457163783;0.17605623134030282;0.1765315174390831;0.17687450529130258;0.1780551495884855;0.1752849684228158;0.17196030374898297;0.1918696523373506;0.17619690518523995;0.17329612843597986;0.17736086621477973;0.17435020300415277;0.16798543852690023;0.1700952591012142\", \"predicted_cost_000\": \"0;0;0.5;0.5;0.5;0.5;0.5;0.5;0.5;0.5;0.5;0.5;0.5;0.5;0.5;0.5;0.5;0.5;0.5;0.5;0.027449964687514334;0.017650945722048585;0.07449842006475657;0.027758904818826438;0.031831422191621536;0.005574940349183364;0.056316435805352755;0.0944213265150165;0.028840069244883117;0.09426276643040538;0;0\", \"fit_time_000\": \"0.034090999999999996;0.1030171;0.0030364000000000003;0.006128799999999999;0.0030515;0.0038880999999999994;0.039204100000000006;0.0028818999999999997;0.004274200000000001;0.0049318;0.0053993;0.0389737;0.05958909999999999;0.058345199999999986;0.0222489;0.015568000000000002;0.0037860000000000003;0.016206500000000002;0.0033366;0.06632400000000001;0.0149664;0.016223099999999997;0.056851700000000005;0.04538380000000001;0.0106318;0.0022532000000000003;0.21180159999999998;0.11013599999999998;0.07443290000000001;0.2176399;12;13\", \"training_percent_000\": \"100;100;100;100;100;100;100;100;100;100;100;100;100;100;100;100;100;100;100;100;100;100;100;100;100;100;100;100;100;100;100;100\", \"iteration_000\": \"0;1;2;3;4;5;6;7;8;9;10;11;12;13;14;15;16;17;18;19;20;21;22;23;24;25;26;27;28;29;30;31\", \"run_preprocessor_000\": \"MaxAbsScaler;MaxAbsScaler;MaxAbsScaler;RobustScaler;MinMaxScaler;StandardScalerWrapper;MinMaxScaler;MaxAbsScaler;StandardScalerWrapper;MaxAbsScaler;StandardScalerWrapper;MinMaxScaler;MinMaxScaler;MinMaxScaler;MinMaxScaler;MaxAbsScaler;MinMaxScaler;RobustScaler;RobustScaler;MaxAbsScaler;StandardScalerWrapper;StandardScalerWrapper;StandardScalerWrapper;StandardScalerWrapper;MinMaxScaler;MinMaxScaler;RobustScaler;RobustScaler;StandardScalerWrapper;MinMaxScaler;;\", \"run_algorithm_000\": \"LightGBM;XGBoostRegressor;ElasticNet;ElasticNet;ElasticNet;ElasticNet;RandomForest;ElasticNet;ElasticNet;ElasticNet;ElasticNet;ExtremeRandomTrees;RandomForest;ExtremeRandomTrees;ExtremeRandomTrees;ExtremeRandomTrees;DecisionTree;ExtremeRandomTrees;DecisionTree;RandomForest;ExtremeRandomTrees;RandomForest;ExtremeRandomTrees;ExtremeRandomTrees;LightGBM;ElasticNet;ExtremeRandomTrees;ExtremeRandomTrees;RandomForest;ExtremeRandomTrees;VotingEnsemble;StackEnsemble\", \"dynamic_allowlisting_iterations\": \"<25>;\", \"_aml_system_azureml.automl_early_exit_message\": \"No scores improved over last 10 iterations, so experiment stopped early. This early stopping behavior can be disabled by setting enable_early_stopping = False in AutoMLConfig for notebook/python SDK runs.\", \"automl_best_child_run_id\": \"AutoML_05a05f45-6d7e-45e1-9b2a-41ff3dd9d4af_30\", \"model_explain_best_run_child_id\": \"AutoML_05a05f45-6d7e-45e1-9b2a-41ff3dd9d4af_30\"}, \"end_time_utc\": \"2023-11-22T09:29:26.067556Z\", \"status\": \"Completed\", \"log_files\": {}, \"log_groups\": [], \"run_duration\": \"0:25:49\", \"run_number\": \"1700643816\", \"run_queued_details\": {\"status\": \"Completed\", \"details\": null}}, \"child_runs\": [{\"run_id\": \"AutoML_05a05f45-6d7e-45e1-9b2a-41ff3dd9d4af_setup\", \"run_number\": 1700643829, \"metric\": null, \"status\": \"Completed\", \"run_type\": \"azureml.scriptrun\", \"training_percent\": null, \"start_time\": \"2023-11-22T09:06:54.204728Z\", \"end_time\": \"2023-11-22T09:08:35.163715Z\", \"created_time\": \"2023-11-22T09:03:49.332125Z\", \"created_time_dt\": \"2023-11-22T09:03:49.332125Z\", \"duration\": \"0:04:45\", \"iteration\": null, \"goal\": null, \"run_name\": \"Completed\", \"run_properties\": null}, {\"run_id\": \"AutoML_05a05f45-6d7e-45e1-9b2a-41ff3dd9d4af_featurize\", \"run_number\": 1700644115, \"metric\": null, \"status\": \"Completed\", \"run_type\": \"automl.featurization\", \"training_percent\": null, \"start_time\": \"2023-11-22T09:08:35.721589Z\", \"end_time\": \"2023-11-22T09:09:36.983359Z\", \"created_time\": \"2023-11-22T09:08:35.454302Z\", \"created_time_dt\": \"2023-11-22T09:08:35.454302Z\", \"duration\": \"0:01:01\", \"iteration\": null, \"goal\": null, \"run_name\": \"Completed\", \"run_properties\": null}, {\"run_id\": \"AutoML_05a05f45-6d7e-45e1-9b2a-41ff3dd9d4af_0\", \"run_number\": 1700644178, \"metric\": null, \"status\": \"Completed\", \"run_type\": null, \"training_percent\": \"100\", \"start_time\": \"2023-11-22T09:10:17.900333Z\", \"end_time\": \"2023-11-22T09:10:31.084059Z\", \"created_time\": \"2023-11-22T09:09:38.705683Z\", \"created_time_dt\": \"2023-11-22T09:09:38.705683Z\", \"duration\": \"0:00:52\", \"iteration\": \"0\", \"goal\": \"normalized_root_mean_squared_error_min\", \"run_name\": \"MaxAbsScaler, LightGBM\", \"run_properties\": \"copy=True\", \"primary_metric\": 0.18585111, \"best_metric\": 0.18585111}, {\"run_id\": \"AutoML_05a05f45-6d7e-45e1-9b2a-41ff3dd9d4af_1\", \"run_number\": 1700644179, \"metric\": null, \"status\": \"Completed\", \"run_type\": null, \"training_percent\": \"100\", \"start_time\": \"2023-11-22T09:10:33.10392Z\", \"end_time\": \"2023-11-22T09:10:45.02341Z\", \"created_time\": \"2023-11-22T09:09:39.196487Z\", \"created_time_dt\": \"2023-11-22T09:09:39.196487Z\", \"duration\": \"0:01:05\", \"iteration\": \"1\", \"goal\": \"normalized_root_mean_squared_error_min\", \"run_name\": \"MaxAbsScaler, XGBoostRegressor\", \"run_properties\": \"copy=True\", \"primary_metric\": 0.19532805, \"best_metric\": 0.18585111}, {\"run_id\": \"AutoML_05a05f45-6d7e-45e1-9b2a-41ff3dd9d4af_3\", \"run_number\": 1700644180, \"metric\": null, \"status\": \"Completed\", \"run_type\": null, \"training_percent\": \"100\", \"start_time\": \"2023-11-22T09:10:57.901151Z\", \"end_time\": \"2023-11-22T09:11:08.303641Z\", \"created_time\": \"2023-11-22T09:09:40.055442Z\", \"created_time_dt\": \"2023-11-22T09:09:40.055442Z\", \"duration\": \"0:01:28\", \"iteration\": \"3\", \"goal\": \"normalized_root_mean_squared_error_min\", \"run_name\": \"RobustScaler, ElasticNet\", \"run_properties\": \"copy=True, quantile_range=[10, 90], with_centering=True,\\n             with_scaling=False\", \"primary_metric\": 0.17040629, \"best_metric\": 0.17040629}, {\"run_id\": \"AutoML_05a05f45-6d7e-45e1-9b2a-41ff3dd9d4af_6\", \"run_number\": 1700644181, \"metric\": null, \"status\": \"Completed\", \"run_type\": null, \"training_percent\": \"100\", \"start_time\": \"2023-11-22T09:11:35.978887Z\", \"end_time\": \"2023-11-22T09:11:46.494428Z\", \"created_time\": \"2023-11-22T09:09:41.346416Z\", \"created_time_dt\": \"2023-11-22T09:09:41.346416Z\", \"duration\": \"0:02:05\", \"iteration\": \"6\", \"goal\": \"normalized_root_mean_squared_error_min\", \"run_name\": \"MinMaxScaler, RandomForest\", \"run_properties\": \"copy=True, feature_range=(0, 1\", \"primary_metric\": 0.17867248, \"best_metric\": 0.17040629}, {\"run_id\": \"AutoML_05a05f45-6d7e-45e1-9b2a-41ff3dd9d4af_8\", \"run_number\": 1700644182, \"metric\": null, \"status\": \"Completed\", \"run_type\": null, \"training_percent\": \"100\", \"start_time\": \"2023-11-22T09:11:58.167544Z\", \"end_time\": \"2023-11-22T09:12:08.262494Z\", \"created_time\": \"2023-11-22T09:09:42.171492Z\", \"created_time_dt\": \"2023-11-22T09:09:42.171492Z\", \"duration\": \"0:02:26\", \"iteration\": \"8\", \"goal\": \"normalized_root_mean_squared_error_min\", \"run_name\": \"StandardScalerWrapper, ElasticNet\", \"run_properties\": \"copy=True, with_mean=True, with_std=False\", \"primary_metric\": 0.17038878, \"best_metric\": 0.17038878}, {\"run_id\": \"AutoML_05a05f45-6d7e-45e1-9b2a-41ff3dd9d4af_10\", \"run_number\": 1700644183, \"metric\": null, \"status\": \"Completed\", \"run_type\": null, \"training_percent\": \"100\", \"start_time\": \"2023-11-22T09:12:20.081274Z\", \"end_time\": \"2023-11-22T09:12:30.353449Z\", \"created_time\": \"2023-11-22T09:09:43.136119Z\", \"created_time_dt\": \"2023-11-22T09:09:43.136119Z\", \"duration\": \"0:02:47\", \"iteration\": \"10\", \"goal\": \"normalized_root_mean_squared_error_min\", \"run_name\": \"StandardScalerWrapper, ElasticNet\", \"run_properties\": \"copy=True, with_mean=True, with_std=False\", \"primary_metric\": 0.17039406, \"best_metric\": 0.17038878}, {\"run_id\": \"AutoML_05a05f45-6d7e-45e1-9b2a-41ff3dd9d4af_13\", \"run_number\": 1700644184, \"metric\": null, \"status\": \"Completed\", \"run_type\": null, \"training_percent\": \"100\", \"start_time\": \"2023-11-22T09:12:55.558272Z\", \"end_time\": \"2023-11-22T09:13:06.804418Z\", \"created_time\": \"2023-11-22T09:09:44.368156Z\", \"created_time_dt\": \"2023-11-22T09:09:44.368156Z\", \"duration\": \"0:03:22\", \"iteration\": \"13\", \"goal\": \"normalized_root_mean_squared_error_min\", \"run_name\": \"MinMaxScaler, ExtremeRandomTrees\", \"run_properties\": \"copy=True, feature_range=(0, 1\", \"primary_metric\": 0.17241161, \"best_metric\": 0.17038878}, {\"run_id\": \"AutoML_05a05f45-6d7e-45e1-9b2a-41ff3dd9d4af_15\", \"run_number\": 1700644185, \"metric\": null, \"status\": \"Completed\", \"run_type\": null, \"training_percent\": \"100\", \"start_time\": \"2023-11-22T09:13:18.559784Z\", \"end_time\": \"2023-11-22T09:13:29.021703Z\", \"created_time\": \"2023-11-22T09:09:45.32252Z\", \"created_time_dt\": \"2023-11-22T09:09:45.32252Z\", \"duration\": \"0:03:43\", \"iteration\": \"15\", \"goal\": \"normalized_root_mean_squared_error_min\", \"run_name\": \"MaxAbsScaler, ExtremeRandomTrees\", \"run_properties\": \"copy=True\", \"primary_metric\": 0.18388013, \"best_metric\": 0.17038878}, {\"run_id\": \"AutoML_05a05f45-6d7e-45e1-9b2a-41ff3dd9d4af_17\", \"run_number\": 1700644186, \"metric\": null, \"status\": \"Completed\", \"run_type\": null, \"training_percent\": \"100\", \"start_time\": \"2023-11-22T09:13:40.769871Z\", \"end_time\": \"2023-11-22T09:13:51.256624Z\", \"created_time\": \"2023-11-22T09:09:46.16327Z\", \"created_time_dt\": \"2023-11-22T09:09:46.16327Z\", \"duration\": \"0:04:05\", \"iteration\": \"17\", \"goal\": \"normalized_root_mean_squared_error_min\", \"run_name\": \"RobustScaler, ExtremeRandomTrees\", \"run_properties\": \"copy=True, quantile_range=[10, 90], with_centering=False,\\n             with_scaling=False\", \"primary_metric\": 0.18039017, \"best_metric\": 0.17038878}, {\"run_id\": \"AutoML_05a05f45-6d7e-45e1-9b2a-41ff3dd9d4af_worker_0\", \"run_number\": 1700644187, \"metric\": null, \"status\": \"Completed\", \"run_type\": \"azureml.scriptrun\", \"training_percent\": null, \"start_time\": \"2023-11-22T09:10:09.349922Z\", \"end_time\": \"2023-11-22T09:14:26.038852Z\", \"created_time\": \"2023-11-22T09:09:47.329193Z\", \"created_time_dt\": \"2023-11-22T09:09:47.329193Z\", \"duration\": \"0:04:38\", \"iteration\": null, \"goal\": null, \"run_name\": \"Completed\", \"run_properties\": null}, {\"run_id\": \"AutoML_05a05f45-6d7e-45e1-9b2a-41ff3dd9d4af_20\", \"run_number\": 1700644721, \"metric\": null, \"status\": \"Completed\", \"run_type\": \"azureml.scriptrun\", \"training_percent\": \"100\", \"start_time\": \"2023-11-22T09:19:05.900781Z\", \"end_time\": \"2023-11-22T09:19:40.049111Z\", \"created_time\": \"2023-11-22T09:18:41.35111Z\", \"created_time_dt\": \"2023-11-22T09:18:41.35111Z\", \"duration\": \"0:00:58\", \"iteration\": \"20\", \"goal\": \"normalized_root_mean_squared_error_min\", \"run_name\": \"StandardScalerWrapper, ExtremeRandomTrees\", \"run_properties\": \"copy=True, with_mean=True, with_std=False\", \"primary_metric\": 0.17653152, \"best_metric\": 0.17038878}, {\"run_id\": \"AutoML_05a05f45-6d7e-45e1-9b2a-41ff3dd9d4af_21\", \"run_number\": 1700644782, \"metric\": null, \"status\": \"Completed\", \"run_type\": \"azureml.scriptrun\", \"training_percent\": \"100\", \"start_time\": \"2023-11-22T09:20:03.319323Z\", \"end_time\": \"2023-11-22T09:20:30.09281Z\", \"created_time\": \"2023-11-22T09:19:42.184281Z\", \"created_time_dt\": \"2023-11-22T09:19:42.184281Z\", \"duration\": \"0:00:47\", \"iteration\": \"21\", \"goal\": \"normalized_root_mean_squared_error_min\", \"run_name\": \"StandardScalerWrapper, RandomForest\", \"run_properties\": \"copy=True, with_mean=True, with_std=False\", \"primary_metric\": 0.17687451, \"best_metric\": 0.17038878}, {\"run_id\": \"AutoML_05a05f45-6d7e-45e1-9b2a-41ff3dd9d4af_22\", \"run_number\": 1700644831, \"metric\": null, \"status\": \"Completed\", \"run_type\": \"azureml.scriptrun\", \"training_percent\": \"100\", \"start_time\": \"2023-11-22T09:20:51.742611Z\", \"end_time\": \"2023-11-22T09:21:19.211312Z\", \"created_time\": \"2023-11-22T09:20:31.495149Z\", \"created_time_dt\": \"2023-11-22T09:20:31.495149Z\", \"duration\": \"0:00:47\", \"iteration\": \"22\", \"goal\": \"normalized_root_mean_squared_error_min\", \"run_name\": \"StandardScalerWrapper, ExtremeRandomTrees\", \"run_properties\": \"copy=True, with_mean=True, with_std=True\", \"primary_metric\": 0.17805515, \"best_metric\": 0.17038878}, {\"run_id\": \"AutoML_05a05f45-6d7e-45e1-9b2a-41ff3dd9d4af_23\", \"run_number\": 1700644880, \"metric\": null, \"status\": \"Completed\", \"run_type\": \"azureml.scriptrun\", \"training_percent\": \"100\", \"start_time\": \"2023-11-22T09:21:41.00046Z\", \"end_time\": \"2023-11-22T09:22:09.466437Z\", \"created_time\": \"2023-11-22T09:21:20.589185Z\", \"created_time_dt\": \"2023-11-22T09:21:20.589185Z\", \"duration\": \"0:00:48\", \"iteration\": \"23\", \"goal\": \"normalized_root_mean_squared_error_min\", \"run_name\": \"StandardScalerWrapper, ExtremeRandomTrees\", \"run_properties\": \"copy=True, with_mean=True, with_std=True\", \"primary_metric\": 0.17528497, \"best_metric\": 0.17038878}, {\"run_id\": \"AutoML_05a05f45-6d7e-45e1-9b2a-41ff3dd9d4af_24\", \"run_number\": 1700644931, \"metric\": null, \"status\": \"Completed\", \"run_type\": \"azureml.scriptrun\", \"training_percent\": \"100\", \"start_time\": \"2023-11-22T09:22:30.721457Z\", \"end_time\": \"2023-11-22T09:22:58.569102Z\", \"created_time\": \"2023-11-22T09:22:11.026216Z\", \"created_time_dt\": \"2023-11-22T09:22:11.026216Z\", \"duration\": \"0:00:47\", \"iteration\": \"24\", \"goal\": \"normalized_root_mean_squared_error_min\", \"run_name\": \"MinMaxScaler, LightGBM\", \"run_properties\": \"copy=True, feature_range=(0, 1\", \"primary_metric\": 0.1719603, \"best_metric\": 0.17038878}, {\"run_id\": \"AutoML_05a05f45-6d7e-45e1-9b2a-41ff3dd9d4af_25\", \"run_number\": 1700644980, \"metric\": null, \"status\": \"Completed\", \"run_type\": \"azureml.scriptrun\", \"training_percent\": \"100\", \"start_time\": \"2023-11-22T09:23:22.261492Z\", \"end_time\": \"2023-11-22T09:23:49.070581Z\", \"created_time\": \"2023-11-22T09:23:00.637048Z\", \"created_time_dt\": \"2023-11-22T09:23:00.637048Z\", \"duration\": \"0:00:48\", \"iteration\": \"25\", \"goal\": \"normalized_root_mean_squared_error_min\", \"run_name\": \"MinMaxScaler, ElasticNet\", \"run_properties\": \"copy=True, feature_range=(0, 1\", \"primary_metric\": 0.19186965, \"best_metric\": 0.17038878}, {\"run_id\": \"AutoML_05a05f45-6d7e-45e1-9b2a-41ff3dd9d4af_26\", \"run_number\": 1700645030, \"metric\": null, \"status\": \"Completed\", \"run_type\": \"azureml.scriptrun\", \"training_percent\": \"100\", \"start_time\": \"2023-11-22T09:24:11.547274Z\", \"end_time\": \"2023-11-22T09:24:42.150677Z\", \"created_time\": \"2023-11-22T09:23:50.439144Z\", \"created_time_dt\": \"2023-11-22T09:23:50.439144Z\", \"duration\": \"0:00:51\", \"iteration\": \"26\", \"goal\": \"normalized_root_mean_squared_error_min\", \"run_name\": \"RobustScaler, ExtremeRandomTrees\", \"run_properties\": \"copy=True, quantile_range=[10, 90], with_centering=False,\\n             with_scaling=True\", \"primary_metric\": 0.17619691, \"best_metric\": 0.17038878}, {\"run_id\": \"AutoML_05a05f45-6d7e-45e1-9b2a-41ff3dd9d4af_27\", \"run_number\": 1700645083, \"metric\": null, \"status\": \"Completed\", \"run_type\": \"azureml.scriptrun\", \"training_percent\": \"100\", \"start_time\": \"2023-11-22T09:25:04.896676Z\", \"end_time\": \"2023-11-22T09:25:33.52801Z\", \"created_time\": \"2023-11-22T09:24:43.448406Z\", \"created_time_dt\": \"2023-11-22T09:24:43.448406Z\", \"duration\": \"0:00:50\", \"iteration\": \"27\", \"goal\": \"normalized_root_mean_squared_error_min\", \"run_name\": \"RobustScaler, ExtremeRandomTrees\", \"run_properties\": \"copy=True, quantile_range=[25, 75], with_centering=False,\\n             with_scaling=False\", \"primary_metric\": 0.17329613, \"best_metric\": 0.17038878}, {\"run_id\": \"AutoML_05a05f45-6d7e-45e1-9b2a-41ff3dd9d4af_28\", \"run_number\": 1700645134, \"metric\": null, \"status\": \"Completed\", \"run_type\": \"azureml.scriptrun\", \"training_percent\": \"100\", \"start_time\": \"2023-11-22T09:25:54.04679Z\", \"end_time\": \"2023-11-22T09:26:23.924371Z\", \"created_time\": \"2023-11-22T09:25:34.91165Z\", \"created_time_dt\": \"2023-11-22T09:25:34.91165Z\", \"duration\": \"0:00:49\", \"iteration\": \"28\", \"goal\": \"normalized_root_mean_squared_error_min\", \"run_name\": \"StandardScalerWrapper, RandomForest\", \"run_properties\": \"copy=True, with_mean=True, with_std=True\", \"primary_metric\": 0.17736087, \"best_metric\": 0.17038878}, {\"run_id\": \"AutoML_05a05f45-6d7e-45e1-9b2a-41ff3dd9d4af_29\", \"run_number\": 1700645185, \"metric\": null, \"status\": \"Completed\", \"run_type\": \"azureml.scriptrun\", \"training_percent\": \"100\", \"start_time\": \"2023-11-22T09:26:45.660162Z\", \"end_time\": \"2023-11-22T09:27:15.091137Z\", \"created_time\": \"2023-11-22T09:26:25.389161Z\", \"created_time_dt\": \"2023-11-22T09:26:25.389161Z\", \"duration\": \"0:00:49\", \"iteration\": \"29\", \"goal\": \"normalized_root_mean_squared_error_min\", \"run_name\": \"MinMaxScaler, ExtremeRandomTrees\", \"run_properties\": \"copy=True, feature_range=(0, 1\", \"primary_metric\": 0.1743502, \"best_metric\": 0.17038878}, {\"run_id\": \"AutoML_05a05f45-6d7e-45e1-9b2a-41ff3dd9d4af_30\", \"run_number\": 1700645235, \"metric\": null, \"status\": \"Completed\", \"run_type\": \"azureml.scriptrun\", \"training_percent\": \"100\", \"start_time\": \"2023-11-22T09:27:36.253219Z\", \"end_time\": \"2023-11-22T09:28:18.477617Z\", \"created_time\": \"2023-11-22T09:27:15.776885Z\", \"created_time_dt\": \"2023-11-22T09:27:15.776885Z\", \"duration\": \"0:01:02\", \"iteration\": \"30\", \"goal\": \"normalized_root_mean_squared_error_min\", \"run_name\": \"VotingEnsemble\", \"run_properties\": \"estimators=[('8', Pipeline(memory=None, steps=[('standardscalerwrapper', StandardScalerWrapper(copy=True, with_mean=True, with_std=False\", \"primary_metric\": 0.16798544, \"best_metric\": 0.16798544}, {\"run_id\": \"AutoML_05a05f45-6d7e-45e1-9b2a-41ff3dd9d4af_31\", \"run_number\": 1700645299, \"metric\": null, \"status\": \"Completed\", \"run_type\": \"azureml.scriptrun\", \"training_percent\": \"100\", \"start_time\": \"2023-11-22T09:28:41.650097Z\", \"end_time\": \"2023-11-22T09:29:25.047562Z\", \"created_time\": \"2023-11-22T09:28:19.084793Z\", \"created_time_dt\": \"2023-11-22T09:28:19.084793Z\", \"duration\": \"0:01:05\", \"iteration\": \"31\", \"goal\": \"normalized_root_mean_squared_error_min\", \"run_name\": \"StackEnsemble\", \"run_properties\": \"base_learners=[('8', Pipeline(memory=None, steps=[('standardscalerwrapper', StandardScalerWrapper(copy=True, with_mean=True, with_std=False\", \"primary_metric\": 0.17009526, \"best_metric\": 0.16798544}], \"children_metrics\": {\"categories\": [0], \"series\": {\"explained_variance\": [{\"categories\": [\"0\", \"1\", \"3\", \"6\", \"8\", \"10\", \"13\", \"15\", \"17\", \"20\", \"21\", \"22\", \"23\", \"24\", \"25\", \"26\", \"27\", \"28\", \"29\", \"30\", \"31\"], \"mode\": \"markers\", \"name\": \"explained_variance\", \"stepped\": false, \"type\": \"scatter\", \"data\": [0.3810966746975839, 0.31758222517057094, 0.47875337620498337, 0.4331594399794806, 0.47877576925685306, 0.47877225439316884, 0.4728411380679045, 0.398819356562505, 0.4205588153793448, 0.45095339937354534, 0.4516146740447242, 0.44419046199982465, 0.45982919792536653, 0.4736273051453094, 0.3590170449444666, 0.45413385384248334, 0.4692097485606399, 0.4408080593770693, 0.4644342751812002, 0.4950479442608585, 0.48461553477257]}, {\"categories\": [\"0\", \"1\", \"3\", \"6\", \"8\", \"10\", \"13\", \"15\", \"17\", \"20\", \"21\", \"22\", \"23\", \"24\", \"25\", \"26\", \"27\", \"28\", \"29\", \"30\", \"31\"], \"mode\": \"lines\", \"name\": \"explained_variance_max\", \"stepped\": true, \"type\": \"scatter\", \"data\": [0.3810966746975839, 0.3810966746975839, 0.47875337620498337, 0.47875337620498337, 0.47877576925685306, 0.47877576925685306, 0.47877576925685306, 0.47877576925685306, 0.47877576925685306, 0.47877576925685306, 0.47877576925685306, 0.47877576925685306, 0.47877576925685306, 0.47877576925685306, 0.47877576925685306, 0.47877576925685306, 0.47877576925685306, 0.47877576925685306, 0.47877576925685306, 0.4950479442608585, 0.4950479442608585]}], \"median_absolute_error\": [{\"categories\": [\"0\", \"1\", \"3\", \"6\", \"8\", \"10\", \"13\", \"15\", \"17\", \"20\", \"21\", \"22\", \"23\", \"24\", \"25\", \"26\", \"27\", \"28\", \"29\", \"30\", \"31\"], \"mode\": \"markers\", \"name\": \"median_absolute_error\", \"stepped\": false, \"type\": \"scatter\", \"data\": [39.90368495117498, 41.02627296447754, 38.46090477317707, 41.0926253968254, 38.45503607497037, 38.469812394674776, 38.67771020203706, 41.535, 41.441856428293924, 43.14795074637209, 43.456071514765156, 45.334878707769164, 44.80408517559066, 39.113436104627795, 50.16763337834389, 44.29509129750608, 40.51873758098131, 40.666069642857124, 43.17149614866097, 39.10988806882223, 39.814970452753094]}, {\"categories\": [\"0\", \"1\", \"3\", \"6\", \"8\", \"10\", \"13\", \"15\", \"17\", \"20\", \"21\", \"22\", \"23\", \"24\", \"25\", \"26\", \"27\", \"28\", \"29\", \"30\", \"31\"], \"mode\": \"lines\", \"name\": \"median_absolute_error_min\", \"stepped\": true, \"type\": \"scatter\", \"data\": [39.90368495117498, 39.90368495117498, 38.46090477317707, 38.46090477317707, 38.45503607497037, 38.45503607497037, 38.45503607497037, 38.45503607497037, 38.45503607497037, 38.45503607497037, 38.45503607497037, 38.45503607497037, 38.45503607497037, 38.45503607497037, 38.45503607497037, 38.45503607497037, 38.45503607497037, 38.45503607497037, 38.45503607497037, 38.45503607497037, 38.45503607497037]}], \"mean_absolute_percentage_error\": [{\"categories\": [\"0\", \"1\", \"3\", \"6\", \"8\", \"10\", \"13\", \"15\", \"17\", \"20\", \"21\", \"22\", \"23\", \"24\", \"25\", \"26\", \"27\", \"28\", \"29\", \"30\", \"31\"], \"mode\": \"markers\", \"name\": \"mean_absolute_percentage_error\", \"stepped\": false, \"type\": \"scatter\", \"data\": [41.195902380783636, 44.58615800939476, 39.659522502446265, 42.01202245789928, 39.67029563695152, 39.666602928154056, 41.00208274616351, 41.99546984916792, 41.682805765364705, 41.95764108635184, 41.89681983625572, 43.20589682305032, 42.8557531118282, 39.52090250379479, 48.71777178838325, 42.952060594744566, 41.107501150582195, 41.48224960811242, 42.24580874002136, 38.9179123349836, 39.34058428809847]}, {\"categories\": [\"0\", \"1\", \"3\", \"6\", \"8\", \"10\", \"13\", \"15\", \"17\", \"20\", \"21\", \"22\", \"23\", \"24\", \"25\", \"26\", \"27\", \"28\", \"29\", \"30\", \"31\"], \"mode\": \"lines\", \"name\": \"mean_absolute_percentage_error_min\", \"stepped\": true, \"type\": \"scatter\", \"data\": [41.195902380783636, 41.195902380783636, 39.659522502446265, 39.659522502446265, 39.659522502446265, 39.659522502446265, 39.659522502446265, 39.659522502446265, 39.659522502446265, 39.659522502446265, 39.659522502446265, 39.659522502446265, 39.659522502446265, 39.52090250379479, 39.52090250379479, 39.52090250379479, 39.52090250379479, 39.52090250379479, 39.52090250379479, 38.9179123349836, 38.9179123349836]}], \"normalized_root_mean_squared_log_error\": [{\"categories\": [\"0\", \"1\", \"3\", \"6\", \"8\", \"10\", \"13\", \"15\", \"17\", \"20\", \"21\", \"22\", \"23\", \"24\", \"25\", \"26\", \"27\", \"28\", \"29\", \"30\", \"31\"], \"mode\": \"markers\", \"name\": \"normalized_root_mean_squared_log_error\", \"stepped\": false, \"type\": \"scatter\", \"data\": [0.17038198878732777, 0.1823306799669684, 0.16282394689368612, 0.1672511504639838, 0.16298599232705469, 0.1629288730415915, 0.16322201159029354, 0.1707339057966344, 0.16739465701942358, 0.16542948066453353, 0.16664100699277976, 0.16782018394622583, 0.16609383665022642, 0.16027789826853794, 0.18142848613404988, 0.16660622039762965, 0.1630132559641661, 0.1663456456717463, 0.16514556024375726, 0.1581170507889708, 0.15948482923496524]}, {\"categories\": [\"0\", \"1\", \"3\", \"6\", \"8\", \"10\", \"13\", \"15\", \"17\", \"20\", \"21\", \"22\", \"23\", \"24\", \"25\", \"26\", \"27\", \"28\", \"29\", \"30\", \"31\"], \"mode\": \"lines\", \"name\": \"normalized_root_mean_squared_log_error_min\", \"stepped\": true, \"type\": \"scatter\", \"data\": [0.17038198878732777, 0.17038198878732777, 0.16282394689368612, 0.16282394689368612, 0.16282394689368612, 0.16282394689368612, 0.16282394689368612, 0.16282394689368612, 0.16282394689368612, 0.16282394689368612, 0.16282394689368612, 0.16282394689368612, 0.16282394689368612, 0.16027789826853794, 0.16027789826853794, 0.16027789826853794, 0.16027789826853794, 0.16027789826853794, 0.16027789826853794, 0.1581170507889708, 0.1581170507889708]}], \"normalized_root_mean_squared_error\": [{\"categories\": [\"0\", \"1\", \"3\", \"6\", \"8\", \"10\", \"13\", \"15\", \"17\", \"20\", \"21\", \"22\", \"23\", \"24\", \"25\", \"26\", \"27\", \"28\", \"29\", \"30\", \"31\"], \"mode\": \"markers\", \"name\": \"normalized_root_mean_squared_error\", \"stepped\": false, \"type\": \"scatter\", \"data\": [0.18585110825186782, 0.1953280542646287, 0.17040629123826287, 0.17867247659755212, 0.17038877891916715, 0.17039405592210316, 0.17241160679342205, 0.18388012650018454, 0.1803901729401785, 0.1765315174390831, 0.17687450529130258, 0.1780551495884855, 0.1752849684228158, 0.17196030374898297, 0.1918696523373506, 0.17619690518523995, 0.17329612843597986, 0.17736086621477973, 0.17435020300415277, 0.16798543852690023, 0.1700952591012142]}, {\"categories\": [\"0\", \"1\", \"3\", \"6\", \"8\", \"10\", \"13\", \"15\", \"17\", \"20\", \"21\", \"22\", \"23\", \"24\", \"25\", \"26\", \"27\", \"28\", \"29\", \"30\", \"31\"], \"mode\": \"lines\", \"name\": \"normalized_root_mean_squared_error_min\", \"stepped\": true, \"type\": \"scatter\", \"data\": [0.18585110825186782, 0.18585110825186782, 0.17040629123826287, 0.17040629123826287, 0.17038877891916715, 0.17038877891916715, 0.17038877891916715, 0.17038877891916715, 0.17038877891916715, 0.17038877891916715, 0.17038877891916715, 0.17038877891916715, 0.17038877891916715, 0.17038877891916715, 0.17038877891916715, 0.17038877891916715, 0.17038877891916715, 0.17038877891916715, 0.17038877891916715, 0.16798543852690023, 0.16798543852690023]}], \"normalized_mean_absolute_error\": [{\"categories\": [\"0\", \"1\", \"3\", \"6\", \"8\", \"10\", \"13\", \"15\", \"17\", \"20\", \"21\", \"22\", \"23\", \"24\", \"25\", \"26\", \"27\", \"28\", \"29\", \"30\", \"31\"], \"mode\": \"markers\", \"name\": \"normalized_mean_absolute_error\", \"stepped\": false, \"type\": \"scatter\", \"data\": [0.14759269250297732, 0.15623888919815557, 0.13819882889151658, 0.14588554033749584, 0.13820572143003648, 0.13820331348591053, 0.14121616410251278, 0.14780415525976273, 0.14598267289875064, 0.1464448484237536, 0.14539209395542183, 0.14813588388365515, 0.14695125566006675, 0.13885803924643286, 0.1632932996007369, 0.14728165923022313, 0.1423194815833212, 0.14412690516611346, 0.14485587944326347, 0.1364044136681381, 0.13829224734438134]}, {\"categories\": [\"0\", \"1\", \"3\", \"6\", \"8\", \"10\", \"13\", \"15\", \"17\", \"20\", \"21\", \"22\", \"23\", \"24\", \"25\", \"26\", \"27\", \"28\", \"29\", \"30\", \"31\"], \"mode\": \"lines\", \"name\": \"normalized_mean_absolute_error_min\", \"stepped\": true, \"type\": \"scatter\", \"data\": [0.14759269250297732, 0.14759269250297732, 0.13819882889151658, 0.13819882889151658, 0.13819882889151658, 0.13819882889151658, 0.13819882889151658, 0.13819882889151658, 0.13819882889151658, 0.13819882889151658, 0.13819882889151658, 0.13819882889151658, 0.13819882889151658, 0.13819882889151658, 0.13819882889151658, 0.13819882889151658, 0.13819882889151658, 0.13819882889151658, 0.13819882889151658, 0.1364044136681381, 0.1364044136681381]}], \"root_mean_squared_log_error\": [{\"categories\": [\"0\", \"1\", \"3\", \"6\", \"8\", \"10\", \"13\", \"15\", \"17\", \"20\", \"21\", \"22\", \"23\", \"24\", \"25\", \"26\", \"27\", \"28\", \"29\", \"30\", \"31\"], \"mode\": \"markers\", \"name\": \"root_mean_squared_log_error\", \"stepped\": false, \"type\": \"scatter\", \"data\": [0.4414986212611368, 0.47246040729986627, 0.42191400965267734, 0.43338590457678555, 0.4223339063560969, 0.4221858972504462, 0.4229454861366399, 0.4424105185544659, 0.4337577628161425, 0.4286655423449874, 0.4318048835825752, 0.4348604002065722, 0.43038704033780706, 0.41531661654987817, 0.47012261716031684, 0.4317147435747818, 0.4224045526625576, 0.43103953498594094, 0.4279298397322127, 0.40971736753433036, 0.413261593672288]}, {\"categories\": [\"0\", \"1\", \"3\", \"6\", \"8\", \"10\", \"13\", \"15\", \"17\", \"20\", \"21\", \"22\", \"23\", \"24\", \"25\", \"26\", \"27\", \"28\", \"29\", \"30\", \"31\"], \"mode\": \"lines\", \"name\": \"root_mean_squared_log_error_min\", \"stepped\": true, \"type\": \"scatter\", \"data\": [0.4414986212611368, 0.4414986212611368, 0.42191400965267734, 0.42191400965267734, 0.42191400965267734, 0.42191400965267734, 0.42191400965267734, 0.42191400965267734, 0.42191400965267734, 0.42191400965267734, 0.42191400965267734, 0.42191400965267734, 0.42191400965267734, 0.41531661654987817, 0.41531661654987817, 0.41531661654987817, 0.41531661654987817, 0.41531661654987817, 0.41531661654987817, 0.40971736753433036, 0.40971736753433036]}], \"normalized_median_absolute_error\": [{\"categories\": [\"0\", \"1\", \"3\", \"6\", \"8\", \"10\", \"13\", \"15\", \"17\", \"20\", \"21\", \"22\", \"23\", \"24\", \"25\", \"26\", \"27\", \"28\", \"29\", \"30\", \"31\"], \"mode\": \"markers\", \"name\": \"normalized_median_absolute_error\", \"stepped\": false, \"type\": \"scatter\", \"data\": [0.12431054501923669, 0.12780770393918237, 0.1198159027201778, 0.12801440933590463, 0.11979762017124726, 0.11984365231985912, 0.12049130904061389, 0.12939252336448598, 0.12910235647443588, 0.13441729204477287, 0.13537716982792886, 0.14123015173759862, 0.13957658933205813, 0.12184871060631708, 0.15628546223783144, 0.1379909386215143, 0.12622659682548693, 0.12668557521139293, 0.13449064220766657, 0.12183765753527176, 0.12403417586527446]}, {\"categories\": [\"0\", \"1\", \"3\", \"6\", \"8\", \"10\", \"13\", \"15\", \"17\", \"20\", \"21\", \"22\", \"23\", \"24\", \"25\", \"26\", \"27\", \"28\", \"29\", \"30\", \"31\"], \"mode\": \"lines\", \"name\": \"normalized_median_absolute_error_min\", \"stepped\": true, \"type\": \"scatter\", \"data\": [0.12431054501923669, 0.12431054501923669, 0.1198159027201778, 0.1198159027201778, 0.11979762017124726, 0.11979762017124726, 0.11979762017124726, 0.11979762017124726, 0.11979762017124726, 0.11979762017124726, 0.11979762017124726, 0.11979762017124726, 0.11979762017124726, 0.11979762017124726, 0.11979762017124726, 0.11979762017124726, 0.11979762017124726, 0.11979762017124726, 0.11979762017124726, 0.11979762017124726, 0.11979762017124726]}], \"root_mean_squared_error\": [{\"categories\": [\"0\", \"1\", \"3\", \"6\", \"8\", \"10\", \"13\", \"15\", \"17\", \"20\", \"21\", \"22\", \"23\", \"24\", \"25\", \"26\", \"27\", \"28\", \"29\", \"30\", \"31\"], \"mode\": \"markers\", \"name\": \"root_mean_squared_error\", \"stepped\": false, \"type\": \"scatter\", \"data\": [59.65820574884956, 62.700305418945824, 54.700419487482385, 57.35386498781422, 54.694798033052656, 54.69649195099511, 55.34412578068848, 59.02552060655923, 57.90524551379731, 56.66661709794569, 56.77671619850813, 57.15570301790384, 56.266474863723865, 55.19925750342353, 61.590158400289546, 56.55920656446202, 55.628057227949526, 56.9328380549443, 55.966415164333036, 53.92332576713498, 54.600578171489744]}, {\"categories\": [\"0\", \"1\", \"3\", \"6\", \"8\", \"10\", \"13\", \"15\", \"17\", \"20\", \"21\", \"22\", \"23\", \"24\", \"25\", \"26\", \"27\", \"28\", \"29\", \"30\", \"31\"], \"mode\": \"lines\", \"name\": \"root_mean_squared_error_min\", \"stepped\": true, \"type\": \"scatter\", \"data\": [59.65820574884956, 59.65820574884956, 54.700419487482385, 54.700419487482385, 54.694798033052656, 54.694798033052656, 54.694798033052656, 54.694798033052656, 54.694798033052656, 54.694798033052656, 54.694798033052656, 54.694798033052656, 54.694798033052656, 54.694798033052656, 54.694798033052656, 54.694798033052656, 54.694798033052656, 54.694798033052656, 54.694798033052656, 53.92332576713498, 53.92332576713498]}], \"r2_score\": [{\"categories\": [\"0\", \"1\", \"3\", \"6\", \"8\", \"10\", \"13\", \"15\", \"17\", \"20\", \"21\", \"22\", \"23\", \"24\", \"25\", \"26\", \"27\", \"28\", \"29\", \"30\", \"31\"], \"mode\": \"markers\", \"name\": \"r2_score\", \"stepped\": false, \"type\": \"scatter\", \"data\": [0.36820998878298655, 0.3043508589042829, 0.47159119996220034, 0.4190811579460923, 0.47162688239042494, 0.4716188954901746, 0.461472126954993, 0.38505950850205956, 0.40988600050486335, 0.4349822359091536, 0.4357469495700011, 0.43077456675317044, 0.4477013381127941, 0.4622601986549153, 0.3452032735130831, 0.4423685456921726, 0.4574357221309723, 0.42953687882844227, 0.45273963516509586, 0.4868053866750646, 0.4740325190455367]}, {\"categories\": [\"0\", \"1\", \"3\", \"6\", \"8\", \"10\", \"13\", \"15\", \"17\", \"20\", \"21\", \"22\", \"23\", \"24\", \"25\", \"26\", \"27\", \"28\", \"29\", \"30\", \"31\"], \"mode\": \"lines\", \"name\": \"r2_score_max\", \"stepped\": true, \"type\": \"scatter\", \"data\": [0.36820998878298655, 0.36820998878298655, 0.47159119996220034, 0.47159119996220034, 0.47162688239042494, 0.47162688239042494, 0.47162688239042494, 0.47162688239042494, 0.47162688239042494, 0.47162688239042494, 0.47162688239042494, 0.47162688239042494, 0.47162688239042494, 0.47162688239042494, 0.47162688239042494, 0.47162688239042494, 0.47162688239042494, 0.47162688239042494, 0.47162688239042494, 0.4868053866750646, 0.4868053866750646]}], \"mean_absolute_error\": [{\"categories\": [\"0\", \"1\", \"3\", \"6\", \"8\", \"10\", \"13\", \"15\", \"17\", \"20\", \"21\", \"22\", \"23\", \"24\", \"25\", \"26\", \"27\", \"28\", \"29\", \"30\", \"31\"], \"mode\": \"markers\", \"name\": \"mean_absolute_error\", \"stepped\": false, \"type\": \"scatter\", \"data\": [47.37725429345573, 50.152683432607944, 44.36182407417682, 46.82925844833618, 44.364036579041716, 44.36326362897727, 45.33038867690661, 47.44513383838384, 46.86043800049895, 47.00879634402491, 46.67086215969041, 47.55161872665331, 47.171353066881416, 44.57343059810495, 52.41714917183655, 47.277412612901635, 45.684553588246104, 46.26473655832243, 46.49873730128757, 43.78581678747233, 44.3918113975464]}, {\"categories\": [\"0\", \"1\", \"3\", \"6\", \"8\", \"10\", \"13\", \"15\", \"17\", \"20\", \"21\", \"22\", \"23\", \"24\", \"25\", \"26\", \"27\", \"28\", \"29\", \"30\", \"31\"], \"mode\": \"lines\", \"name\": \"mean_absolute_error_min\", \"stepped\": true, \"type\": \"scatter\", \"data\": [47.37725429345573, 47.37725429345573, 44.36182407417682, 44.36182407417682, 44.36182407417682, 44.36182407417682, 44.36182407417682, 44.36182407417682, 44.36182407417682, 44.36182407417682, 44.36182407417682, 44.36182407417682, 44.36182407417682, 44.36182407417682, 44.36182407417682, 44.36182407417682, 44.36182407417682, 44.36182407417682, 44.36182407417682, 43.78581678747233, 43.78581678747233]}], \"spearman_correlation\": [{\"categories\": [\"0\", \"1\", \"3\", \"6\", \"8\", \"10\", \"13\", \"15\", \"17\", \"20\", \"21\", \"22\", \"23\", \"24\", \"25\", \"26\", \"27\", \"28\", \"29\", \"30\", \"31\"], \"mode\": \"markers\", \"name\": \"spearman_correlation\", \"stepped\": false, \"type\": \"scatter\", \"data\": [0.6237777458400997, 0.5809794380735036, 0.676969583666174, 0.6404725305170851, 0.6775544839896279, 0.6771810448760995, 0.674459218085224, 0.624206164736824, 0.647048715755814, 0.6592357302227436, 0.6633349158234647, 0.6736017589185471, 0.6815536887403671, 0.6736373220435972, 0.6612964975934673, 0.6780173796989853, 0.680469334284237, 0.6526734132828662, 0.6815753701253878, 0.6864972933012223, 0.6827592553070312]}, {\"categories\": [\"0\", \"1\", \"3\", \"6\", \"8\", \"10\", \"13\", \"15\", \"17\", \"20\", \"21\", \"22\", \"23\", \"24\", \"25\", \"26\", \"27\", \"28\", \"29\", \"30\", \"31\"], \"mode\": \"lines\", \"name\": \"spearman_correlation_max\", \"stepped\": true, \"type\": \"scatter\", \"data\": [0.6237777458400997, 0.6237777458400997, 0.676969583666174, 0.676969583666174, 0.6775544839896279, 0.6775544839896279, 0.6775544839896279, 0.6775544839896279, 0.6775544839896279, 0.6775544839896279, 0.6775544839896279, 0.6775544839896279, 0.6815536887403671, 0.6815536887403671, 0.6815536887403671, 0.6815536887403671, 0.6815536887403671, 0.6815536887403671, 0.6815753701253878, 0.6864972933012223, 0.6864972933012223]}]}, \"metricName\": null, \"primaryMetricName\": \"normalized_root_mean_squared_error\", \"showLegend\": false}, \"run_metrics\": [{\"name\": \"experiment_status\", \"run_id\": \"AutoML_05a05f45-6d7e-45e1-9b2a-41ff3dd9d4af\", \"categories\": [0, 1, 2, 3, 4, 5, 6, 7, 8, 9, 10, 11, 12, 13], \"series\": [{\"data\": [\"DatasetEvaluation\", \"FeaturesGeneration\", \"DatasetFeaturization\", \"DatasetFeaturizationCompleted\", \"DatasetCrossValidationSplit\", \"ModelSelection\", \"BestRunExplainModel\", \"ModelExplanationDataSetSetup\", \"PickSurrogateModel\", \"EngineeredFeatureExplanations\", \"EngineeredFeatureExplanations\", \"RawFeaturesExplanations\", \"RawFeaturesExplanations\", \"BestRunExplainModel\"]}]}, {\"name\": \"experiment_status_description\", \"run_id\": \"AutoML_05a05f45-6d7e-45e1-9b2a-41ff3dd9d4af\", \"categories\": [0, 1, 2, 3, 4, 5, 6, 7, 8, 9, 10, 11, 12, 13], \"series\": [{\"data\": [\"Gathering dataset statistics.\", \"Generating features for the dataset.\", \"Beginning to fit featurizers and featurize the dataset.\", \"Completed fit featurizers and featurizing the dataset.\", \"Generating individually featurized CV splits.\", \"Beginning model selection.\", \"Best run model explanations started\", \"Model explanations data setup completed\", \"Choosing LightGBM as the surrogate model for explanations\", \"Computation of engineered features started\", \"Computation of engineered features completed\", \"Computation of raw features started\", \"Computation of raw features completed\", \"Best run model explanations completed\"]}]}, {\"name\": \"mean_absolute_error\", \"run_id\": \"AutoML_05a05f45-6d7e-45e1-9b2a-41ff3dd9d4af\", \"categories\": [0], \"series\": [{\"data\": [43.78581678747233]}]}, {\"name\": \"normalized_root_mean_squared_log_error\", \"run_id\": \"AutoML_05a05f45-6d7e-45e1-9b2a-41ff3dd9d4af\", \"categories\": [0], \"series\": [{\"data\": [0.1581170507889708]}]}, {\"name\": \"mean_absolute_percentage_error\", \"run_id\": \"AutoML_05a05f45-6d7e-45e1-9b2a-41ff3dd9d4af\", \"categories\": [0], \"series\": [{\"data\": [38.9179123349836]}]}, {\"name\": \"r2_score\", \"run_id\": \"AutoML_05a05f45-6d7e-45e1-9b2a-41ff3dd9d4af\", \"categories\": [0], \"series\": [{\"data\": [0.4868053866750646]}]}, {\"name\": \"explained_variance\", \"run_id\": \"AutoML_05a05f45-6d7e-45e1-9b2a-41ff3dd9d4af\", \"categories\": [0], \"series\": [{\"data\": [0.4950479442608585]}]}, {\"name\": \"spearman_correlation\", \"run_id\": \"AutoML_05a05f45-6d7e-45e1-9b2a-41ff3dd9d4af\", \"categories\": [0], \"series\": [{\"data\": [0.6864972933012223]}]}, {\"name\": \"normalized_median_absolute_error\", \"run_id\": \"AutoML_05a05f45-6d7e-45e1-9b2a-41ff3dd9d4af\", \"categories\": [0], \"series\": [{\"data\": [0.12183765753527176]}]}, {\"name\": \"normalized_root_mean_squared_error\", \"run_id\": \"AutoML_05a05f45-6d7e-45e1-9b2a-41ff3dd9d4af\", \"categories\": [0], \"series\": [{\"data\": [0.16798543852690023]}]}, {\"name\": \"median_absolute_error\", \"run_id\": \"AutoML_05a05f45-6d7e-45e1-9b2a-41ff3dd9d4af\", \"categories\": [0], \"series\": [{\"data\": [39.10988806882223]}]}, {\"name\": \"root_mean_squared_error\", \"run_id\": \"AutoML_05a05f45-6d7e-45e1-9b2a-41ff3dd9d4af\", \"categories\": [0], \"series\": [{\"data\": [53.92332576713498]}]}, {\"name\": \"root_mean_squared_log_error\", \"run_id\": \"AutoML_05a05f45-6d7e-45e1-9b2a-41ff3dd9d4af\", \"categories\": [0], \"series\": [{\"data\": [0.40971736753433036]}]}, {\"name\": \"normalized_mean_absolute_error\", \"run_id\": \"AutoML_05a05f45-6d7e-45e1-9b2a-41ff3dd9d4af\", \"categories\": [0], \"series\": [{\"data\": [0.1364044136681381]}]}], \"run_logs\": \"\\nRun is completed.\", \"graph\": {}, \"widget_settings\": {\"childWidgetDisplay\": \"popup\", \"send_telemetry\": false, \"log_level\": \"INFO\", \"sdk_version\": \"1.51.0\"}, \"loading\": false}"
     },
     "metadata": {},
     "output_type": "display_data"
    }
   ],
   "source": [
    "diabetes_experiment = Experiment(workspace = ws, name = 'Diabetes-Sample-Regression')\n",
    "\n",
    "run_configuration = AutoMLConfig(task = 'regression', primary_metric = 'normalized_root_mean_squared_error', \n",
    "                                 featurization = 'auto', compute_target = compute_target, training_data = diabetes_dataset,\n",
    "                                 label_column_name = 'Y', experiment_timeout_minutes = 30, enable_early_stopping = True,\n",
    "                                 n_cross_validations = 10, model_explainability = True)\n",
    "AutoML_run = diabetes_experiment.submit(run_configuration, show_output = True)\n",
    "RunDetails(AutoML_run).show()"
   ]
  },
  {
   "cell_type": "markdown",
   "id": "1554050a",
   "metadata": {},
   "source": [
    "# Model Registration For Future Use"
   ]
  },
  {
   "cell_type": "code",
   "execution_count": 10,
   "id": "114d757c",
   "metadata": {},
   "outputs": [
    {
     "data": {
      "text/plain": [
       "Model(workspace=Workspace.create(name='auotml-example-workspace', subscription_id='0c19fc19-85fd-4aa4-b133-61dd20fa93df', resource_group='edwin.spartan117-rg'), name=Diabetes-AllColumns-Regression-AutoML, id=Diabetes-AllColumns-Regression-AutoML:2, version=2, tags={'project': 'Diabetes', 'creator': 'Edwin Goh'}, properties={})"
      ]
     },
     "execution_count": 10,
     "metadata": {},
     "output_type": "execute_result"
    }
   ],
   "source": [
    "AutoML_run.register_model(model_name = 'Diabetes-AllColumns-Regression-AutoML', \n",
    "                          description = 'Best AutoML Regression Run using the Diabetes Sample Data. This model uses the AGE and SEX columns.',\n",
    "                          tags = {'project': 'Diabetes', 'creator': 'Edwin Goh'})"
   ]
  },
  {
   "cell_type": "markdown",
   "id": "9c77b367",
   "metadata": {},
   "source": [
    "## Using $R^2$ As The Evaluation Metric"
   ]
  },
  {
   "cell_type": "code",
   "execution_count": 11,
   "id": "d0fcb3c6",
   "metadata": {},
   "outputs": [
    {
     "data": {
      "text/plain": [
       "Model(workspace=Workspace.create(name='auotml-example-workspace', subscription_id='0c19fc19-85fd-4aa4-b133-61dd20fa93df', resource_group='edwin.spartan117-rg'), name=Diabetes-AllColumns-Regression-AutoML-R2, id=Diabetes-AllColumns-Regression-AutoML-R2:2, version=2, tags={'project': 'Diabetes', 'creator': 'Edwin Goh', 'metric': 'R-Squared'}, properties={})"
      ]
     },
     "execution_count": 11,
     "metadata": {},
     "output_type": "execute_result"
    }
   ],
   "source": [
    "AutoML_run.register_model(model_name = 'Diabetes-AllColumns-Regression-AutoML-R2', \n",
    "                          description = 'Best AutoML Regression Run using the Diabetes Sample Data. This model uses the AGE and SEX columns.',\n",
    "                          tags = {'project': 'Diabetes', 'creator': 'Edwin Goh', 'metric': \"R-Squared\"}, metric = 'r2_score')"
   ]
  },
  {
   "cell_type": "code",
   "execution_count": 12,
   "id": "835c414f",
   "metadata": {},
   "outputs": [],
   "source": [
    "from azureml.core.model import Model\n",
    "diabetes_regression_model_r2 = Model(ws, 'Diabetes-AllColumns-Regression-AutoML-R2')"
   ]
  }
 ],
 "metadata": {
  "kernelspec": {
   "display_name": "Python 3.8 - AzureML",
   "language": "python",
   "name": "python38-azureml"
  },
  "language_info": {
   "codemirror_mode": {
    "name": "ipython",
    "version": 3
   },
   "file_extension": ".py",
   "mimetype": "text/x-python",
   "name": "python",
   "nbconvert_exporter": "python",
   "pygments_lexer": "ipython3",
   "version": "3.8.5"
  }
 },
 "nbformat": 4,
 "nbformat_minor": 5
}
