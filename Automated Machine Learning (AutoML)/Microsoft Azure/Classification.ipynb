{
 "cells": [
  {
   "cell_type": "code",
   "execution_count": 1,
   "id": "775aa61a",
   "metadata": {},
   "outputs": [],
   "source": [
    "import pandas as pd\n",
    "import numpy as np\n",
    "from azureml.core import Workspace, Dataset, Datastore, Experiment\n",
    "from azureml.core.compute import ComputeTarget\n",
    "from azureml.train.automl import AutoMLConfig\n",
    "from azureml.train.automl.run import AutoMLRun\n",
    "from azureml.widgets import RunDetails"
   ]
  },
  {
   "cell_type": "markdown",
   "id": "c0193ac6",
   "metadata": {},
   "source": [
    "# Initializing The Compute Cluster"
   ]
  },
  {
   "cell_type": "code",
   "execution_count": 2,
   "id": "2973a0b9",
   "metadata": {},
   "outputs": [],
   "source": [
    "ws = Workspace.from_config(path = 'config.json')\n",
    "compute_name = 'automl-cluster'\n",
    "compute_target = ComputeTarget(ws, compute_name)"
   ]
  },
  {
   "cell_type": "markdown",
   "id": "97843541",
   "metadata": {},
   "source": [
    "# Binary Classification Using The Titanic Dataset"
   ]
  },
  {
   "cell_type": "code",
   "execution_count": 3,
   "id": "dcdbd056",
   "metadata": {},
   "outputs": [
    {
     "data": {
      "text/html": [
       "<div>\n",
       "<style scoped>\n",
       "    .dataframe tbody tr th:only-of-type {\n",
       "        vertical-align: middle;\n",
       "    }\n",
       "\n",
       "    .dataframe tbody tr th {\n",
       "        vertical-align: top;\n",
       "    }\n",
       "\n",
       "    .dataframe thead th {\n",
       "        text-align: right;\n",
       "    }\n",
       "</style>\n",
       "<table border=\"1\" class=\"dataframe\">\n",
       "  <thead>\n",
       "    <tr style=\"text-align: right;\">\n",
       "      <th></th>\n",
       "      <th>Survived</th>\n",
       "      <th>Pclass</th>\n",
       "      <th>Sex</th>\n",
       "      <th>Age</th>\n",
       "      <th>SibSp</th>\n",
       "      <th>Parch</th>\n",
       "      <th>Fare</th>\n",
       "      <th>Embarked</th>\n",
       "    </tr>\n",
       "  </thead>\n",
       "  <tbody>\n",
       "    <tr>\n",
       "      <th>0</th>\n",
       "      <td>False</td>\n",
       "      <td>3</td>\n",
       "      <td>male</td>\n",
       "      <td>22.0</td>\n",
       "      <td>1</td>\n",
       "      <td>0</td>\n",
       "      <td>7.2500</td>\n",
       "      <td>S</td>\n",
       "    </tr>\n",
       "    <tr>\n",
       "      <th>1</th>\n",
       "      <td>True</td>\n",
       "      <td>1</td>\n",
       "      <td>female</td>\n",
       "      <td>38.0</td>\n",
       "      <td>1</td>\n",
       "      <td>0</td>\n",
       "      <td>71.2833</td>\n",
       "      <td>C</td>\n",
       "    </tr>\n",
       "    <tr>\n",
       "      <th>2</th>\n",
       "      <td>True</td>\n",
       "      <td>3</td>\n",
       "      <td>female</td>\n",
       "      <td>26.0</td>\n",
       "      <td>0</td>\n",
       "      <td>0</td>\n",
       "      <td>7.9250</td>\n",
       "      <td>S</td>\n",
       "    </tr>\n",
       "    <tr>\n",
       "      <th>3</th>\n",
       "      <td>True</td>\n",
       "      <td>1</td>\n",
       "      <td>female</td>\n",
       "      <td>35.0</td>\n",
       "      <td>1</td>\n",
       "      <td>0</td>\n",
       "      <td>53.1000</td>\n",
       "      <td>S</td>\n",
       "    </tr>\n",
       "    <tr>\n",
       "      <th>4</th>\n",
       "      <td>False</td>\n",
       "      <td>3</td>\n",
       "      <td>male</td>\n",
       "      <td>35.0</td>\n",
       "      <td>0</td>\n",
       "      <td>0</td>\n",
       "      <td>8.0500</td>\n",
       "      <td>S</td>\n",
       "    </tr>\n",
       "    <tr>\n",
       "      <th>5</th>\n",
       "      <td>False</td>\n",
       "      <td>3</td>\n",
       "      <td>male</td>\n",
       "      <td>NaN</td>\n",
       "      <td>0</td>\n",
       "      <td>0</td>\n",
       "      <td>8.4583</td>\n",
       "      <td>Q</td>\n",
       "    </tr>\n",
       "    <tr>\n",
       "      <th>6</th>\n",
       "      <td>False</td>\n",
       "      <td>1</td>\n",
       "      <td>male</td>\n",
       "      <td>54.0</td>\n",
       "      <td>0</td>\n",
       "      <td>0</td>\n",
       "      <td>51.8625</td>\n",
       "      <td>S</td>\n",
       "    </tr>\n",
       "    <tr>\n",
       "      <th>7</th>\n",
       "      <td>False</td>\n",
       "      <td>3</td>\n",
       "      <td>male</td>\n",
       "      <td>2.0</td>\n",
       "      <td>3</td>\n",
       "      <td>1</td>\n",
       "      <td>21.0750</td>\n",
       "      <td>S</td>\n",
       "    </tr>\n",
       "    <tr>\n",
       "      <th>8</th>\n",
       "      <td>True</td>\n",
       "      <td>3</td>\n",
       "      <td>female</td>\n",
       "      <td>27.0</td>\n",
       "      <td>0</td>\n",
       "      <td>2</td>\n",
       "      <td>11.1333</td>\n",
       "      <td>S</td>\n",
       "    </tr>\n",
       "    <tr>\n",
       "      <th>9</th>\n",
       "      <td>True</td>\n",
       "      <td>2</td>\n",
       "      <td>female</td>\n",
       "      <td>14.0</td>\n",
       "      <td>1</td>\n",
       "      <td>0</td>\n",
       "      <td>30.0708</td>\n",
       "      <td>C</td>\n",
       "    </tr>\n",
       "  </tbody>\n",
       "</table>\n",
       "</div>"
      ],
      "text/plain": [
       "   Survived  Pclass     Sex   Age  SibSp  Parch     Fare Embarked\n",
       "0     False       3    male  22.0      1      0   7.2500        S\n",
       "1      True       1  female  38.0      1      0  71.2833        C\n",
       "2      True       3  female  26.0      0      0   7.9250        S\n",
       "3      True       1  female  35.0      1      0  53.1000        S\n",
       "4     False       3    male  35.0      0      0   8.0500        S\n",
       "5     False       3    male   NaN      0      0   8.4583        Q\n",
       "6     False       1    male  54.0      0      0  51.8625        S\n",
       "7     False       3    male   2.0      3      1  21.0750        S\n",
       "8      True       3  female  27.0      0      2  11.1333        S\n",
       "9      True       2  female  14.0      1      0  30.0708        C"
      ]
     },
     "execution_count": 3,
     "metadata": {},
     "output_type": "execute_result"
    }
   ],
   "source": [
    "datastore = Datastore.get_default(ws)\n",
    "titanic_dataset = Dataset.get_by_name(ws, 'Titanic_Training_Data', version = 'latest')\n",
    "titanic_dataset.take(10).to_pandas_dataframe()"
   ]
  },
  {
   "cell_type": "markdown",
   "id": "75900f75",
   "metadata": {},
   "source": [
    "## Data Preparation For The Titanic Dataset"
   ]
  },
  {
   "cell_type": "markdown",
   "id": "e27f6bcf",
   "metadata": {},
   "source": [
    "### Exploring The Age Column Since The Column Contains Missing Values"
   ]
  },
  {
   "cell_type": "code",
   "execution_count": 4,
   "id": "61a34461",
   "metadata": {},
   "outputs": [
    {
     "data": {
      "text/plain": [
       "Sex\n",
       "female    28.0\n",
       "male      31.0\n",
       "Name: Age, dtype: float64"
      ]
     },
     "execution_count": 4,
     "metadata": {},
     "output_type": "execute_result"
    }
   ],
   "source": [
    "titanic_df = titanic_dataset.to_pandas_dataframe()\n",
    "round(titanic_df.groupby(['Sex'])['Age'].mean())"
   ]
  },
  {
   "cell_type": "code",
   "execution_count": 5,
   "id": "8f4aa63b",
   "metadata": {},
   "outputs": [],
   "source": [
    "titanic_df['Age'] = titanic_df.apply(lambda row: 31 if np.isnan(row['Age']) and row['Sex'] == 'male'\n",
    "                                     else (28 if np.isnan(row['Age']) and row['Sex'] == 'female' else row['Age']), \n",
    "                                     axis = 1)"
   ]
  },
  {
   "cell_type": "markdown",
   "id": "90ca4d89",
   "metadata": {},
   "source": [
    "### Binning The \"Age\" Column To 4 Different Age Groups"
   ]
  },
  {
   "cell_type": "code",
   "execution_count": 6,
   "id": "c0231777",
   "metadata": {},
   "outputs": [],
   "source": [
    "titanic_df['Age Below 15'] = np.where(titanic_df['Age'] < 15, 1, 0)\n",
    "titanic_df['Age Between 15 and 34'] = np.where((titanic_df['Age'] > 14) & (titanic_df['Age'] < 35), 1, 0)\n",
    "titanic_df['Age Between 35 and 60'] = np.where((titanic_df['Age'] > 34) & (titanic_df['Age'] < 61), 1, 0)\n",
    "titanic_df['Age Above 60'] = np.where(titanic_df['Age'] > 60, 1, 0)"
   ]
  },
  {
   "cell_type": "code",
   "execution_count": 7,
   "id": "6b8a37e9",
   "metadata": {},
   "outputs": [],
   "source": [
    "titanic_df = titanic_df.drop(['Age'], axis = 1)"
   ]
  },
  {
   "cell_type": "code",
   "execution_count": null,
   "id": "1f9b8d28",
   "metadata": {},
   "outputs": [],
   "source": [
    "titanic_dataset.Tabular.register_pandas_dataframe(titanic_df, datastore, 'Titanic Data After Transformation')"
   ]
  },
  {
   "cell_type": "markdown",
   "id": "4ceaba7d",
   "metadata": {},
   "source": [
    "## Model Training"
   ]
  },
  {
   "cell_type": "code",
   "execution_count": null,
   "id": "c9001f72",
   "metadata": {
    "scrolled": false
   },
   "outputs": [],
   "source": [
    "titanic_experiment = Experiment(workspace = ws, name = 'Titanic-Classification')\n",
    "titanic_transformed_dataset = Dataset.get_by_name(ws, 'Titanic Data After Transformation', version = 'latest')\n",
    "\n",
    "run_configuration = AutoMLConfig(task = 'classification', primary_metric = 'accuracy', \n",
    "                                 num_classes = titanic_df['Survived'].nunique(), featurization = 'auto', \n",
    "                                 compute_target = compute_target, training_data = titanic_transformed_dataset,\n",
    "                                 label_column_name = 'Survived', experiment_timeout_minutes = 15, \n",
    "                                 enable_early_stopping = True, n_cross_validations = 10, model_explainability = True,\n",
    "                                 enable_stack_ensemble = True, enable_voting_ensemble = True)\n",
    "AutoML_run = titanic_experiment.submit(run_configuration, show_output = True)\n",
    "RunDetails(AutoML_run).show()"
   ]
  },
  {
   "cell_type": "markdown",
   "id": "2d2b29fe",
   "metadata": {},
   "source": [
    "## Model Registration For Future Use"
   ]
  },
  {
   "cell_type": "code",
   "execution_count": null,
   "id": "6fda47fd",
   "metadata": {},
   "outputs": [],
   "source": [
    "AutoML_run.register_model(model_name = 'Titanic-Classification-AutoML', \n",
    "                          description = 'Best AutoML Classification Model Run using the Transformed Titanic Dataset',\n",
    "                          tags = {'Project': 'Titanic', 'Creator': 'Edwin Goh'})"
   ]
  },
  {
   "cell_type": "markdown",
   "id": "4a416e11",
   "metadata": {},
   "source": [
    "### Using *Normalized Macro Recall* As The Evaluation Metric"
   ]
  },
  {
   "cell_type": "code",
   "execution_count": null,
   "id": "405de1a4",
   "metadata": {},
   "outputs": [],
   "source": [
    "AutoML_run.register_model(model_name = 'Titanic-Classification-AutoML-macro_recall', \n",
    "                          description = 'Best AutoML Classification Model Run using the Transformed Titanic Dataset',\n",
    "                          tags = {'project': 'Diabetes', 'creator': 'Edwin Goh', 'metric': 'norm_macro_recall'}, \n",
    "                          metric = 'norm_macro_recall')"
   ]
  },
  {
   "cell_type": "markdown",
   "id": "021d7754",
   "metadata": {},
   "source": [
    "# Multi-Class Classification Using The Iris Dataset"
   ]
  },
  {
   "cell_type": "code",
   "execution_count": 8,
   "id": "2effe01e",
   "metadata": {},
   "outputs": [
    {
     "data": {
      "text/html": [
       "<div>\n",
       "<style scoped>\n",
       "    .dataframe tbody tr th:only-of-type {\n",
       "        vertical-align: middle;\n",
       "    }\n",
       "\n",
       "    .dataframe tbody tr th {\n",
       "        vertical-align: top;\n",
       "    }\n",
       "\n",
       "    .dataframe thead th {\n",
       "        text-align: right;\n",
       "    }\n",
       "</style>\n",
       "<table border=\"1\" class=\"dataframe\">\n",
       "  <thead>\n",
       "    <tr style=\"text-align: right;\">\n",
       "      <th></th>\n",
       "      <th>sepal_length</th>\n",
       "      <th>sepal_width</th>\n",
       "      <th>petal_length</th>\n",
       "      <th>petal_width</th>\n",
       "      <th>species</th>\n",
       "    </tr>\n",
       "  </thead>\n",
       "  <tbody>\n",
       "    <tr>\n",
       "      <th>0</th>\n",
       "      <td>5.1</td>\n",
       "      <td>3.5</td>\n",
       "      <td>1.4</td>\n",
       "      <td>0.2</td>\n",
       "      <td>Iris-setosa</td>\n",
       "    </tr>\n",
       "    <tr>\n",
       "      <th>1</th>\n",
       "      <td>4.9</td>\n",
       "      <td>3.0</td>\n",
       "      <td>1.4</td>\n",
       "      <td>0.2</td>\n",
       "      <td>Iris-setosa</td>\n",
       "    </tr>\n",
       "    <tr>\n",
       "      <th>2</th>\n",
       "      <td>4.7</td>\n",
       "      <td>3.2</td>\n",
       "      <td>1.3</td>\n",
       "      <td>0.2</td>\n",
       "      <td>Iris-setosa</td>\n",
       "    </tr>\n",
       "    <tr>\n",
       "      <th>3</th>\n",
       "      <td>4.6</td>\n",
       "      <td>3.1</td>\n",
       "      <td>1.5</td>\n",
       "      <td>0.2</td>\n",
       "      <td>Iris-setosa</td>\n",
       "    </tr>\n",
       "    <tr>\n",
       "      <th>4</th>\n",
       "      <td>5.0</td>\n",
       "      <td>3.6</td>\n",
       "      <td>1.4</td>\n",
       "      <td>0.2</td>\n",
       "      <td>Iris-setosa</td>\n",
       "    </tr>\n",
       "    <tr>\n",
       "      <th>5</th>\n",
       "      <td>5.4</td>\n",
       "      <td>3.9</td>\n",
       "      <td>1.7</td>\n",
       "      <td>0.4</td>\n",
       "      <td>Iris-setosa</td>\n",
       "    </tr>\n",
       "    <tr>\n",
       "      <th>6</th>\n",
       "      <td>4.6</td>\n",
       "      <td>3.4</td>\n",
       "      <td>1.4</td>\n",
       "      <td>0.3</td>\n",
       "      <td>Iris-setosa</td>\n",
       "    </tr>\n",
       "    <tr>\n",
       "      <th>7</th>\n",
       "      <td>5.0</td>\n",
       "      <td>3.4</td>\n",
       "      <td>1.5</td>\n",
       "      <td>0.2</td>\n",
       "      <td>Iris-setosa</td>\n",
       "    </tr>\n",
       "    <tr>\n",
       "      <th>8</th>\n",
       "      <td>4.4</td>\n",
       "      <td>2.9</td>\n",
       "      <td>1.4</td>\n",
       "      <td>0.2</td>\n",
       "      <td>Iris-setosa</td>\n",
       "    </tr>\n",
       "    <tr>\n",
       "      <th>9</th>\n",
       "      <td>4.9</td>\n",
       "      <td>3.1</td>\n",
       "      <td>1.5</td>\n",
       "      <td>0.1</td>\n",
       "      <td>Iris-setosa</td>\n",
       "    </tr>\n",
       "  </tbody>\n",
       "</table>\n",
       "</div>"
      ],
      "text/plain": [
       "   sepal_length  sepal_width  petal_length  petal_width      species\n",
       "0           5.1          3.5           1.4          0.2  Iris-setosa\n",
       "1           4.9          3.0           1.4          0.2  Iris-setosa\n",
       "2           4.7          3.2           1.3          0.2  Iris-setosa\n",
       "3           4.6          3.1           1.5          0.2  Iris-setosa\n",
       "4           5.0          3.6           1.4          0.2  Iris-setosa\n",
       "5           5.4          3.9           1.7          0.4  Iris-setosa\n",
       "6           4.6          3.4           1.4          0.3  Iris-setosa\n",
       "7           5.0          3.4           1.5          0.2  Iris-setosa\n",
       "8           4.4          2.9           1.4          0.2  Iris-setosa\n",
       "9           4.9          3.1           1.5          0.1  Iris-setosa"
      ]
     },
     "execution_count": 8,
     "metadata": {},
     "output_type": "execute_result"
    }
   ],
   "source": [
    "iris_dataset = Dataset.get_by_name(ws, 'Iris_Dataset', version = 'latest')\n",
    "iris_dataset.take(10).to_pandas_dataframe()"
   ]
  },
  {
   "cell_type": "code",
   "execution_count": 9,
   "id": "acddeeea",
   "metadata": {},
   "outputs": [],
   "source": [
    "iris_species = iris_dataset.to_pandas_dataframe()['species'].unique()"
   ]
  },
  {
   "cell_type": "markdown",
   "id": "89fde958",
   "metadata": {},
   "source": [
    "## Model Training"
   ]
  },
  {
   "cell_type": "code",
   "execution_count": 10,
   "id": "3a20994c",
   "metadata": {},
   "outputs": [
    {
     "name": "stdout",
     "output_type": "stream",
     "text": [
      "Submitting remote run.\n",
      "No run_configuration provided, running on automl-cluster with default configuration\n",
      "Running on remote compute: automl-cluster\n"
     ]
    },
    {
     "data": {
      "text/html": [
       "<table style=\"width:100%\"><tr><th>Experiment</th><th>Id</th><th>Type</th><th>Status</th><th>Details Page</th><th>Docs Page</th></tr><tr><td>Iris-Multi-Class-Classification</td><td>AutoML_15fe9a5f-4c50-4fbf-a51e-bb07ed4daba7</td><td>automl</td><td>NotStarted</td><td><a href=\"https://ml.azure.com/runs/AutoML_15fe9a5f-4c50-4fbf-a51e-bb07ed4daba7?wsid=/subscriptions/0c19fc19-85fd-4aa4-b133-61dd20fa93df/resourcegroups/edwin.spartan117-rg/workspaces/auotml-example-workspace&amp;tid=c5f4b1c2-b533-4788-b1c5-99d0f10fb9b6\" target=\"_blank\" rel=\"noopener\">Link to Azure Machine Learning studio</a></td><td><a href=\"https://docs.microsoft.com/en-us/python/api/overview/azure/ml/intro?view=azure-ml-py\" target=\"_blank\" rel=\"noopener\">Link to Documentation</a></td></tr></table>"
      ]
     },
     "metadata": {},
     "output_type": "display_data"
    },
    {
     "name": "stdout",
     "output_type": "stream",
     "text": [
      "\n",
      "Current status: FeaturesGeneration. Generating features for the dataset.\n",
      "Current status: DatasetCrossValidationSplit. Generating individually featurized CV splits.\n",
      "Current status: ModelSelection. Beginning model selection.\n",
      "\n",
      "********************************************************************************************\n",
      "DATA GUARDRAILS: \n",
      "\n",
      "TYPE:         Class balancing detection\n",
      "STATUS:       PASSED\n",
      "DESCRIPTION:  Your inputs were analyzed, and all classes are balanced in your training data.\n",
      "              Learn more about imbalanced data: https://aka.ms/AutomatedMLImbalancedData\n",
      "\n",
      "********************************************************************************************\n",
      "\n",
      "TYPE:         Missing feature values imputation\n",
      "STATUS:       PASSED\n",
      "DESCRIPTION:  No feature missing values were detected in the training data.\n",
      "              Learn more about missing value imputation: https://aka.ms/AutomatedMLFeaturization\n",
      "\n",
      "********************************************************************************************\n",
      "\n",
      "TYPE:         High cardinality feature detection\n",
      "STATUS:       PASSED\n",
      "DESCRIPTION:  Your inputs were analyzed, and no high cardinality features were detected.\n",
      "              Learn more about high cardinality feature handling: https://aka.ms/AutomatedMLFeaturization\n",
      "\n",
      "********************************************************************************************\n",
      "\n",
      "********************************************************************************************\n",
      "ITER: The iteration being evaluated.\n",
      "PIPELINE: A summary description of the pipeline being evaluated.\n",
      "DURATION: Time taken for the current iteration.\n",
      "METRIC: The result of computing score on the fitted pipeline.\n",
      "BEST: The best observed score thus far.\n",
      "********************************************************************************************\n",
      "\n",
      " ITER   PIPELINE                                       DURATION            METRIC      BEST\n",
      "    0   MaxAbsScaler LightGBM                          0:00:14             0.9467    0.9467\n",
      "    1   MaxAbsScaler XGBoostClassifier                 0:00:11             0.9467    0.9467\n",
      "    2   MaxAbsScaler ExtremeRandomTrees                0:00:12             0.9533    0.9533\n",
      "    3   SparseNormalizer XGBoostClassifier             0:00:11             0.9467    0.9533\n",
      "    4   StandardScalerWrapper KNN                      0:00:11             0.9600    0.9600\n",
      "    5   MaxAbsScaler LightGBM                          0:00:10             0.9533    0.9600\n",
      "    6   RobustScaler LogisticRegression                0:00:10             0.9800    0.9800\n",
      "    7   MaxAbsScaler LightGBM                          0:00:12             0.9400    0.9800\n",
      "    8   StandardScalerWrapper KNN                      0:00:10             0.9600    0.9800\n",
      "    9   StandardScalerWrapper SVM                      0:00:11             0.9600    0.9800\n",
      "   10   StandardScalerWrapper XGBoostClassifier        0:00:11             0.9400    0.9800\n",
      "   11   MinMaxScaler RandomForest                      0:00:13             0.9467    0.9800\n",
      "   12   StandardScalerWrapper LogisticRegression       0:00:10             0.9800    0.9800\n",
      "   13   StandardScalerWrapper KNN                      0:00:11             0.9600    0.9800\n",
      "   14   RobustScaler KNN                               0:00:11             0.9467    0.9800\n",
      "   15   MinMaxScaler KNN                               0:00:11             0.9467    0.9800\n",
      "   16   SparseNormalizer KNN                           0:00:10             0.9533    0.9800\n",
      "   17   MaxAbsScaler LogisticRegression                0:00:11             0.9467    0.9800\n",
      "   18   StandardScalerWrapper XGBoostClassifier        0:00:11             0.9467    0.9800\n",
      "   19   StandardScalerWrapper XGBoostClassifier        0:00:11             0.9333    0.9800\n",
      "   20   MaxAbsScaler LogisticRegression                0:00:30             0.9800    0.9800\n",
      "   21   StandardScalerWrapper XGBoostClassifier        0:00:30             0.9467    0.9800\n",
      "   22   MinMaxScaler LogisticRegression                0:00:29             0.9733    0.9800\n",
      "   23   MaxAbsScaler LogisticRegression                0:00:29             0.9467    0.9800\n",
      "   24   RobustScaler LogisticRegression                0:00:29             0.9800    0.9800\n",
      "   25   SparseNormalizer LogisticRegression            0:00:30             0.8733    0.9800\n",
      "   26   MaxAbsScaler ExtremeRandomTrees                0:00:31             0.9400    0.9800\n",
      "   27   StandardScalerWrapper LogisticRegression       0:00:32             0.8800    0.9800\n",
      "   28   RobustScaler LogisticRegression                0:00:31             0.9533    0.9800\n",
      "   29   SparseNormalizer LightGBM                      0:00:30             0.9600    0.9800\n",
      "   30    VotingEnsemble                                0:00:47             0.9800    0.9800\n",
      "   31    StackEnsemble                                 0:00:46             0.9733    0.9800\n"
     ]
    },
    {
     "data": {
      "application/vnd.jupyter.widget-view+json": {
       "model_id": "8371d9ae24c44d659302d01278b303f7",
       "version_major": 2,
       "version_minor": 0
      },
      "text/plain": [
       "_AutoMLWidget(widget_settings={'childWidgetDisplay': 'popup', 'send_telemetry': False, 'log_level': 'INFO', 's…"
      ]
     },
     "metadata": {},
     "output_type": "display_data"
    },
    {
     "data": {
      "application/aml.mini.widget.v1": "{\"status\": \"Completed\", \"workbench_run_details_uri\": \"https://ml.azure.com/runs/AutoML_15fe9a5f-4c50-4fbf-a51e-bb07ed4daba7?wsid=/subscriptions/0c19fc19-85fd-4aa4-b133-61dd20fa93df/resourcegroups/edwin.spartan117-rg/workspaces/auotml-example-workspace&tid=c5f4b1c2-b533-4788-b1c5-99d0f10fb9b6\", \"run_id\": \"AutoML_15fe9a5f-4c50-4fbf-a51e-bb07ed4daba7\", \"run_properties\": {\"run_id\": \"AutoML_15fe9a5f-4c50-4fbf-a51e-bb07ed4daba7\", \"created_utc\": \"2023-11-20T06:21:17.659149Z\", \"properties\": {\"num_iterations\": \"1000\", \"training_type\": \"TrainFull\", \"acquisition_function\": \"EI\", \"primary_metric\": \"accuracy\", \"train_split\": \"0\", \"acquisition_parameter\": \"0\", \"num_cross_validation\": \"10\", \"target\": \"automl-cluster\", \"AMLSettingsJsonString\": \"{\\\"path\\\":null,\\\"name\\\":\\\"Iris-Multi-Class-Classification\\\",\\\"subscription_id\\\":\\\"0c19fc19-85fd-4aa4-b133-61dd20fa93df\\\",\\\"resource_group\\\":\\\"edwin.spartan117-rg\\\",\\\"workspace_name\\\":\\\"auotml-example-workspace\\\",\\\"region\\\":\\\"southeastasia\\\",\\\"compute_target\\\":\\\"automl-cluster\\\",\\\"spark_service\\\":null,\\\"azure_service\\\":\\\"remote\\\",\\\"many_models\\\":false,\\\"pipeline_fetch_max_batch_size\\\":1,\\\"enable_batch_run\\\":true,\\\"enable_parallel_run\\\":false,\\\"num_procs\\\":null,\\\"enable_run_restructure\\\":false,\\\"start_auxiliary_runs_before_parent_complete\\\":false,\\\"enable_code_generation\\\":true,\\\"iterations\\\":1000,\\\"primary_metric\\\":\\\"accuracy\\\",\\\"task_type\\\":\\\"classification\\\",\\\"positive_label\\\":null,\\\"data_script\\\":null,\\\"test_size\\\":0.0,\\\"test_include_predictions_only\\\":false,\\\"validation_size\\\":0.0,\\\"n_cross_validations\\\":10,\\\"y_min\\\":null,\\\"y_max\\\":null,\\\"num_classes\\\":null,\\\"featurization\\\":\\\"auto\\\",\\\"_ignore_package_version_incompatibilities\\\":false,\\\"is_timeseries\\\":false,\\\"max_cores_per_iteration\\\":1,\\\"max_concurrent_iterations\\\":1,\\\"iteration_timeout_minutes\\\":null,\\\"mem_in_mb\\\":null,\\\"enforce_time_on_windows\\\":false,\\\"experiment_timeout_minutes\\\":15,\\\"experiment_exit_score\\\":null,\\\"partition_column_names\\\":null,\\\"whitelist_models\\\":null,\\\"blacklist_algos\\\":[\\\"TensorFlowLinearClassifier\\\",\\\"TensorFlowDNN\\\"],\\\"supported_models\\\":[\\\"SGD\\\",\\\"LogisticRegression\\\",\\\"SVM\\\",\\\"GradientBoosting\\\",\\\"DecisionTree\\\",\\\"AveragedPerceptronClassifier\\\",\\\"TensorFlowLinearClassifier\\\",\\\"TensorFlowDNN\\\",\\\"ExtremeRandomTrees\\\",\\\"TabnetClassifier\\\",\\\"BernoulliNaiveBayes\\\",\\\"RandomForest\\\",\\\"MultinomialNaiveBayes\\\",\\\"LightGBM\\\",\\\"LinearSVM\\\",\\\"XGBoostClassifier\\\",\\\"KNN\\\"],\\\"private_models\\\":[],\\\"auto_blacklist\\\":true,\\\"blacklist_samples_reached\\\":false,\\\"exclude_nan_labels\\\":true,\\\"verbosity\\\":20,\\\"_debug_log\\\":\\\"azureml_automl.log\\\",\\\"show_warnings\\\":false,\\\"model_explainability\\\":true,\\\"service_url\\\":null,\\\"sdk_url\\\":null,\\\"sdk_packages\\\":null,\\\"enable_onnx_compatible_models\\\":false,\\\"enable_split_onnx_featurizer_estimator_models\\\":false,\\\"vm_type\\\":\\\"STANDARD_DS3_V2\\\",\\\"telemetry_verbosity\\\":20,\\\"send_telemetry\\\":true,\\\"enable_dnn\\\":false,\\\"scenario\\\":\\\"AutoML\\\",\\\"environment_label\\\":null,\\\"save_mlflow\\\":false,\\\"enable_categorical_indicators\\\":false,\\\"force_text_dnn\\\":false,\\\"enable_feature_sweeping\\\":true,\\\"enable_early_stopping\\\":true,\\\"early_stopping_n_iters\\\":10,\\\"arguments\\\":null,\\\"dataset_id\\\":\\\"45e78d1d-c224-4acb-a7da-254e88127a54\\\",\\\"hyperdrive_config\\\":null,\\\"validation_dataset_id\\\":null,\\\"run_source\\\":null,\\\"metrics\\\":null,\\\"enable_metric_confidence\\\":false,\\\"enable_ensembling\\\":true,\\\"enable_stack_ensembling\\\":true,\\\"ensemble_iterations\\\":15,\\\"enable_tf\\\":false,\\\"enable_subsampling\\\":null,\\\"subsample_seed\\\":null,\\\"enable_nimbusml\\\":false,\\\"enable_streaming\\\":false,\\\"force_streaming\\\":false,\\\"track_child_runs\\\":true,\\\"n_best_runs\\\":1,\\\"allowed_private_models\\\":[],\\\"label_column_name\\\":\\\"species\\\",\\\"weight_column_name\\\":null,\\\"cv_split_column_names\\\":null,\\\"enable_local_managed\\\":false,\\\"_local_managed_run_id\\\":null,\\\"cost_mode\\\":1,\\\"lag_length\\\":0,\\\"metric_operation\\\":\\\"maximize\\\",\\\"preprocess\\\":true}\", \"DataPrepJsonString\": \"{\\\\\\\"training_data\\\\\\\": {\\\\\\\"datasetId\\\\\\\": \\\\\\\"45e78d1d-c224-4acb-a7da-254e88127a54\\\\\\\"}, \\\\\\\"datasets\\\\\\\": 0}\", \"EnableSubsampling\": null, \"runTemplate\": \"AutoML\", \"azureml.runsource\": \"automl\", \"display_task_type\": \"classification\", \"dependencies_versions\": \"{\\\"azureml-dataprep-native\\\": \\\"38.0.0\\\", \\\"azureml-dataprep\\\": \\\"4.10.8\\\", \\\"azureml-dataprep-rslex\\\": \\\"2.17.12\\\", \\\"azureml-train-automl-runtime\\\": \\\"1.51.0.post2\\\", \\\"azureml-train-automl-client\\\": \\\"1.51.0.post1\\\", \\\"azureml-training-tabular\\\": \\\"1.51.0.post1\\\", \\\"azureml-automl-runtime\\\": \\\"1.51.0.post1\\\", \\\"azureml-automl-core\\\": \\\"1.51.0.post1\\\", \\\"azureml-mlflow\\\": \\\"1.51.0\\\", \\\"azureml-datadrift\\\": \\\"1.51.0\\\", \\\"azureml-pipeline\\\": \\\"1.51.0\\\", \\\"azureml-contrib-dataset\\\": \\\"1.51.0\\\", \\\"azureml-contrib-notebook\\\": \\\"1.51.0\\\", \\\"azureml-accel-models\\\": \\\"1.51.0\\\", \\\"azureml-automl-dnn-nlp\\\": \\\"1.51.0\\\", \\\"azureml-pipeline-core\\\": \\\"1.51.0\\\", \\\"azureml-responsibleai\\\": \\\"1.51.0\\\", \\\"azureml-contrib-automl-pipeline-steps\\\": \\\"1.51.0\\\", \\\"azureml-pipeline-steps\\\": \\\"1.51.0\\\", \\\"azureml-core\\\": \\\"1.51.0\\\", \\\"azureml-contrib-reinforcementlearning\\\": \\\"1.51.0\\\", \\\"azureml-contrib-server\\\": \\\"1.51.0\\\", \\\"azureml-opendatasets\\\": \\\"1.51.0\\\", \\\"azureml-contrib-services\\\": \\\"1.51.0\\\", \\\"azureml-telemetry\\\": \\\"1.51.0\\\", \\\"azureml-train-restclients-hyperdrive\\\": \\\"1.51.0\\\", \\\"azureml-interpret\\\": \\\"1.51.0\\\", \\\"azureml-train-core\\\": \\\"1.51.0\\\", \\\"azureml-tensorboard\\\": \\\"1.51.0\\\", \\\"azureml-train\\\": \\\"1.51.0\\\", \\\"azureml-contrib-pipeline-steps\\\": \\\"1.51.0\\\", \\\"azureml-explain-model\\\": \\\"1.51.0\\\", \\\"azureml-cli-common\\\": \\\"1.51.0\\\", \\\"azureml-widgets\\\": \\\"1.51.0\\\", \\\"azureml-train-automl\\\": \\\"1.51.0\\\", \\\"azureml-defaults\\\": \\\"1.51.0\\\", \\\"azureml-contrib-fairness\\\": \\\"1.51.0\\\", \\\"azureml-sdk\\\": \\\"1.51.0\\\", \\\"azureml-dataset-runtime\\\": \\\"1.51.0\\\", \\\"azureml-inference-server-http\\\": \\\"0.8.4\\\"}\", \"_aml_system_scenario_identification\": \"Remote.Parent\", \"ClientType\": \"SDK\", \"PlatformVersion\": \"DPV1\", \"environment_cpu_name\": \"AzureML-AutoML\", \"environment_cpu_label\": \"scikit-upgrade2\", \"environment_gpu_name\": \"AzureML-AutoML-GPU\", \"environment_gpu_label\": \"scikit-upgrade2\", \"root_attribution\": \"automl\", \"attribution\": \"AutoML\", \"Orchestrator\": \"AutoML\", \"CancelUri\": \"https://southeastasia.api.azureml.ms/jasmine/v1.0/subscriptions/0c19fc19-85fd-4aa4-b133-61dd20fa93df/resourceGroups/edwin.spartan117-rg/providers/Microsoft.MachineLearningServices/workspaces/auotml-example-workspace/experimentids/9d4a9bf4-f984-4688-95e3-6b6eaa7f03e7/cancel/AutoML_15fe9a5f-4c50-4fbf-a51e-bb07ed4daba7\", \"ClientSdkVersion\": null, \"snapshotId\": \"00000000-0000-0000-0000-000000000000\", \"SetupRunId\": \"AutoML_15fe9a5f-4c50-4fbf-a51e-bb07ed4daba7_setup\", \"SetupRunContainerId\": \"dcid.AutoML_15fe9a5f-4c50-4fbf-a51e-bb07ed4daba7_setup\", \"FeaturizationRunJsonPath\": \"featurizer_container.json\", \"FeaturizationRunId\": \"AutoML_15fe9a5f-4c50-4fbf-a51e-bb07ed4daba7_featurize\", \"ProblemInfoJsonString\": \"{\\\"dataset_num_categorical\\\": 0, \\\"is_sparse\\\": false, \\\"subsampling\\\": false, \\\"has_extra_col\\\": true, \\\"dataset_classes\\\": 3, \\\"dataset_features\\\": 4, \\\"dataset_samples\\\": 150, \\\"single_frequency_class_detected\\\": false}\", \"ModelExplainRunId\": \"AutoML_15fe9a5f-4c50-4fbf-a51e-bb07ed4daba7_ModelExplain\"}, \"tags\": {\"model_explain_run\": \"best_run\", \"_aml_system_automl_run_workspace_id\": \"080e5758-0b91-49eb-ac97-661db0f2b2eb\", \"_aml_system_azureml.automlComponent\": \"AutoML\", \"pipeline_id_000\": \"5dfac790c5c209f98a1da2dc1c7fb76f0397324f;c7af0367625be6ac5c2fecbfc72ed444cb7a2111;799d2168db11fc19b9e1c6c1df62f8981ad39fe9;44b5d2d23120dfcf96a7dc6389a293d17a966b1b;628c2351f7c75d74ad3673f2d39af16d6976da2e;3735210984ea10097d5c91905cf6300ac278cd89;2964988f7520e6167bfe42ba2c42ab4a75f8a68c;5304e705d6f401cb07f85bcf0ca59ac1f84dfcf5;5f21d4801ee2a6073890b89985177d37ef49c646;081b692de9e87424d86c2c1d0787b65e098fc386;294650ec23bc3d067a4972de7ceb12f6e97260fa;08e13545f5f7e2df5ef6a66d4110cfd996b1a0e3;22bffc6cdfb453aa19b0792ec8a8b592bd44dc5b;bc4e14e9481990f09b66c70640f3b1c528f584ac;ce96746d6f86360fe360023f5ae43340d1986145;7b422e7b3f86902c2409d5b5d9ff0c84d5dacfee;ca211529127bb19e1fc933b24b457a03beb5e48e;3caa818370e5e0c328d6266c359019bd31681270;589334a57221e0720a95cf217c065115a7b841d1;35b8e2db3c5f6e714072e1be9f0210fe48426975;da45f657e4591caadf1589a85a1f7b8932585595;3fd2e115482e0c7b92aa3297688aefb6c3aa6fb8;32a008a72ab56ca0a2cfca37286e4f138e6690a8;368f0fd0dfe486a00ac595337653a9ac1f8af981;9c51a8187d953e55d5a631dbdd30a5745889a66a;d7602f1cac9fe9bc6686e234576b6a1fcb63eca8;8074549769a8fe5b59c8e26af2477ca0c0c80b85;017cac792b96b33481eb24859e8f5e20efa63d58;6f06be3030e8ffe8d4aaaa373fed5ae4496ec8a2;b5b5d6f41cddfaadd0ea1ab7bd79df083cafd46e;__AutoML_Ensemble__;__AutoML_Stack_Ensemble__\", \"score_000\": \"0.9466666666666667;0.9466666666666667;0.9533333333333334;0.9466666666666667;0.9600000000000002;0.9533333333333334;0.9800000000000001;0.9400000000000001;0.9600000000000002;0.96;0.9400000000000001;0.9466666666666667;0.9800000000000001;0.9600000000000002;0.9466666666666667;0.9466666666666667;0.9533333333333334;0.9466666666666667;0.9466666666666667;0.9333333333333333;0.9800000000000001;0.9466666666666667;0.9733333333333334;0.9466666666666667;0.9800000000000001;0.8733333333333334;0.9400000000000001;0.8799999999999999;0.9533333333333334;0.96;0.9800000000000001;0.9733333333333333\", \"predicted_cost_000\": \"0;0;0.5;0.5;0.5;0.5;0.5;0.5;0.5;0.5;0.5;0.5;0.5;0.5;0.5;0.5;0.5;0.5;0.5;0.5;0.03357120311457102;0.004870713533969292;0.00913125672739981;0.00443266756304115;0.044360643715384285;0.0714116077143562;0.01545020303684795;0.006539836982193318;0.03100723693229069;0.034999594405571786;0;0\", \"fit_time_000\": \"0.0348753;0.034847300000000005;0.14908459999999998;0.0098992;0.0036692999999999995;0.0102125;0.014485800000000002;0.0091995;0.0032373;0.0047940000000000005;0.010601200000000002;0.23879799999999998;0.012073200000000001;0.0040233;0.004210800000000001;0.0030915;0.0027879000000000003;0.011090999999999998;0.0103958;0.010333199999999999;0.0219763;0.0093575;0.0072159;0.0090814;0.024630400000000004;0.0087757;0.039323399999999994;0.0039133;0.013735800000000001;0.036143800000000004;15;15\", \"training_percent_000\": \"100;100;100;100;100;100;100;100;100;100;100;100;100;100;100;100;100;100;100;100;100;100;100;100;100;100;100;100;100;100;100;100\", \"iteration_000\": \"0;1;2;3;4;5;6;7;8;9;10;11;12;13;14;15;16;17;18;19;20;21;22;23;24;25;26;27;28;29;30;31\", \"run_preprocessor_000\": \"MaxAbsScaler;MaxAbsScaler;MaxAbsScaler;SparseNormalizer;StandardScalerWrapper;MaxAbsScaler;RobustScaler;MaxAbsScaler;StandardScalerWrapper;StandardScalerWrapper;StandardScalerWrapper;MinMaxScaler;StandardScalerWrapper;StandardScalerWrapper;RobustScaler;MinMaxScaler;SparseNormalizer;MaxAbsScaler;StandardScalerWrapper;StandardScalerWrapper;MaxAbsScaler;StandardScalerWrapper;MinMaxScaler;MaxAbsScaler;RobustScaler;SparseNormalizer;MaxAbsScaler;StandardScalerWrapper;RobustScaler;SparseNormalizer;;\", \"run_algorithm_000\": \"LightGBM;XGBoostClassifier;ExtremeRandomTrees;XGBoostClassifier;KNN;LightGBM;LogisticRegression;LightGBM;KNN;SVM;XGBoostClassifier;RandomForest;LogisticRegression;KNN;KNN;KNN;KNN;LogisticRegression;XGBoostClassifier;XGBoostClassifier;LogisticRegression;XGBoostClassifier;LogisticRegression;LogisticRegression;LogisticRegression;LogisticRegression;ExtremeRandomTrees;LogisticRegression;LogisticRegression;LightGBM;VotingEnsemble;StackEnsemble\", \"dynamic_allowlisting_iterations\": \"<25>;\", \"_aml_system_azureml.automl_early_exit_message\": \"Experiment timeout reached, hence experiment stopped. Current experiment timeout: 0 hour(s) 15 minute(s)\", \"automl_best_child_run_id\": \"AutoML_15fe9a5f-4c50-4fbf-a51e-bb07ed4daba7_6\", \"model_explain_best_run_child_id\": \"AutoML_15fe9a5f-4c50-4fbf-a51e-bb07ed4daba7_6\"}, \"end_time_utc\": \"2023-11-20T06:42:34.431634Z\", \"status\": \"Completed\", \"log_files\": {}, \"log_groups\": [], \"run_duration\": \"0:21:16\", \"run_number\": \"1700461277\", \"run_queued_details\": {\"status\": \"Completed\", \"details\": null}}, \"child_runs\": [{\"run_id\": \"AutoML_15fe9a5f-4c50-4fbf-a51e-bb07ed4daba7_setup\", \"run_number\": 1700461290, \"metric\": null, \"status\": \"Completed\", \"run_type\": \"azureml.scriptrun\", \"training_percent\": null, \"start_time\": \"2023-11-20T06:22:01.199628Z\", \"end_time\": \"2023-11-20T06:23:45.11842Z\", \"created_time\": \"2023-11-20T06:21:30.044913Z\", \"created_time_dt\": \"2023-11-20T06:21:30.044913Z\", \"duration\": \"0:02:15\", \"iteration\": null, \"goal\": null, \"run_name\": \"Completed\", \"run_properties\": null}, {\"run_id\": \"AutoML_15fe9a5f-4c50-4fbf-a51e-bb07ed4daba7_featurize\", \"run_number\": 1700461425, \"metric\": null, \"status\": \"Completed\", \"run_type\": \"automl.featurization\", \"training_percent\": null, \"start_time\": \"2023-11-20T06:23:45.715226Z\", \"end_time\": \"2023-11-20T06:24:43.717552Z\", \"created_time\": \"2023-11-20T06:23:45.447352Z\", \"created_time_dt\": \"2023-11-20T06:23:45.447352Z\", \"duration\": \"0:00:58\", \"iteration\": null, \"goal\": null, \"run_name\": \"Completed\", \"run_properties\": null}, {\"run_id\": \"AutoML_15fe9a5f-4c50-4fbf-a51e-bb07ed4daba7_0\", \"run_number\": 1700461485, \"metric\": null, \"status\": \"Completed\", \"run_type\": null, \"training_percent\": \"100\", \"start_time\": \"2023-11-20T06:25:30.58375Z\", \"end_time\": \"2023-11-20T06:25:44.692125Z\", \"created_time\": \"2023-11-20T06:24:45.248043Z\", \"created_time_dt\": \"2023-11-20T06:24:45.248043Z\", \"duration\": \"0:00:59\", \"iteration\": \"0\", \"goal\": \"accuracy_max\", \"run_name\": \"MaxAbsScaler, LightGBM\", \"run_properties\": \"copy=True\", \"primary_metric\": 0.94666667, \"best_metric\": 0.94666667}, {\"run_id\": \"AutoML_15fe9a5f-4c50-4fbf-a51e-bb07ed4daba7_2\", \"run_number\": 1700461486, \"metric\": null, \"status\": \"Completed\", \"run_type\": null, \"training_percent\": \"100\", \"start_time\": \"2023-11-20T06:25:57.708411Z\", \"end_time\": \"2023-11-20T06:26:09.977026Z\", \"created_time\": \"2023-11-20T06:24:46.280033Z\", \"created_time_dt\": \"2023-11-20T06:24:46.280033Z\", \"duration\": \"0:01:23\", \"iteration\": \"2\", \"goal\": \"accuracy_max\", \"run_name\": \"MaxAbsScaler, ExtremeRandomTrees\", \"run_properties\": \"copy=True\", \"primary_metric\": 0.95333333, \"best_metric\": 0.95333333}, {\"run_id\": \"AutoML_15fe9a5f-4c50-4fbf-a51e-bb07ed4daba7_4\", \"run_number\": 1700461487, \"metric\": null, \"status\": \"Completed\", \"run_type\": null, \"training_percent\": \"100\", \"start_time\": \"2023-11-20T06:26:22.466302Z\", \"end_time\": \"2023-11-20T06:26:33.159033Z\", \"created_time\": \"2023-11-20T06:24:47.330981Z\", \"created_time_dt\": \"2023-11-20T06:24:47.330981Z\", \"duration\": \"0:01:45\", \"iteration\": \"4\", \"goal\": \"accuracy_max\", \"run_name\": \"StandardScalerWrapper, KNN\", \"run_properties\": \"copy=True, with_mean=False, with_std=False\", \"primary_metric\": 0.96, \"best_metric\": 0.96}, {\"run_id\": \"AutoML_15fe9a5f-4c50-4fbf-a51e-bb07ed4daba7_6\", \"run_number\": 1700461488, \"metric\": null, \"status\": \"Completed\", \"run_type\": null, \"training_percent\": \"100\", \"start_time\": \"2023-11-20T06:26:45.578433Z\", \"end_time\": \"2023-11-20T06:26:55.964065Z\", \"created_time\": \"2023-11-20T06:24:48.243978Z\", \"created_time_dt\": \"2023-11-20T06:24:48.243978Z\", \"duration\": \"0:02:07\", \"iteration\": \"6\", \"goal\": \"accuracy_max\", \"run_name\": \"RobustScaler, LogisticRegression\", \"run_properties\": \"copy=True, quantile_range=[10, 90], with_centering=True,\\n             with_scaling=True\", \"primary_metric\": 0.98, \"best_metric\": 0.98}, {\"run_id\": \"AutoML_15fe9a5f-4c50-4fbf-a51e-bb07ed4daba7_8\", \"run_number\": 1700461489, \"metric\": null, \"status\": \"Completed\", \"run_type\": null, \"training_percent\": \"100\", \"start_time\": \"2023-11-20T06:27:09.781817Z\", \"end_time\": \"2023-11-20T06:27:20.281625Z\", \"created_time\": \"2023-11-20T06:24:49.127828Z\", \"created_time_dt\": \"2023-11-20T06:24:49.127828Z\", \"duration\": \"0:02:31\", \"iteration\": \"8\", \"goal\": \"accuracy_max\", \"run_name\": \"StandardScalerWrapper, KNN\", \"run_properties\": \"copy=True, with_mean=False, with_std=False\", \"primary_metric\": 0.96, \"best_metric\": 0.98}, {\"run_id\": \"AutoML_15fe9a5f-4c50-4fbf-a51e-bb07ed4daba7_11\", \"run_number\": 1700461490, \"metric\": null, \"status\": \"Completed\", \"run_type\": null, \"training_percent\": \"100\", \"start_time\": \"2023-11-20T06:27:45.142285Z\", \"end_time\": \"2023-11-20T06:27:58.535187Z\", \"created_time\": \"2023-11-20T06:24:50.389501Z\", \"created_time_dt\": \"2023-11-20T06:24:50.389501Z\", \"duration\": \"0:03:08\", \"iteration\": \"11\", \"goal\": \"accuracy_max\", \"run_name\": \"MinMaxScaler, RandomForest\", \"run_properties\": \"copy=True, feature_range=(0, 1\", \"primary_metric\": 0.94666667, \"best_metric\": 0.98}, {\"run_id\": \"AutoML_15fe9a5f-4c50-4fbf-a51e-bb07ed4daba7_13\", \"run_number\": 1700461491, \"metric\": null, \"status\": \"Completed\", \"run_type\": null, \"training_percent\": \"100\", \"start_time\": \"2023-11-20T06:28:10.924024Z\", \"end_time\": \"2023-11-20T06:28:21.798533Z\", \"created_time\": \"2023-11-20T06:24:51.275183Z\", \"created_time_dt\": \"2023-11-20T06:24:51.275183Z\", \"duration\": \"0:03:30\", \"iteration\": \"13\", \"goal\": \"accuracy_max\", \"run_name\": \"StandardScalerWrapper, KNN\", \"run_properties\": \"copy=True, with_mean=False, with_std=True\", \"primary_metric\": 0.96, \"best_metric\": 0.98}, {\"run_id\": \"AutoML_15fe9a5f-4c50-4fbf-a51e-bb07ed4daba7_15\", \"run_number\": 1700461492, \"metric\": null, \"status\": \"Completed\", \"run_type\": null, \"training_percent\": \"100\", \"start_time\": \"2023-11-20T06:28:34.691096Z\", \"end_time\": \"2023-11-20T06:28:45.19816Z\", \"created_time\": \"2023-11-20T06:24:52.303753Z\", \"created_time_dt\": \"2023-11-20T06:24:52.303753Z\", \"duration\": \"0:03:52\", \"iteration\": \"15\", \"goal\": \"accuracy_max\", \"run_name\": \"MinMaxScaler, KNN\", \"run_properties\": \"copy=True, feature_range=(0, 1\", \"primary_metric\": 0.94666667, \"best_metric\": 0.98}, {\"run_id\": \"AutoML_15fe9a5f-4c50-4fbf-a51e-bb07ed4daba7_17\", \"run_number\": 1700461493, \"metric\": null, \"status\": \"Completed\", \"run_type\": null, \"training_percent\": \"100\", \"start_time\": \"2023-11-20T06:28:57.489354Z\", \"end_time\": \"2023-11-20T06:29:08.065936Z\", \"created_time\": \"2023-11-20T06:24:53.212923Z\", \"created_time_dt\": \"2023-11-20T06:24:53.212923Z\", \"duration\": \"0:04:14\", \"iteration\": \"17\", \"goal\": \"accuracy_max\", \"run_name\": \"MaxAbsScaler, LogisticRegression\", \"run_properties\": \"copy=True\", \"primary_metric\": 0.94666667, \"best_metric\": 0.98}, {\"run_id\": \"AutoML_15fe9a5f-4c50-4fbf-a51e-bb07ed4daba7_worker_0\", \"run_number\": 1700461494, \"metric\": null, \"status\": \"Completed\", \"run_type\": \"azureml.scriptrun\", \"training_percent\": null, \"start_time\": \"2023-11-20T06:25:21.359937Z\", \"end_time\": \"2023-11-20T06:29:42.936981Z\", \"created_time\": \"2023-11-20T06:24:54.338572Z\", \"created_time_dt\": \"2023-11-20T06:24:54.338572Z\", \"duration\": \"0:04:48\", \"iteration\": null, \"goal\": null, \"run_name\": \"Completed\", \"run_properties\": null}, {\"run_id\": \"AutoML_15fe9a5f-4c50-4fbf-a51e-bb07ed4daba7_20\", \"run_number\": 1700461881, \"metric\": null, \"status\": \"Completed\", \"run_type\": \"azureml.scriptrun\", \"training_percent\": \"100\", \"start_time\": \"2023-11-20T06:31:42.841196Z\", \"end_time\": \"2023-11-20T06:32:12.800387Z\", \"created_time\": \"2023-11-20T06:31:21.236215Z\", \"created_time_dt\": \"2023-11-20T06:31:21.236215Z\", \"duration\": \"0:00:51\", \"iteration\": \"20\", \"goal\": \"accuracy_max\", \"run_name\": \"MaxAbsScaler, LogisticRegression\", \"run_properties\": \"copy=True\", \"primary_metric\": 0.98, \"best_metric\": 0.98}, {\"run_id\": \"AutoML_15fe9a5f-4c50-4fbf-a51e-bb07ed4daba7_21\", \"run_number\": 1700461934, \"metric\": null, \"status\": \"Completed\", \"run_type\": \"azureml.scriptrun\", \"training_percent\": \"100\", \"start_time\": \"2023-11-20T06:32:36.927211Z\", \"end_time\": \"2023-11-20T06:33:06.593721Z\", \"created_time\": \"2023-11-20T06:32:14.424795Z\", \"created_time_dt\": \"2023-11-20T06:32:14.424795Z\", \"duration\": \"0:00:52\", \"iteration\": \"21\", \"goal\": \"accuracy_max\", \"run_name\": \"StandardScalerWrapper, XGBoostClassifier\", \"run_properties\": \"copy=True, with_mean=False, with_std=False\", \"primary_metric\": 0.94666667, \"best_metric\": 0.98}, {\"run_id\": \"AutoML_15fe9a5f-4c50-4fbf-a51e-bb07ed4daba7_22\", \"run_number\": 1700461988, \"metric\": null, \"status\": \"Completed\", \"run_type\": \"azureml.scriptrun\", \"training_percent\": \"100\", \"start_time\": \"2023-11-20T06:33:28.275094Z\", \"end_time\": \"2023-11-20T06:33:57.713476Z\", \"created_time\": \"2023-11-20T06:33:08.126734Z\", \"created_time_dt\": \"2023-11-20T06:33:08.126734Z\", \"duration\": \"0:00:49\", \"iteration\": \"22\", \"goal\": \"accuracy_max\", \"run_name\": \"MinMaxScaler, LogisticRegression\", \"run_properties\": \"copy=True, feature_range=(0, 1\", \"primary_metric\": 0.97333333, \"best_metric\": 0.98}, {\"run_id\": \"AutoML_15fe9a5f-4c50-4fbf-a51e-bb07ed4daba7_23\", \"run_number\": 1700462038, \"metric\": null, \"status\": \"Completed\", \"run_type\": \"azureml.scriptrun\", \"training_percent\": \"100\", \"start_time\": \"2023-11-20T06:34:19.680548Z\", \"end_time\": \"2023-11-20T06:34:48.403329Z\", \"created_time\": \"2023-11-20T06:33:58.945568Z\", \"created_time_dt\": \"2023-11-20T06:33:58.945568Z\", \"duration\": \"0:00:49\", \"iteration\": \"23\", \"goal\": \"accuracy_max\", \"run_name\": \"MaxAbsScaler, LogisticRegression\", \"run_properties\": \"copy=True\", \"primary_metric\": 0.94666667, \"best_metric\": 0.98}, {\"run_id\": \"AutoML_15fe9a5f-4c50-4fbf-a51e-bb07ed4daba7_24\", \"run_number\": 1700462089, \"metric\": null, \"status\": \"Completed\", \"run_type\": \"azureml.scriptrun\", \"training_percent\": \"100\", \"start_time\": \"2023-11-20T06:35:10.054309Z\", \"end_time\": \"2023-11-20T06:35:39.19245Z\", \"created_time\": \"2023-11-20T06:34:49.630805Z\", \"created_time_dt\": \"2023-11-20T06:34:49.630805Z\", \"duration\": \"0:00:49\", \"iteration\": \"24\", \"goal\": \"accuracy_max\", \"run_name\": \"RobustScaler, LogisticRegression\", \"run_properties\": \"copy=True, quantile_range=[10, 90], with_centering=False,\\n             with_scaling=True\", \"primary_metric\": 0.98, \"best_metric\": 0.98}, {\"run_id\": \"AutoML_15fe9a5f-4c50-4fbf-a51e-bb07ed4daba7_25\", \"run_number\": 1700462141, \"metric\": null, \"status\": \"Completed\", \"run_type\": \"azureml.scriptrun\", \"training_percent\": \"100\", \"start_time\": \"2023-11-20T06:36:04.323072Z\", \"end_time\": \"2023-11-20T06:36:34.2662Z\", \"created_time\": \"2023-11-20T06:35:41.189554Z\", \"created_time_dt\": \"2023-11-20T06:35:41.189554Z\", \"duration\": \"0:00:53\", \"iteration\": \"25\", \"goal\": \"accuracy_max\", \"run_name\": \"SparseNormalizer, LogisticRegression\", \"run_properties\": \"copy=True, norm='max'\", \"primary_metric\": 0.87333333, \"best_metric\": 0.98}, {\"run_id\": \"AutoML_15fe9a5f-4c50-4fbf-a51e-bb07ed4daba7_26\", \"run_number\": 1700462195, \"metric\": null, \"status\": \"Completed\", \"run_type\": \"azureml.scriptrun\", \"training_percent\": \"100\", \"start_time\": \"2023-11-20T06:36:56.780808Z\", \"end_time\": \"2023-11-20T06:37:28.134649Z\", \"created_time\": \"2023-11-20T06:36:35.466925Z\", \"created_time_dt\": \"2023-11-20T06:36:35.466925Z\", \"duration\": \"0:00:52\", \"iteration\": \"26\", \"goal\": \"accuracy_max\", \"run_name\": \"MaxAbsScaler, ExtremeRandomTrees\", \"run_properties\": \"copy=True\", \"primary_metric\": 0.94, \"best_metric\": 0.98}, {\"run_id\": \"AutoML_15fe9a5f-4c50-4fbf-a51e-bb07ed4daba7_27\", \"run_number\": 1700462249, \"metric\": null, \"status\": \"Completed\", \"run_type\": \"azureml.scriptrun\", \"training_percent\": \"100\", \"start_time\": \"2023-11-20T06:37:53.72695Z\", \"end_time\": \"2023-11-20T06:38:25.525978Z\", \"created_time\": \"2023-11-20T06:37:29.361317Z\", \"created_time_dt\": \"2023-11-20T06:37:29.361317Z\", \"duration\": \"0:00:56\", \"iteration\": \"27\", \"goal\": \"accuracy_max\", \"run_name\": \"StandardScalerWrapper, LogisticRegression\", \"run_properties\": \"copy=True, with_mean=True, with_std=True\", \"primary_metric\": 0.88, \"best_metric\": 0.98}, {\"run_id\": \"AutoML_15fe9a5f-4c50-4fbf-a51e-bb07ed4daba7_28\", \"run_number\": 1700462307, \"metric\": null, \"status\": \"Completed\", \"run_type\": \"azureml.scriptrun\", \"training_percent\": \"100\", \"start_time\": \"2023-11-20T06:38:50.308556Z\", \"end_time\": \"2023-11-20T06:39:21.390971Z\", \"created_time\": \"2023-11-20T06:38:27.049402Z\", \"created_time_dt\": \"2023-11-20T06:38:27.049402Z\", \"duration\": \"0:00:54\", \"iteration\": \"28\", \"goal\": \"accuracy_max\", \"run_name\": \"RobustScaler, LogisticRegression\", \"run_properties\": \"copy=True, quantile_range=[10, 90], with_centering=True,\\n             with_scaling=True\", \"primary_metric\": 0.95333333, \"best_metric\": 0.98}, {\"run_id\": \"AutoML_15fe9a5f-4c50-4fbf-a51e-bb07ed4daba7_29\", \"run_number\": 1700462362, \"metric\": null, \"status\": \"Completed\", \"run_type\": \"azureml.scriptrun\", \"training_percent\": \"100\", \"start_time\": \"2023-11-20T06:39:42.949651Z\", \"end_time\": \"2023-11-20T06:40:13.113383Z\", \"created_time\": \"2023-11-20T06:39:22.871659Z\", \"created_time_dt\": \"2023-11-20T06:39:22.871659Z\", \"duration\": \"0:00:50\", \"iteration\": \"29\", \"goal\": \"accuracy_max\", \"run_name\": \"SparseNormalizer, LightGBM\", \"run_properties\": \"copy=True, norm='l1'\", \"primary_metric\": 0.96, \"best_metric\": 0.98}, {\"run_id\": \"AutoML_15fe9a5f-4c50-4fbf-a51e-bb07ed4daba7_30\", \"run_number\": 1700462413, \"metric\": null, \"status\": \"Completed\", \"run_type\": \"azureml.scriptrun\", \"training_percent\": \"100\", \"start_time\": \"2023-11-20T06:40:35.378579Z\", \"end_time\": \"2023-11-20T06:41:22.037565Z\", \"created_time\": \"2023-11-20T06:40:13.74989Z\", \"created_time_dt\": \"2023-11-20T06:40:13.74989Z\", \"duration\": \"0:01:08\", \"iteration\": \"30\", \"goal\": \"accuracy_max\", \"run_name\": \"VotingEnsemble\", \"run_properties\": \"classification_labels=numpy.array([0, 1, 2]\", \"primary_metric\": 0.98, \"best_metric\": 0.98}, {\"run_id\": \"AutoML_15fe9a5f-4c50-4fbf-a51e-bb07ed4daba7_31\", \"run_number\": 1700462482, \"metric\": null, \"status\": \"Completed\", \"run_type\": \"azureml.scriptrun\", \"training_percent\": \"100\", \"start_time\": \"2023-11-20T06:41:46.933512Z\", \"end_time\": \"2023-11-20T06:42:33.263981Z\", \"created_time\": \"2023-11-20T06:41:22.631779Z\", \"created_time_dt\": \"2023-11-20T06:41:22.631779Z\", \"duration\": \"0:01:10\", \"iteration\": \"31\", \"goal\": \"accuracy_max\", \"run_name\": \"StackEnsemble\", \"run_properties\": \"base_learners=[('24', Pipeline(memory=None, steps=[('robustscaler', RobustScaler(copy=True, quantile_range=[10, 90], with_centering=False, with_scaling=True\", \"primary_metric\": 0.97333333, \"best_metric\": 0.98}], \"children_metrics\": {\"categories\": [0], \"series\": {\"recall_score_macro\": [{\"categories\": [\"0\", \"2\", \"4\", \"6\", \"8\", \"11\", \"13\", \"15\", \"17\", \"20\", \"21\", \"22\", \"23\", \"24\", \"25\", \"26\", \"27\", \"28\", \"29\", \"30\", \"31\"], \"mode\": \"markers\", \"name\": \"recall_score_macro\", \"stepped\": false, \"type\": \"scatter\", \"data\": [0.9513492063492063, 0.955515873015873, 0.9646428571428572, 0.9808333333333333, 0.9646428571428572, 0.9535317460317462, 0.9621825396825396, 0.9507539682539683, 0.9516269841269841, 0.9808333333333333, 0.9513492063492063, 0.9741666666666667, 0.9516269841269841, 0.9808333333333333, 0.8784126984126983, 0.9446825396825396, 0.8830555555555554, 0.956111111111111, 0.9601984126984128, 0.9808333333333333, 0.9766666666666666]}, {\"categories\": [\"0\", \"2\", \"4\", \"6\", \"8\", \"11\", \"13\", \"15\", \"17\", \"20\", \"21\", \"22\", \"23\", \"24\", \"25\", \"26\", \"27\", \"28\", \"29\", \"30\", \"31\"], \"mode\": \"lines\", \"name\": \"recall_score_macro_max\", \"stepped\": true, \"type\": \"scatter\", \"data\": [0.9513492063492063, 0.955515873015873, 0.9646428571428572, 0.9808333333333333, 0.9808333333333333, 0.9808333333333333, 0.9808333333333333, 0.9808333333333333, 0.9808333333333333, 0.9808333333333333, 0.9808333333333333, 0.9808333333333333, 0.9808333333333333, 0.9808333333333333, 0.9808333333333333, 0.9808333333333333, 0.9808333333333333, 0.9808333333333333, 0.9808333333333333, 0.9808333333333333, 0.9808333333333333]}], \"recall_score_weighted\": [{\"categories\": [\"0\", \"2\", \"4\", \"6\", \"8\", \"11\", \"13\", \"15\", \"17\", \"20\", \"21\", \"22\", \"23\", \"24\", \"25\", \"26\", \"27\", \"28\", \"29\", \"30\", \"31\"], \"mode\": \"markers\", \"name\": \"recall_score_weighted\", \"stepped\": false, \"type\": \"scatter\", \"data\": [0.9466666666666667, 0.9533333333333334, 0.9600000000000002, 0.9800000000000001, 0.9600000000000002, 0.9466666666666667, 0.9600000000000002, 0.9466666666666667, 0.9466666666666667, 0.9800000000000001, 0.9466666666666667, 0.9733333333333334, 0.9466666666666667, 0.9800000000000001, 0.8733333333333334, 0.9400000000000001, 0.8799999999999999, 0.9533333333333334, 0.96, 0.9800000000000001, 0.9733333333333333]}, {\"categories\": [\"0\", \"2\", \"4\", \"6\", \"8\", \"11\", \"13\", \"15\", \"17\", \"20\", \"21\", \"22\", \"23\", \"24\", \"25\", \"26\", \"27\", \"28\", \"29\", \"30\", \"31\"], \"mode\": \"lines\", \"name\": \"recall_score_weighted_max\", \"stepped\": true, \"type\": \"scatter\", \"data\": [0.9466666666666667, 0.9533333333333334, 0.9600000000000002, 0.9800000000000001, 0.9800000000000001, 0.9800000000000001, 0.9800000000000001, 0.9800000000000001, 0.9800000000000001, 0.9800000000000001, 0.9800000000000001, 0.9800000000000001, 0.9800000000000001, 0.9800000000000001, 0.9800000000000001, 0.9800000000000001, 0.9800000000000001, 0.9800000000000001, 0.9800000000000001, 0.9800000000000001, 0.9800000000000001]}], \"precision_score_micro\": [{\"categories\": [\"0\", \"2\", \"4\", \"6\", \"8\", \"11\", \"13\", \"15\", \"17\", \"20\", \"21\", \"22\", \"23\", \"24\", \"25\", \"26\", \"27\", \"28\", \"29\", \"30\", \"31\"], \"mode\": \"markers\", \"name\": \"precision_score_micro\", \"stepped\": false, \"type\": \"scatter\", \"data\": [0.9466666666666667, 0.9533333333333334, 0.9600000000000002, 0.9800000000000001, 0.9600000000000002, 0.9466666666666667, 0.9600000000000002, 0.9466666666666667, 0.9466666666666667, 0.9800000000000001, 0.9466666666666667, 0.9733333333333334, 0.9466666666666667, 0.9800000000000001, 0.8733333333333334, 0.9400000000000001, 0.8799999999999999, 0.9533333333333334, 0.96, 0.9800000000000001, 0.9733333333333333]}, {\"categories\": [\"0\", \"2\", \"4\", \"6\", \"8\", \"11\", \"13\", \"15\", \"17\", \"20\", \"21\", \"22\", \"23\", \"24\", \"25\", \"26\", \"27\", \"28\", \"29\", \"30\", \"31\"], \"mode\": \"lines\", \"name\": \"precision_score_micro_max\", \"stepped\": true, \"type\": \"scatter\", \"data\": [0.9466666666666667, 0.9533333333333334, 0.9600000000000002, 0.9800000000000001, 0.9800000000000001, 0.9800000000000001, 0.9800000000000001, 0.9800000000000001, 0.9800000000000001, 0.9800000000000001, 0.9800000000000001, 0.9800000000000001, 0.9800000000000001, 0.9800000000000001, 0.9800000000000001, 0.9800000000000001, 0.9800000000000001, 0.9800000000000001, 0.9800000000000001, 0.9800000000000001, 0.9800000000000001]}], \"f1_score_weighted\": [{\"categories\": [\"0\", \"2\", \"4\", \"6\", \"8\", \"11\", \"13\", \"15\", \"17\", \"20\", \"21\", \"22\", \"23\", \"24\", \"25\", \"26\", \"27\", \"28\", \"29\", \"30\", \"31\"], \"mode\": \"markers\", \"name\": \"f1_score_weighted\", \"stepped\": false, \"type\": \"scatter\", \"data\": [0.9477210197210197, 0.9535622895622897, 0.9607027047027048, 0.9802962962962963, 0.9607027047027048, 0.9473693713693713, 0.9601231361231362, 0.9471154031154031, 0.9470095830095829, 0.9802962962962963, 0.9477210197210197, 0.9735622895622896, 0.9470095830095829, 0.9802962962962963, 0.8692114367114367, 0.9410543530543531, 0.8802745402745403, 0.9541337181337182, 0.9605242165242165, 0.9802962962962963, 0.9744550264550265]}, {\"categories\": [\"0\", \"2\", \"4\", \"6\", \"8\", \"11\", \"13\", \"15\", \"17\", \"20\", \"21\", \"22\", \"23\", \"24\", \"25\", \"26\", \"27\", \"28\", \"29\", \"30\", \"31\"], \"mode\": \"lines\", \"name\": \"f1_score_weighted_max\", \"stepped\": true, \"type\": \"scatter\", \"data\": [0.9477210197210197, 0.9535622895622897, 0.9607027047027048, 0.9802962962962963, 0.9802962962962963, 0.9802962962962963, 0.9802962962962963, 0.9802962962962963, 0.9802962962962963, 0.9802962962962963, 0.9802962962962963, 0.9802962962962963, 0.9802962962962963, 0.9802962962962963, 0.9802962962962963, 0.9802962962962963, 0.9802962962962963, 0.9802962962962963, 0.9802962962962963, 0.9802962962962963, 0.9802962962962963]}], \"f1_score_macro\": [{\"categories\": [\"0\", \"2\", \"4\", \"6\", \"8\", \"11\", \"13\", \"15\", \"17\", \"20\", \"21\", \"22\", \"23\", \"24\", \"25\", \"26\", \"27\", \"28\", \"29\", \"30\", \"31\"], \"mode\": \"markers\", \"name\": \"f1_score_macro\", \"stepped\": false, \"type\": \"scatter\", \"data\": [0.9427873977873977, 0.9497715247715247, 0.9554902504902504, 0.9756613756613757, 0.9554902504902504, 0.9433690383690383, 0.9582371332371332, 0.9424455174455174, 0.9431309431309431, 0.9756613756613757, 0.9427873977873977, 0.9689273689273689, 0.9431309431309431, 0.9756613756613757, 0.8632091057091058, 0.9353799903799903, 0.870497927997928, 0.9488985088985089, 0.9527553927553928, 0.9756613756613757, 0.9686772486772487]}, {\"categories\": [\"0\", \"2\", \"4\", \"6\", \"8\", \"11\", \"13\", \"15\", \"17\", \"20\", \"21\", \"22\", \"23\", \"24\", \"25\", \"26\", \"27\", \"28\", \"29\", \"30\", \"31\"], \"mode\": \"lines\", \"name\": \"f1_score_macro_max\", \"stepped\": true, \"type\": \"scatter\", \"data\": [0.9427873977873977, 0.9497715247715247, 0.9554902504902504, 0.9756613756613757, 0.9756613756613757, 0.9756613756613757, 0.9756613756613757, 0.9756613756613757, 0.9756613756613757, 0.9756613756613757, 0.9756613756613757, 0.9756613756613757, 0.9756613756613757, 0.9756613756613757, 0.9756613756613757, 0.9756613756613757, 0.9756613756613757, 0.9756613756613757, 0.9756613756613757, 0.9756613756613757, 0.9756613756613757]}], \"average_precision_score_weighted\": [{\"categories\": [\"0\", \"2\", \"4\", \"6\", \"8\", \"11\", \"13\", \"15\", \"17\", \"20\", \"21\", \"22\", \"23\", \"24\", \"25\", \"26\", \"27\", \"28\", \"29\", \"30\", \"31\"], \"mode\": \"markers\", \"name\": \"average_precision_score_weighted\", \"stepped\": false, \"type\": \"scatter\", \"data\": [0.9722513227513228, 0.9956111111111111, 0.9703809523809523, 0.9978333333333333, 0.9959920634920636, 0.9956111111111111, 0.9956111111111111, 0.9978333333333333, 0.9922142857142857, 0.9978333333333333, 0.9833253968253969, 1.0, 0.9894365079365078, 1.0, 0.9652539682539683, 0.9978333333333333, 0.9625502645502646, 0.9950555555555555, 0.9932142857142857, 0.9959920634920636, 0.993427960927961]}, {\"categories\": [\"0\", \"2\", \"4\", \"6\", \"8\", \"11\", \"13\", \"15\", \"17\", \"20\", \"21\", \"22\", \"23\", \"24\", \"25\", \"26\", \"27\", \"28\", \"29\", \"30\", \"31\"], \"mode\": \"lines\", \"name\": \"average_precision_score_weighted_max\", \"stepped\": true, \"type\": \"scatter\", \"data\": [0.9722513227513228, 0.9956111111111111, 0.9956111111111111, 0.9978333333333333, 0.9978333333333333, 0.9978333333333333, 0.9978333333333333, 0.9978333333333333, 0.9978333333333333, 0.9978333333333333, 0.9978333333333333, 1.0, 1.0, 1.0, 1.0, 1.0, 1.0, 1.0, 1.0, 1.0, 1.0]}], \"accuracy\": [{\"categories\": [\"0\", \"2\", \"4\", \"6\", \"8\", \"11\", \"13\", \"15\", \"17\", \"20\", \"21\", \"22\", \"23\", \"24\", \"25\", \"26\", \"27\", \"28\", \"29\", \"30\", \"31\"], \"mode\": \"markers\", \"name\": \"accuracy\", \"stepped\": false, \"type\": \"scatter\", \"data\": [0.9466666666666667, 0.9533333333333334, 0.9600000000000002, 0.9800000000000001, 0.9600000000000002, 0.9466666666666667, 0.9600000000000002, 0.9466666666666667, 0.9466666666666667, 0.9800000000000001, 0.9466666666666667, 0.9733333333333334, 0.9466666666666667, 0.9800000000000001, 0.8733333333333334, 0.9400000000000001, 0.8799999999999999, 0.9533333333333334, 0.96, 0.9800000000000001, 0.9733333333333333]}, {\"categories\": [\"0\", \"2\", \"4\", \"6\", \"8\", \"11\", \"13\", \"15\", \"17\", \"20\", \"21\", \"22\", \"23\", \"24\", \"25\", \"26\", \"27\", \"28\", \"29\", \"30\", \"31\"], \"mode\": \"lines\", \"name\": \"accuracy_max\", \"stepped\": true, \"type\": \"scatter\", \"data\": [0.9466666666666667, 0.9533333333333334, 0.9600000000000002, 0.9800000000000001, 0.9800000000000001, 0.9800000000000001, 0.9800000000000001, 0.9800000000000001, 0.9800000000000001, 0.9800000000000001, 0.9800000000000001, 0.9800000000000001, 0.9800000000000001, 0.9800000000000001, 0.9800000000000001, 0.9800000000000001, 0.9800000000000001, 0.9800000000000001, 0.9800000000000001, 0.9800000000000001, 0.9800000000000001]}], \"average_precision_score_macro\": [{\"categories\": [\"0\", \"2\", \"4\", \"6\", \"8\", \"11\", \"13\", \"15\", \"17\", \"20\", \"21\", \"22\", \"23\", \"24\", \"25\", \"26\", \"27\", \"28\", \"29\", \"30\", \"31\"], \"mode\": \"markers\", \"name\": \"average_precision_score_macro\", \"stepped\": false, \"type\": \"scatter\", \"data\": [0.9739414210128496, 0.9955158730158731, 0.9677258125472411, 0.9977380952380953, 0.9959467120181407, 0.9955158730158731, 0.9955158730158731, 0.9977380952380953, 0.9889444444444445, 0.9977380952380953, 0.983280045351474, 1.0, 0.9880555555555557, 1.0, 0.9592562358276643, 0.9977380952380953, 0.9560485638699925, 0.9938492063492064, 0.9920578231292516, 0.9959467120181407, 0.9943441479155766]}, {\"categories\": [\"0\", \"2\", \"4\", \"6\", \"8\", \"11\", \"13\", \"15\", \"17\", \"20\", \"21\", \"22\", \"23\", \"24\", \"25\", \"26\", \"27\", \"28\", \"29\", \"30\", \"31\"], \"mode\": \"lines\", \"name\": \"average_precision_score_macro_max\", \"stepped\": true, \"type\": \"scatter\", \"data\": [0.9739414210128496, 0.9955158730158731, 0.9955158730158731, 0.9977380952380953, 0.9977380952380953, 0.9977380952380953, 0.9977380952380953, 0.9977380952380953, 0.9977380952380953, 0.9977380952380953, 0.9977380952380953, 1.0, 1.0, 1.0, 1.0, 1.0, 1.0, 1.0, 1.0, 1.0, 1.0]}], \"log_loss\": [{\"categories\": [\"0\", \"2\", \"4\", \"6\", \"8\", \"11\", \"13\", \"15\", \"17\", \"20\", \"21\", \"22\", \"23\", \"24\", \"25\", \"26\", \"27\", \"28\", \"29\", \"30\", \"31\"], \"mode\": \"markers\", \"name\": \"log_loss\", \"stepped\": false, \"type\": \"scatter\", \"data\": [0.28756369615465305, 0.19001558187963524, 0.7379430610496664, 0.07739294101808378, 0.09068759385334642, 0.17699310953185726, 0.16536347157098993, 0.087418979364533, 0.3369968031709632, 0.06702540032732311, 0.24745124598242216, 0.08011963584081665, 0.2800551395090808, 0.0707740530295355, 0.6107058145297347, 0.34009840352503884, 0.4538012878475744, 0.19222911906579918, 0.11233046040133407, 0.07014925583468239, 0.1223646672610876]}, {\"categories\": [\"0\", \"2\", \"4\", \"6\", \"8\", \"11\", \"13\", \"15\", \"17\", \"20\", \"21\", \"22\", \"23\", \"24\", \"25\", \"26\", \"27\", \"28\", \"29\", \"30\", \"31\"], \"mode\": \"lines\", \"name\": \"log_loss_min\", \"stepped\": true, \"type\": \"scatter\", \"data\": [0.28756369615465305, 0.19001558187963524, 0.19001558187963524, 0.07739294101808378, 0.07739294101808378, 0.07739294101808378, 0.07739294101808378, 0.07739294101808378, 0.07739294101808378, 0.06702540032732311, 0.06702540032732311, 0.06702540032732311, 0.06702540032732311, 0.06702540032732311, 0.06702540032732311, 0.06702540032732311, 0.06702540032732311, 0.06702540032732311, 0.06702540032732311, 0.06702540032732311, 0.06702540032732311]}], \"precision_score_macro\": [{\"categories\": [\"0\", \"2\", \"4\", \"6\", \"8\", \"11\", \"13\", \"15\", \"17\", \"20\", \"21\", \"22\", \"23\", \"24\", \"25\", \"26\", \"27\", \"28\", \"29\", \"30\", \"31\"], \"mode\": \"markers\", \"name\": \"precision_score_macro\", \"stepped\": false, \"type\": \"scatter\", \"data\": [0.9466269841269842, 0.9521825396825397, 0.9535714285714285, 0.976388888888889, 0.9535714285714285, 0.9424603174603174, 0.9605158730158732, 0.9438492063492063, 0.9463888888888888, 0.976388888888889, 0.9466269841269842, 0.9708333333333334, 0.9463888888888888, 0.976388888888889, 0.9038624338624339, 0.9399603174603175, 0.8831349206349206, 0.9555555555555557, 0.9519444444444444, 0.976388888888889, 0.9708333333333334]}, {\"categories\": [\"0\", \"2\", \"4\", \"6\", \"8\", \"11\", \"13\", \"15\", \"17\", \"20\", \"21\", \"22\", \"23\", \"24\", \"25\", \"26\", \"27\", \"28\", \"29\", \"30\", \"31\"], \"mode\": \"lines\", \"name\": \"precision_score_macro_max\", \"stepped\": true, \"type\": \"scatter\", \"data\": [0.9466269841269842, 0.9521825396825397, 0.9535714285714285, 0.976388888888889, 0.976388888888889, 0.976388888888889, 0.976388888888889, 0.976388888888889, 0.976388888888889, 0.976388888888889, 0.976388888888889, 0.976388888888889, 0.976388888888889, 0.976388888888889, 0.976388888888889, 0.976388888888889, 0.976388888888889, 0.976388888888889, 0.976388888888889, 0.976388888888889, 0.976388888888889]}], \"weighted_accuracy\": [{\"categories\": [\"0\", \"2\", \"4\", \"6\", \"8\", \"11\", \"13\", \"15\", \"17\", \"20\", \"21\", \"22\", \"23\", \"24\", \"25\", \"26\", \"27\", \"28\", \"29\", \"30\", \"31\"], \"mode\": \"markers\", \"name\": \"weighted_accuracy\", \"stepped\": false, \"type\": \"scatter\", \"data\": [0.9437942095617962, 0.9523963600994305, 0.9566931045568176, 0.9804354814718852, 0.9566931045568176, 0.941108688972402, 0.9584204564849725, 0.9439626251596713, 0.9430489174186544, 0.9804354814718852, 0.9437942095617962, 0.9737688148052186, 0.9430489174186544, 0.9804354814718852, 0.8702087233010929, 0.9373007030682896, 0.8715628365531203, 0.952436184870438, 0.9597453133921588, 0.9804354814718852, 0.9718333309342508]}, {\"categories\": [\"0\", \"2\", \"4\", \"6\", \"8\", \"11\", \"13\", \"15\", \"17\", \"20\", \"21\", \"22\", \"23\", \"24\", \"25\", \"26\", \"27\", \"28\", \"29\", \"30\", \"31\"], \"mode\": \"lines\", \"name\": \"weighted_accuracy_max\", \"stepped\": true, \"type\": \"scatter\", \"data\": [0.9437942095617962, 0.9523963600994305, 0.9566931045568176, 0.9804354814718852, 0.9804354814718852, 0.9804354814718852, 0.9804354814718852, 0.9804354814718852, 0.9804354814718852, 0.9804354814718852, 0.9804354814718852, 0.9804354814718852, 0.9804354814718852, 0.9804354814718852, 0.9804354814718852, 0.9804354814718852, 0.9804354814718852, 0.9804354814718852, 0.9804354814718852, 0.9804354814718852, 0.9804354814718852]}], \"average_precision_score_micro\": [{\"categories\": [\"0\", \"2\", \"4\", \"6\", \"8\", \"11\", \"13\", \"15\", \"17\", \"20\", \"21\", \"22\", \"23\", \"24\", \"25\", \"26\", \"27\", \"28\", \"29\", \"30\", \"31\"], \"mode\": \"markers\", \"name\": \"average_precision_score_micro\", \"stepped\": false, \"type\": \"scatter\", \"data\": [0.9766032072502663, 0.994391542581945, 0.9664642857142857, 0.9963228291316526, 0.9951568627450982, 0.9923655641743876, 0.9926734360410832, 0.9942581699346406, 0.990495054567036, 0.9963228291316526, 0.984777209174268, 0.996718253968254, 0.9880968720821661, 0.9971349206349206, 0.9457242265755859, 0.9931225490196078, 0.9593197295704698, 0.9847079940756412, 0.993485527544351, 0.9955198412698412, 0.9895598748796424]}, {\"categories\": [\"0\", \"2\", \"4\", \"6\", \"8\", \"11\", \"13\", \"15\", \"17\", \"20\", \"21\", \"22\", \"23\", \"24\", \"25\", \"26\", \"27\", \"28\", \"29\", \"30\", \"31\"], \"mode\": \"lines\", \"name\": \"average_precision_score_micro_max\", \"stepped\": true, \"type\": \"scatter\", \"data\": [0.9766032072502663, 0.994391542581945, 0.994391542581945, 0.9963228291316526, 0.9963228291316526, 0.9963228291316526, 0.9963228291316526, 0.9963228291316526, 0.9963228291316526, 0.9963228291316526, 0.9963228291316526, 0.996718253968254, 0.996718253968254, 0.9971349206349206, 0.9971349206349206, 0.9971349206349206, 0.9971349206349206, 0.9971349206349206, 0.9971349206349206, 0.9971349206349206, 0.9971349206349206]}], \"matthews_correlation\": [{\"categories\": [\"0\", \"2\", \"4\", \"6\", \"8\", \"11\", \"13\", \"15\", \"17\", \"20\", \"21\", \"22\", \"23\", \"24\", \"25\", \"26\", \"27\", \"28\", \"29\", \"30\", \"31\"], \"mode\": \"markers\", \"name\": \"matthews_correlation\", \"stepped\": false, \"type\": \"scatter\", \"data\": [0.9221238703798921, 0.9304029029988256, 0.9401897756409969, 0.970089628337725, 0.9401897756409969, 0.921270856722078, 0.9401909069819314, 0.9207670733813546, 0.9227367604311866, 0.970089628337725, 0.9221238703798921, 0.9606956957916184, 0.9227367604311866, 0.970089628337725, 0.8312198855962112, 0.9126644109204326, 0.8287837767932187, 0.9329939609130425, 0.9395344851579261, 0.970089628337725, 0.9618105957187915]}, {\"categories\": [\"0\", \"2\", \"4\", \"6\", \"8\", \"11\", \"13\", \"15\", \"17\", \"20\", \"21\", \"22\", \"23\", \"24\", \"25\", \"26\", \"27\", \"28\", \"29\", \"30\", \"31\"], \"mode\": \"lines\", \"name\": \"matthews_correlation_max\", \"stepped\": true, \"type\": \"scatter\", \"data\": [0.9221238703798921, 0.9304029029988256, 0.9401897756409969, 0.970089628337725, 0.970089628337725, 0.970089628337725, 0.970089628337725, 0.970089628337725, 0.970089628337725, 0.970089628337725, 0.970089628337725, 0.970089628337725, 0.970089628337725, 0.970089628337725, 0.970089628337725, 0.970089628337725, 0.970089628337725, 0.970089628337725, 0.970089628337725, 0.970089628337725, 0.970089628337725]}], \"f1_score_micro\": [{\"categories\": [\"0\", \"2\", \"4\", \"6\", \"8\", \"11\", \"13\", \"15\", \"17\", \"20\", \"21\", \"22\", \"23\", \"24\", \"25\", \"26\", \"27\", \"28\", \"29\", \"30\", \"31\"], \"mode\": \"markers\", \"name\": \"f1_score_micro\", \"stepped\": false, \"type\": \"scatter\", \"data\": [0.9466666666666667, 0.9533333333333334, 0.9600000000000002, 0.9800000000000001, 0.9600000000000002, 0.9466666666666667, 0.9600000000000002, 0.9466666666666667, 0.9466666666666667, 0.9800000000000001, 0.9466666666666667, 0.9733333333333334, 0.9466666666666667, 0.9800000000000001, 0.8733333333333334, 0.9400000000000001, 0.8799999999999999, 0.9533333333333334, 0.96, 0.9800000000000001, 0.9733333333333333]}, {\"categories\": [\"0\", \"2\", \"4\", \"6\", \"8\", \"11\", \"13\", \"15\", \"17\", \"20\", \"21\", \"22\", \"23\", \"24\", \"25\", \"26\", \"27\", \"28\", \"29\", \"30\", \"31\"], \"mode\": \"lines\", \"name\": \"f1_score_micro_max\", \"stepped\": true, \"type\": \"scatter\", \"data\": [0.9466666666666667, 0.9533333333333334, 0.9600000000000002, 0.9800000000000001, 0.9800000000000001, 0.9800000000000001, 0.9800000000000001, 0.9800000000000001, 0.9800000000000001, 0.9800000000000001, 0.9800000000000001, 0.9800000000000001, 0.9800000000000001, 0.9800000000000001, 0.9800000000000001, 0.9800000000000001, 0.9800000000000001, 0.9800000000000001, 0.9800000000000001, 0.9800000000000001, 0.9800000000000001]}], \"balanced_accuracy\": [{\"categories\": [\"0\", \"2\", \"4\", \"6\", \"8\", \"11\", \"13\", \"15\", \"17\", \"20\", \"21\", \"22\", \"23\", \"24\", \"25\", \"26\", \"27\", \"28\", \"29\", \"30\", \"31\"], \"mode\": \"markers\", \"name\": \"balanced_accuracy\", \"stepped\": false, \"type\": \"scatter\", \"data\": [0.9513492063492063, 0.955515873015873, 0.9646428571428572, 0.9808333333333333, 0.9646428571428572, 0.9535317460317462, 0.9621825396825396, 0.9507539682539683, 0.9516269841269841, 0.9808333333333333, 0.9513492063492063, 0.9741666666666667, 0.9516269841269841, 0.9808333333333333, 0.8784126984126983, 0.9446825396825396, 0.8830555555555554, 0.956111111111111, 0.9601984126984128, 0.9808333333333333, 0.9766666666666666]}, {\"categories\": [\"0\", \"2\", \"4\", \"6\", \"8\", \"11\", \"13\", \"15\", \"17\", \"20\", \"21\", \"22\", \"23\", \"24\", \"25\", \"26\", \"27\", \"28\", \"29\", \"30\", \"31\"], \"mode\": \"lines\", \"name\": \"balanced_accuracy_max\", \"stepped\": true, \"type\": \"scatter\", \"data\": [0.9513492063492063, 0.955515873015873, 0.9646428571428572, 0.9808333333333333, 0.9808333333333333, 0.9808333333333333, 0.9808333333333333, 0.9808333333333333, 0.9808333333333333, 0.9808333333333333, 0.9808333333333333, 0.9808333333333333, 0.9808333333333333, 0.9808333333333333, 0.9808333333333333, 0.9808333333333333, 0.9808333333333333, 0.9808333333333333, 0.9808333333333333, 0.9808333333333333, 0.9808333333333333]}], \"AUC_micro\": [{\"categories\": [\"0\", \"2\", \"4\", \"6\", \"8\", \"11\", \"13\", \"15\", \"17\", \"20\", \"21\", \"22\", \"23\", \"24\", \"25\", \"26\", \"27\", \"28\", \"29\", \"30\", \"31\"], \"mode\": \"markers\", \"name\": \"AUC_micro\", \"stepped\": false, \"type\": \"scatter\", \"data\": [0.987111111111111, 0.9968888888888889, 0.9836666666666666, 0.998, 0.9973333333333334, 0.9953333333333333, 0.9960000000000001, 0.9968888888888889, 0.9948888888888888, 0.998, 0.9924444444444445, 0.9982222222222221, 0.9935555555555556, 0.9984444444444444, 0.9711111111111113, 0.9962222222222221, 0.9777777777777779, 0.9926666666666668, 0.9964444444444445, 0.9975555555555555, 0.9908888888888889]}, {\"categories\": [\"0\", \"2\", \"4\", \"6\", \"8\", \"11\", \"13\", \"15\", \"17\", \"20\", \"21\", \"22\", \"23\", \"24\", \"25\", \"26\", \"27\", \"28\", \"29\", \"30\", \"31\"], \"mode\": \"lines\", \"name\": \"AUC_micro_max\", \"stepped\": true, \"type\": \"scatter\", \"data\": [0.987111111111111, 0.9968888888888889, 0.9968888888888889, 0.998, 0.998, 0.998, 0.998, 0.998, 0.998, 0.998, 0.998, 0.9982222222222221, 0.9982222222222221, 0.9984444444444444, 0.9984444444444444, 0.9984444444444444, 0.9984444444444444, 0.9984444444444444, 0.9984444444444444, 0.9984444444444444, 0.9984444444444444]}], \"norm_macro_recall\": [{\"categories\": [\"0\", \"2\", \"4\", \"6\", \"8\", \"11\", \"13\", \"15\", \"17\", \"20\", \"21\", \"22\", \"23\", \"24\", \"25\", \"26\", \"27\", \"28\", \"29\", \"30\", \"31\"], \"mode\": \"markers\", \"name\": \"norm_macro_recall\", \"stepped\": false, \"type\": \"scatter\", \"data\": [0.9270238095238096, 0.9332738095238096, 0.9469642857142857, 0.9712499999999998, 0.9469642857142857, 0.9302976190476191, 0.9432738095238096, 0.9261309523809524, 0.927440476190476, 0.9712499999999998, 0.9270238095238096, 0.9612499999999999, 0.927440476190476, 0.9712499999999998, 0.8176190476190476, 0.9170238095238095, 0.8245833333333332, 0.9341666666666667, 0.940297619047619, 0.9712499999999998, 0.9649999999999999]}, {\"categories\": [\"0\", \"2\", \"4\", \"6\", \"8\", \"11\", \"13\", \"15\", \"17\", \"20\", \"21\", \"22\", \"23\", \"24\", \"25\", \"26\", \"27\", \"28\", \"29\", \"30\", \"31\"], \"mode\": \"lines\", \"name\": \"norm_macro_recall_max\", \"stepped\": true, \"type\": \"scatter\", \"data\": [0.9270238095238096, 0.9332738095238096, 0.9469642857142857, 0.9712499999999998, 0.9712499999999998, 0.9712499999999998, 0.9712499999999998, 0.9712499999999998, 0.9712499999999998, 0.9712499999999998, 0.9712499999999998, 0.9712499999999998, 0.9712499999999998, 0.9712499999999998, 0.9712499999999998, 0.9712499999999998, 0.9712499999999998, 0.9712499999999998, 0.9712499999999998, 0.9712499999999998, 0.9712499999999998]}], \"recall_score_micro\": [{\"categories\": [\"0\", \"2\", \"4\", \"6\", \"8\", \"11\", \"13\", \"15\", \"17\", \"20\", \"21\", \"22\", \"23\", \"24\", \"25\", \"26\", \"27\", \"28\", \"29\", \"30\", \"31\"], \"mode\": \"markers\", \"name\": \"recall_score_micro\", \"stepped\": false, \"type\": \"scatter\", \"data\": [0.9466666666666667, 0.9533333333333334, 0.9600000000000002, 0.9800000000000001, 0.9600000000000002, 0.9466666666666667, 0.9600000000000002, 0.9466666666666667, 0.9466666666666667, 0.9800000000000001, 0.9466666666666667, 0.9733333333333334, 0.9466666666666667, 0.9800000000000001, 0.8733333333333334, 0.9400000000000001, 0.8799999999999999, 0.9533333333333334, 0.96, 0.9800000000000001, 0.9733333333333333]}, {\"categories\": [\"0\", \"2\", \"4\", \"6\", \"8\", \"11\", \"13\", \"15\", \"17\", \"20\", \"21\", \"22\", \"23\", \"24\", \"25\", \"26\", \"27\", \"28\", \"29\", \"30\", \"31\"], \"mode\": \"lines\", \"name\": \"recall_score_micro_max\", \"stepped\": true, \"type\": \"scatter\", \"data\": [0.9466666666666667, 0.9533333333333334, 0.9600000000000002, 0.9800000000000001, 0.9800000000000001, 0.9800000000000001, 0.9800000000000001, 0.9800000000000001, 0.9800000000000001, 0.9800000000000001, 0.9800000000000001, 0.9800000000000001, 0.9800000000000001, 0.9800000000000001, 0.9800000000000001, 0.9800000000000001, 0.9800000000000001, 0.9800000000000001, 0.9800000000000001, 0.9800000000000001, 0.9800000000000001]}], \"AUC_weighted\": [{\"categories\": [\"0\", \"2\", \"4\", \"6\", \"8\", \"11\", \"13\", \"15\", \"17\", \"20\", \"21\", \"22\", \"23\", \"24\", \"25\", \"26\", \"27\", \"28\", \"29\", \"30\", \"31\"], \"mode\": \"markers\", \"name\": \"AUC_weighted\", \"stepped\": false, \"type\": \"scatter\", \"data\": [0.9818080808080809, 0.9972272727272727, 0.9836237373737374, 0.9985606060606061, 0.9971212121212121, 0.9972272727272727, 0.9972272727272727, 0.9985606060606061, 0.9959737114737115, 0.9985606060606061, 0.9884545454545455, 1.0, 0.9939915824915826, 1.0, 0.9783565138565139, 0.9985606060606061, 0.9774142339142339, 0.9973383838383839, 0.9958989898989898, 0.9971212121212121, 0.9923593073593073]}, {\"categories\": [\"0\", \"2\", \"4\", \"6\", \"8\", \"11\", \"13\", \"15\", \"17\", \"20\", \"21\", \"22\", \"23\", \"24\", \"25\", \"26\", \"27\", \"28\", \"29\", \"30\", \"31\"], \"mode\": \"lines\", \"name\": \"AUC_weighted_max\", \"stepped\": true, \"type\": \"scatter\", \"data\": [0.9818080808080809, 0.9972272727272727, 0.9972272727272727, 0.9985606060606061, 0.9985606060606061, 0.9985606060606061, 0.9985606060606061, 0.9985606060606061, 0.9985606060606061, 0.9985606060606061, 0.9985606060606061, 1.0, 1.0, 1.0, 1.0, 1.0, 1.0, 1.0, 1.0, 1.0, 1.0]}], \"AUC_macro\": [{\"categories\": [\"0\", \"2\", \"4\", \"6\", \"8\", \"11\", \"13\", \"15\", \"17\", \"20\", \"21\", \"22\", \"23\", \"24\", \"25\", \"26\", \"27\", \"28\", \"29\", \"30\", \"31\"], \"mode\": \"markers\", \"name\": \"AUC_macro\", \"stepped\": false, \"type\": \"scatter\", \"data\": [0.9826979316979317, 0.9973138528138528, 0.984647065897066, 0.9986471861471861, 0.9972943722943723, 0.9973138528138528, 0.9973138528138528, 0.9986471861471861, 0.9954145175811842, 0.9986471861471861, 0.9886277056277057, 1.0, 0.9936797338464004, 1.0, 0.9772405310738644, 0.9986471861471861, 0.9764581837915172, 0.9970545935545936, 0.9957017797017798, 0.9972943722943723, 0.9943181818181819]}, {\"categories\": [\"0\", \"2\", \"4\", \"6\", \"8\", \"11\", \"13\", \"15\", \"17\", \"20\", \"21\", \"22\", \"23\", \"24\", \"25\", \"26\", \"27\", \"28\", \"29\", \"30\", \"31\"], \"mode\": \"lines\", \"name\": \"AUC_macro_max\", \"stepped\": true, \"type\": \"scatter\", \"data\": [0.9826979316979317, 0.9973138528138528, 0.9973138528138528, 0.9986471861471861, 0.9986471861471861, 0.9986471861471861, 0.9986471861471861, 0.9986471861471861, 0.9986471861471861, 0.9986471861471861, 0.9986471861471861, 1.0, 1.0, 1.0, 1.0, 1.0, 1.0, 1.0, 1.0, 1.0, 1.0]}], \"precision_score_weighted\": [{\"categories\": [\"0\", \"2\", \"4\", \"6\", \"8\", \"11\", \"13\", \"15\", \"17\", \"20\", \"21\", \"22\", \"23\", \"24\", \"25\", \"26\", \"27\", \"28\", \"29\", \"30\", \"31\"], \"mode\": \"markers\", \"name\": \"precision_score_weighted\", \"stepped\": false, \"type\": \"scatter\", \"data\": [0.9580555555555555, 0.9602777777777778, 0.9666666666666668, 0.9847222222222222, 0.9666666666666668, 0.9555555555555555, 0.9652777777777779, 0.9552777777777777, 0.957388888888889, 0.9847222222222222, 0.9580555555555555, 0.9791666666666666, 0.957388888888889, 0.9847222222222222, 0.917026455026455, 0.9527222222222222, 0.9059365079365079, 0.9655555555555555, 0.9660555555555556, 0.9847222222222222, 0.9824999999999999]}, {\"categories\": [\"0\", \"2\", \"4\", \"6\", \"8\", \"11\", \"13\", \"15\", \"17\", \"20\", \"21\", \"22\", \"23\", \"24\", \"25\", \"26\", \"27\", \"28\", \"29\", \"30\", \"31\"], \"mode\": \"lines\", \"name\": \"precision_score_weighted_max\", \"stepped\": true, \"type\": \"scatter\", \"data\": [0.9580555555555555, 0.9602777777777778, 0.9666666666666668, 0.9847222222222222, 0.9847222222222222, 0.9847222222222222, 0.9847222222222222, 0.9847222222222222, 0.9847222222222222, 0.9847222222222222, 0.9847222222222222, 0.9847222222222222, 0.9847222222222222, 0.9847222222222222, 0.9847222222222222, 0.9847222222222222, 0.9847222222222222, 0.9847222222222222, 0.9847222222222222, 0.9847222222222222, 0.9847222222222222]}]}, \"metricName\": null, \"primaryMetricName\": \"accuracy\", \"showLegend\": false}, \"run_metrics\": [{\"name\": \"experiment_status\", \"run_id\": \"AutoML_15fe9a5f-4c50-4fbf-a51e-bb07ed4daba7\", \"categories\": [0, 1, 2, 3, 4, 5, 6, 7, 8, 9, 10, 11, 12, 13], \"series\": [{\"data\": [\"DatasetEvaluation\", \"FeaturesGeneration\", \"DatasetFeaturization\", \"DatasetFeaturizationCompleted\", \"DatasetCrossValidationSplit\", \"ModelSelection\", \"BestRunExplainModel\", \"ModelExplanationDataSetSetup\", \"PickSurrogateModel\", \"EngineeredFeatureExplanations\", \"EngineeredFeatureExplanations\", \"RawFeaturesExplanations\", \"RawFeaturesExplanations\", \"BestRunExplainModel\"]}]}, {\"name\": \"experiment_status_description\", \"run_id\": \"AutoML_15fe9a5f-4c50-4fbf-a51e-bb07ed4daba7\", \"categories\": [0, 1, 2, 3, 4, 5, 6, 7, 8, 9, 10, 11, 12, 13], \"series\": [{\"data\": [\"Gathering dataset statistics.\", \"Generating features for the dataset.\", \"Beginning to fit featurizers and featurize the dataset.\", \"Completed fit featurizers and featurizing the dataset.\", \"Generating individually featurized CV splits.\", \"Beginning model selection.\", \"Best run model explanations started\", \"Model explanations data setup completed\", \"Choosing LightGBM as the surrogate model for explanations\", \"Computation of engineered features started\", \"Computation of engineered features completed\", \"Computation of raw features started\", \"Computation of raw features completed\", \"Best run model explanations completed\"]}]}, {\"name\": \"average_precision_score_micro\", \"run_id\": \"AutoML_15fe9a5f-4c50-4fbf-a51e-bb07ed4daba7\", \"categories\": [0], \"series\": [{\"data\": [0.9963228291316526]}]}, {\"name\": \"f1_score_macro\", \"run_id\": \"AutoML_15fe9a5f-4c50-4fbf-a51e-bb07ed4daba7\", \"categories\": [0], \"series\": [{\"data\": [0.9756613756613757]}]}, {\"name\": \"f1_score_micro\", \"run_id\": \"AutoML_15fe9a5f-4c50-4fbf-a51e-bb07ed4daba7\", \"categories\": [0], \"series\": [{\"data\": [0.9800000000000001]}]}, {\"name\": \"recall_score_micro\", \"run_id\": \"AutoML_15fe9a5f-4c50-4fbf-a51e-bb07ed4daba7\", \"categories\": [0], \"series\": [{\"data\": [0.9800000000000001]}]}, {\"name\": \"precision_score_weighted\", \"run_id\": \"AutoML_15fe9a5f-4c50-4fbf-a51e-bb07ed4daba7\", \"categories\": [0], \"series\": [{\"data\": [0.9847222222222222]}]}, {\"name\": \"matthews_correlation\", \"run_id\": \"AutoML_15fe9a5f-4c50-4fbf-a51e-bb07ed4daba7\", \"categories\": [0], \"series\": [{\"data\": [0.970089628337725]}]}, {\"name\": \"balanced_accuracy\", \"run_id\": \"AutoML_15fe9a5f-4c50-4fbf-a51e-bb07ed4daba7\", \"categories\": [0], \"series\": [{\"data\": [0.9808333333333333]}]}, {\"name\": \"average_precision_score_macro\", \"run_id\": \"AutoML_15fe9a5f-4c50-4fbf-a51e-bb07ed4daba7\", \"categories\": [0], \"series\": [{\"data\": [0.9977380952380953]}]}, {\"name\": \"AUC_weighted\", \"run_id\": \"AutoML_15fe9a5f-4c50-4fbf-a51e-bb07ed4daba7\", \"categories\": [0], \"series\": [{\"data\": [0.9985606060606061]}]}, {\"name\": \"AUC_macro\", \"run_id\": \"AutoML_15fe9a5f-4c50-4fbf-a51e-bb07ed4daba7\", \"categories\": [0], \"series\": [{\"data\": [0.9986471861471861]}]}, {\"name\": \"AUC_micro\", \"run_id\": \"AutoML_15fe9a5f-4c50-4fbf-a51e-bb07ed4daba7\", \"categories\": [0], \"series\": [{\"data\": [0.998]}]}, {\"name\": \"log_loss\", \"run_id\": \"AutoML_15fe9a5f-4c50-4fbf-a51e-bb07ed4daba7\", \"categories\": [0], \"series\": [{\"data\": [0.07739294101808378]}]}, {\"name\": \"precision_score_micro\", \"run_id\": \"AutoML_15fe9a5f-4c50-4fbf-a51e-bb07ed4daba7\", \"categories\": [0], \"series\": [{\"data\": [0.9800000000000001]}]}, {\"name\": \"accuracy\", \"run_id\": \"AutoML_15fe9a5f-4c50-4fbf-a51e-bb07ed4daba7\", \"categories\": [0], \"series\": [{\"data\": [0.9800000000000001]}]}, {\"name\": \"weighted_accuracy\", \"run_id\": \"AutoML_15fe9a5f-4c50-4fbf-a51e-bb07ed4daba7\", \"categories\": [0], \"series\": [{\"data\": [0.9804354814718852]}]}, {\"name\": \"average_precision_score_weighted\", \"run_id\": \"AutoML_15fe9a5f-4c50-4fbf-a51e-bb07ed4daba7\", \"categories\": [0], \"series\": [{\"data\": [0.9978333333333333]}]}, {\"name\": \"norm_macro_recall\", \"run_id\": \"AutoML_15fe9a5f-4c50-4fbf-a51e-bb07ed4daba7\", \"categories\": [0], \"series\": [{\"data\": [0.9712499999999998]}]}, {\"name\": \"precision_score_macro\", \"run_id\": \"AutoML_15fe9a5f-4c50-4fbf-a51e-bb07ed4daba7\", \"categories\": [0], \"series\": [{\"data\": [0.976388888888889]}]}, {\"name\": \"recall_score_weighted\", \"run_id\": \"AutoML_15fe9a5f-4c50-4fbf-a51e-bb07ed4daba7\", \"categories\": [0], \"series\": [{\"data\": [0.9800000000000001]}]}, {\"name\": \"f1_score_weighted\", \"run_id\": \"AutoML_15fe9a5f-4c50-4fbf-a51e-bb07ed4daba7\", \"categories\": [0], \"series\": [{\"data\": [0.9802962962962963]}]}, {\"name\": \"recall_score_macro\", \"run_id\": \"AutoML_15fe9a5f-4c50-4fbf-a51e-bb07ed4daba7\", \"categories\": [0], \"series\": [{\"data\": [0.9808333333333333]}]}], \"run_logs\": \"\\nRun is completed.\", \"graph\": {}, \"widget_settings\": {\"childWidgetDisplay\": \"popup\", \"send_telemetry\": false, \"log_level\": \"INFO\", \"sdk_version\": \"1.51.0\"}, \"loading\": false}"
     },
     "metadata": {},
     "output_type": "display_data"
    }
   ],
   "source": [
    "iris_experiment = Experiment(workspace = ws, name = 'Iris-Multi-Class-Classification')\n",
    "\n",
    "run_configuration = AutoMLConfig(task = 'classification', primary_metric = 'accuracy', num_classes = 3, featurization = 'auto', \n",
    "                                 compute_target = compute_target, training_data = iris_dataset, label_column_name = 'species', \n",
    "                                 experiment_timeout_minutes = 15, enable_early_stopping = True, n_cross_validations = 10, \n",
    "                                 model_explainability = True, enable_stack_ensemble = True, enable_voting_ensemble = True)\n",
    "AutoML_run = iris_experiment.submit(run_configuration, show_output = True)\n",
    "RunDetails(AutoML_run).show()"
   ]
  },
  {
   "cell_type": "markdown",
   "id": "b312299f",
   "metadata": {},
   "source": [
    "## Model Registration For Future Use"
   ]
  },
  {
   "cell_type": "code",
   "execution_count": 11,
   "id": "56bf32c2",
   "metadata": {},
   "outputs": [
    {
     "data": {
      "text/plain": [
       "Model(workspace=Workspace.create(name='auotml-example-workspace', subscription_id='0c19fc19-85fd-4aa4-b133-61dd20fa93df', resource_group='edwin.spartan117-rg'), name=Iris-MultiClass-Classification-AutoML, id=Iris-MultiClass-Classification-AutoML:1, version=1, tags={'Project': 'Iris', 'Creator': 'Edwin Goh'}, properties={})"
      ]
     },
     "execution_count": 11,
     "metadata": {},
     "output_type": "execute_result"
    }
   ],
   "source": [
    "AutoML_run.register_model(model_name = 'Iris-MultiClass-Classification-AutoML', \n",
    "                          description = 'AutoML Multi-Class Classification Run using The Iris Dataset',\n",
    "                          tags = {'Project': 'Iris', 'Creator': 'Edwin Goh'})"
   ]
  }
 ],
 "metadata": {
  "kernelspec": {
   "display_name": "Python 3.8 - AzureML",
   "language": "python",
   "name": "python38-azureml"
  },
  "language_info": {
   "codemirror_mode": {
    "name": "ipython",
    "version": 3
   },
   "file_extension": ".py",
   "mimetype": "text/x-python",
   "name": "python",
   "nbconvert_exporter": "python",
   "pygments_lexer": "ipython3",
   "version": "3.8.5"
  }
 },
 "nbformat": 4,
 "nbformat_minor": 5
}
