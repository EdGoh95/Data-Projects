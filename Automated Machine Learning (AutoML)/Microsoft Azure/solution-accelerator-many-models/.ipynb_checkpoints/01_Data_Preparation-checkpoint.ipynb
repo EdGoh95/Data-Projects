{
 "cells": [
  {
   "cell_type": "markdown",
   "metadata": {},
   "source": [
    "Copyright (c) Microsoft Corporation. All rights reserved.\n",
    "\n",
    "Licensed under the MIT License."
   ]
  },
  {
   "cell_type": "markdown",
   "metadata": {},
   "source": [
    "# Data Preparation\n",
    "---\n",
    "\n",
    "This repository uses simulated orange juice sales data from [Azure Open Datasets](https://azure.microsoft.com/services/open-datasets/) to walk you through the process of training many models and forecasting on Azure Machine Learning. \n",
    "\n",
    "This notebook walks you through all the necessary steps to configure the data for this solution accelerator, including:\n",
    "\n",
    "1. Download the sample data\n",
    "2. Split in training/forecasting sets\n",
    "3. Connect to your workspace and upload the data to its Datastore\n",
    "\n",
    "### Prerequisites\n",
    "If you have already run the [00_Setup_AML_Workspace](00_Setup_AML_Workspace.ipynb) notebook you are all set.\n"
   ]
  },
  {
   "cell_type": "markdown",
   "metadata": {},
   "source": [
    "## 1.0 Download sample data\n",
    "\n",
    "The time series data used in this example was simulated based on the University of Chicago's Dominick's Finer Foods dataset, which featured two years of sales of 3 different orange juice brands for individual stores. You can learn more about the dataset [here](https://azure.microsoft.com/services/open-datasets/catalog/sample-oj-sales-simulated/). \n",
    "\n",
    "The full dataset includes simulated sales for 3,991 stores with 3 orange juice brands each, thus allowing 11,973 models to be trained to showcase the power of the many models pattern. Each series contains data from '1990-06-14' to '1992-10-01'."
   ]
  },
  {
   "cell_type": "markdown",
   "metadata": {},
   "source": [
    "You'll need the `azureml-opendatasets` package to download the data. You can install it with the following:"
   ]
  },
  {
   "cell_type": "code",
   "execution_count": null,
   "metadata": {
    "tags": []
   },
   "outputs": [],
   "source": [
    "%pip install azureml-opendatasets"
   ]
  },
  {
   "cell_type": "markdown",
   "metadata": {},
   "source": [
    "We'll start by downloading the first 10 files but you can easily edit the code below to train all 11,973 models."
   ]
  },
  {
   "cell_type": "code",
   "execution_count": 1,
   "metadata": {},
   "outputs": [],
   "source": [
    "dataset_maxfiles = 10 # Set to 11973 or 0 to get all the files"
   ]
  },
  {
   "cell_type": "code",
   "execution_count": null,
   "metadata": {},
   "outputs": [],
   "source": [
    "import os\n",
    "from azureml.opendatasets import OjSalesSimulated\n",
    "\n",
    "# Pull all of the data\n",
    "oj_sales_files = OjSalesSimulated.get_file_dataset()\n",
    "\n",
    "# Pull only the first `dataset_maxfiles` files\n",
    "if dataset_maxfiles:\n",
    "    oj_sales_files = oj_sales_files.take(dataset_maxfiles)\n",
    "\n",
    "# Create a folder to download\n",
    "target_path = 'oj_sales_data' \n",
    "os.makedirs(target_path, exist_ok = True)\n",
    "\n",
    "# Download the data\n",
    "oj_sales_files.download(target_path, overwrite = True)"
   ]
  },
  {
   "cell_type": "markdown",
   "metadata": {},
   "source": [
    "## 2.0 Split data in two sets\n",
    "\n",
    "We will now split each dataset in two parts: one will be used for training, and the other will be used for simulating batch forecasting. The training files will contain the data records before '1992-5-28' and the last part of each series will be stored in the inferencing files.\n",
    "\n",
    "Finally, we will upload both sets of data files to the Workspace's default [Datastore](https://docs.microsoft.compython/api/azureml-core/azureml.core.datastore(class))."
   ]
  },
  {
   "cell_type": "code",
   "execution_count": 2,
   "metadata": {},
   "outputs": [],
   "source": [
    "from scripts.helper import split_data\n",
    "\n",
    "# Provide name of timestamp column in the data and date from which to split into the inference dataset\n",
    "target_path = '../Orange Juice Sales/'\n",
    "timestamp_column = 'WeekStarting'\n",
    "split_date = '1992-05-28'\n",
    "\n",
    "# Split each file and store in corresponding directory\n",
    "train_path, inference_path = split_data(target_path, timestamp_column, split_date)"
   ]
  },
  {
   "cell_type": "markdown",
   "metadata": {},
   "source": [
    "## 3.0 Upload data to Datastore in AML Workspace\n",
    "\n",
    "In the [setup notebook](00_Setup_AML_Workspace.ipynb) you created a [Workspace](https://docs.microsoft.com/python/api/azureml-core/azureml.core.workspace.workspace). We are going to register the data in that enviroment."
   ]
  },
  {
   "cell_type": "code",
   "execution_count": 3,
   "metadata": {},
   "outputs": [
    {
     "data": {
      "text/plain": [
       "{'id': '/subscriptions/0c19fc19-85fd-4aa4-b133-61dd20fa93df/resourceGroups/edwin.spartan117-rg/providers/Microsoft.MachineLearningServices/workspaces/auotml-example-workspace',\n",
       " 'name': 'auotml-example-workspace',\n",
       " 'identity': {'principal_id': '56ae5788-f7db-4b10-a19f-2849158c60aa',\n",
       "  'tenant_id': 'c5f4b1c2-b533-4788-b1c5-99d0f10fb9b6',\n",
       "  'type': 'SystemAssigned'},\n",
       " 'location': 'southeastasia',\n",
       " 'type': 'Microsoft.MachineLearningServices/workspaces',\n",
       " 'tags': {},\n",
       " 'sku': 'Basic',\n",
       " 'workspaceid': '080e5758-0b91-49eb-ac97-661db0f2b2eb',\n",
       " 'sdkTelemetryAppInsightsKey': '0855780c-10d5-4461-ae3c-9b15eb18c90d',\n",
       " 'description': '',\n",
       " 'friendlyName': 'auotml-example-workspace',\n",
       " 'creationTime': '2023-11-10T06:06:19.5902130Z',\n",
       " 'keyVault': '/subscriptions/0c19fc19-85fd-4aa4-b133-61dd20fa93df/resourceGroups/edwin.spartan117-rg/providers/Microsoft.Keyvault/vaults/auotmlexamplew0652471414',\n",
       " 'applicationInsights': '/subscriptions/0c19fc19-85fd-4aa4-b133-61dd20fa93df/resourceGroups/edwin.spartan117-rg/providers/Microsoft.insights/components/auotmlexamplew0193977586',\n",
       " 'storageAccount': '/subscriptions/0c19fc19-85fd-4aa4-b133-61dd20fa93df/resourceGroups/edwin.spartan117-rg/providers/Microsoft.Storage/storageAccounts/auotmlexamplew5880114168',\n",
       " 'hbiWorkspace': False,\n",
       " 'provisioningState': 'Succeeded',\n",
       " 'discoveryUrl': 'https://southeastasia.api.azureml.ms/discovery',\n",
       " 'notebookInfo': {'fqdn': 'ml-auotml-ex-southeastasia-080e5758-0b91-49eb-ac97-661db0f2b2eb.southeastasia.notebooks.azure.net',\n",
       "  'resource_id': '6113bb49d7aa4c909e4587c35cd1e935'},\n",
       " 'v1LegacyMode': False}"
      ]
     },
     "execution_count": 3,
     "metadata": {},
     "output_type": "execute_result"
    }
   ],
   "source": [
    "from azureml.core.workspace import Workspace\n",
    "\n",
    "ws = Workspace.from_config(path = '../config.json')\n",
    "\n",
    "# Take a look at Workspace\n",
    "ws.get_details()"
   ]
  },
  {
   "cell_type": "markdown",
   "metadata": {},
   "source": [
    "We will upload both sets of data files to your Workspace's default [Datastore](https://docs.microsoft.com/azure/machine-learning/how-to-access-data). \n",
    "A Datastore is a place where data can be stored that is then made accessible for training or forecasting. Please refer to [Datastore documentation](https://docs.microsoft.com/python/api/azureml-core/azureml.core.datastore(class)) on how to access data from Datastore."
   ]
  },
  {
   "cell_type": "code",
   "execution_count": 4,
   "metadata": {},
   "outputs": [
    {
     "name": "stderr",
     "output_type": "stream",
     "text": [
      "\"Datastore.upload\" is deprecated after version 1.0.69. Please use \"Dataset.File.upload_directory\" to upload your files             from a local directory and create FileDataset in single method call. See Dataset API change notice at https://aka.ms/dataset-deprecation.\n"
     ]
    },
    {
     "name": "stdout",
     "output_type": "stream",
     "text": [
      "Uploading an estimated of 10 files\n",
      "Uploading ../Orange Juice Sales/upload_train_data/Store1000_dominicks.csv\n",
      "Uploaded ../Orange Juice Sales/upload_train_data/Store1000_dominicks.csv, 1 files out of an estimated total of 10\n",
      "Uploading ../Orange Juice Sales/upload_train_data/Store1000_minute.maid.csv\n",
      "Uploaded ../Orange Juice Sales/upload_train_data/Store1000_minute.maid.csv, 2 files out of an estimated total of 10\n",
      "Uploading ../Orange Juice Sales/upload_train_data/Store1000_tropicana.csv\n",
      "Uploaded ../Orange Juice Sales/upload_train_data/Store1000_tropicana.csv, 3 files out of an estimated total of 10\n",
      "Uploading ../Orange Juice Sales/upload_train_data/Store1001_dominicks.csv\n",
      "Uploaded ../Orange Juice Sales/upload_train_data/Store1001_dominicks.csv, 4 files out of an estimated total of 10\n",
      "Uploading ../Orange Juice Sales/upload_train_data/Store1001_minute.maid.csv\n",
      "Uploaded ../Orange Juice Sales/upload_train_data/Store1001_minute.maid.csv, 5 files out of an estimated total of 10\n",
      "Uploading ../Orange Juice Sales/upload_train_data/Store1001_tropicana.csv\n",
      "Uploaded ../Orange Juice Sales/upload_train_data/Store1001_tropicana.csv, 6 files out of an estimated total of 10\n",
      "Uploading ../Orange Juice Sales/upload_train_data/Store1002_dominicks.csv\n",
      "Uploaded ../Orange Juice Sales/upload_train_data/Store1002_dominicks.csv, 7 files out of an estimated total of 10\n",
      "Uploading ../Orange Juice Sales/upload_train_data/Store1002_minute.maid.csv\n",
      "Uploaded ../Orange Juice Sales/upload_train_data/Store1002_minute.maid.csv, 8 files out of an estimated total of 10\n",
      "Uploading ../Orange Juice Sales/upload_train_data/Store1002_tropicana.csv\n",
      "Uploaded ../Orange Juice Sales/upload_train_data/Store1002_tropicana.csv, 9 files out of an estimated total of 10\n",
      "Uploading ../Orange Juice Sales/upload_train_data/Store1003_dominicks.csv\n",
      "Uploaded ../Orange Juice Sales/upload_train_data/Store1003_dominicks.csv, 10 files out of an estimated total of 10\n",
      "Uploaded 10 files\n",
      "Uploading an estimated of 10 files\n",
      "Uploading ../Orange Juice Sales/upload_inference_data/Store1000_dominicks.csv\n",
      "Uploaded ../Orange Juice Sales/upload_inference_data/Store1000_dominicks.csv, 1 files out of an estimated total of 10\n",
      "Uploading ../Orange Juice Sales/upload_inference_data/Store1000_minute.maid.csv\n",
      "Uploaded ../Orange Juice Sales/upload_inference_data/Store1000_minute.maid.csv, 2 files out of an estimated total of 10\n",
      "Uploading ../Orange Juice Sales/upload_inference_data/Store1000_tropicana.csv\n",
      "Uploaded ../Orange Juice Sales/upload_inference_data/Store1000_tropicana.csv, 3 files out of an estimated total of 10\n",
      "Uploading ../Orange Juice Sales/upload_inference_data/Store1001_dominicks.csv\n",
      "Uploaded ../Orange Juice Sales/upload_inference_data/Store1001_dominicks.csv, 4 files out of an estimated total of 10\n",
      "Uploading ../Orange Juice Sales/upload_inference_data/Store1001_minute.maid.csv\n",
      "Uploaded ../Orange Juice Sales/upload_inference_data/Store1001_minute.maid.csv, 5 files out of an estimated total of 10\n",
      "Uploading ../Orange Juice Sales/upload_inference_data/Store1001_tropicana.csv\n",
      "Uploaded ../Orange Juice Sales/upload_inference_data/Store1001_tropicana.csv, 6 files out of an estimated total of 10\n",
      "Uploading ../Orange Juice Sales/upload_inference_data/Store1002_dominicks.csv\n",
      "Uploaded ../Orange Juice Sales/upload_inference_data/Store1002_dominicks.csv, 7 files out of an estimated total of 10\n",
      "Uploading ../Orange Juice Sales/upload_inference_data/Store1002_minute.maid.csv\n",
      "Uploaded ../Orange Juice Sales/upload_inference_data/Store1002_minute.maid.csv, 8 files out of an estimated total of 10\n",
      "Uploading ../Orange Juice Sales/upload_inference_data/Store1002_tropicana.csv\n",
      "Uploaded ../Orange Juice Sales/upload_inference_data/Store1002_tropicana.csv, 9 files out of an estimated total of 10\n",
      "Uploading ../Orange Juice Sales/upload_inference_data/Store1003_dominicks.csv\n",
      "Uploaded ../Orange Juice Sales/upload_inference_data/Store1003_dominicks.csv, 10 files out of an estimated total of 10\n",
      "Uploaded 10 files\n"
     ]
    },
    {
     "data": {
      "text/plain": [
       "$AZUREML_DATAREFERENCE_849e5371d59645f1a849c843d54c3989"
      ]
     },
     "execution_count": 4,
     "metadata": {},
     "output_type": "execute_result"
    }
   ],
   "source": [
    "# Connect to default datastore\n",
    "datastore = ws.get_default_datastore()\n",
    "\n",
    "# Upload train data\n",
    "ds_train_path = target_path.replace('../', '') + 'Train'\n",
    "datastore.upload(src_dir = train_path, target_path = ds_train_path, overwrite = True)\n",
    "\n",
    "# Upload inference data\n",
    "ds_inference_path = target_path.replace('../', '') + 'Inference'\n",
    "datastore.upload(src_dir = inference_path, target_path = ds_inference_path, overwrite = True)"
   ]
  },
  {
   "cell_type": "markdown",
   "metadata": {},
   "source": [
    "### *[Optional]* If data is already in Azure: create Datastore from it\n",
    "\n",
    "If your data is already in Azure you don't need to upload it from your local machine to the default datastore. Instead, you can create a new Datastore that references that set of data. \n",
    "The following is an example of how to set up a Datastore from a container in Blob storage where the sample data is located. \n",
    "\n",
    "In this case, the orange juice data is available in a public blob container, defined by the information below. In your case, you'll need to specify the account credentials as well. For more information check [the documentation](https://docs.microsoft.com/python/api/azureml-core/azureml.core.datastore.datastore#register-azure-blob-container-workspace--datastore-name--container-name--account-name--sas-token-none--account-key-none--protocol-none--endpoint-none--overwrite-false--create-if-not-exists-false--skip-validation-false--blob-cache-timeout-none--grant-workspace-access-false--subscription-id-none--resource-group-none-)."
   ]
  },
  {
   "cell_type": "code",
   "execution_count": null,
   "metadata": {
    "tags": [
     "automl"
    ]
   },
   "outputs": [],
   "source": [
    "blob_datastore_name = \"automl_many_models\"\n",
    "container_name = \"automl-sample-notebook-data\"\n",
    "account_name = \"automlsamplenotebookdata\""
   ]
  },
  {
   "cell_type": "code",
   "execution_count": null,
   "metadata": {
    "tags": [
     "automl"
    ]
   },
   "outputs": [],
   "source": [
    "from azureml.core import Datastore\n",
    "\n",
    "datastore = Datastore.register_azure_blob_container(\n",
    "    workspace=ws, \n",
    "    datastore_name=blob_datastore_name, \n",
    "    container_name=container_name,\n",
    "    account_name=account_name,\n",
    "    create_if_not_exists=True\n",
    ")\n",
    "\n",
    "if 0 < dataset_maxfiles < 11973:\n",
    "    ds_train_path = 'oj_data_small/'\n",
    "    ds_inference_path = 'oj_inference_small/'\n",
    "else:\n",
    "    ds_train_path = 'oj_data/'\n",
    "    ds_inference_path = 'oj_inference/'"
   ]
  },
  {
   "cell_type": "markdown",
   "metadata": {},
   "source": [
    "## 4.0 Register dataset in AML Workspace\n",
    "\n",
    "The last step is creating and registering [datasets](https://docs.microsoft.com/azure/machine-learning/concept-data#datasets) in Azure Machine Learning for the train and inference sets.\n",
    "\n",
    "Using a [FileDataset](https://docs.microsoft.com/python/api/azureml-core/azureml.data.file_dataset.filedataset) is currently the best way to take advantage of the many models pattern, so we create FileDatasets in the next cell. We then [register](https://docs.microsoft.com/azure/machine-learning/how-to-create-register-datasets#register-datasets) the FileDatasets in your Workspace; this associates the train/inference sets with simple names that can be easily referred to later on when we train models and produce forecasts."
   ]
  },
  {
   "cell_type": "code",
   "execution_count": 5,
   "metadata": {},
   "outputs": [
    {
     "data": {
      "text/plain": [
       "{\n",
       "  \"source\": [\n",
       "    \"('workspaceblobstore', 'Orange Juice Sales/Inference')\"\n",
       "  ],\n",
       "  \"definition\": [\n",
       "    \"GetDatastoreFiles\"\n",
       "  ],\n",
       "  \"registration\": {\n",
       "    \"id\": \"14093d1b-5226-4747-8dc6-ca94abb97a68\",\n",
       "    \"name\": \"Orange Juice Sales (Simulated) Subset - Inference\",\n",
       "    \"version\": 3,\n",
       "    \"workspace\": \"Workspace.create(name='auotml-example-workspace', subscription_id='0c19fc19-85fd-4aa4-b133-61dd20fa93df', resource_group='edwin.spartan117-rg')\"\n",
       "  }\n",
       "}"
      ]
     },
     "execution_count": 5,
     "metadata": {},
     "output_type": "execute_result"
    }
   ],
   "source": [
    "from azureml.core.dataset import Dataset\n",
    "\n",
    "# Create file datasets\n",
    "ds_train = Dataset.File.from_files(path = datastore.path(ds_train_path), validate = False)\n",
    "ds_inference = Dataset.File.from_files(path = datastore.path(ds_inference_path), validate = False)\n",
    "\n",
    "# Register the file datasets\n",
    "dataset_name = 'Orange Juice Sales (Simulated) Subset' if 0 < dataset_maxfiles < 11973 else 'Orange Juice Sales (Simulated)'\n",
    "train_dataset_name = dataset_name + ' - Train'\n",
    "inference_dataset_name = dataset_name + ' - Inference'\n",
    "ds_train.register(ws, train_dataset_name, create_new_version = True)\n",
    "ds_inference.register(ws, inference_dataset_name, create_new_version = True)"
   ]
  },
  {
   "cell_type": "markdown",
   "metadata": {},
   "source": [
    "## 5.0 *[Optional]* Interact with the registered dataset\n",
    "\n",
    "After registering the data, it can be easily called using the command below. This is how the datasets will be accessed in future notebooks."
   ]
  },
  {
   "cell_type": "code",
   "execution_count": 6,
   "metadata": {},
   "outputs": [
    {
     "data": {
      "text/plain": [
       "{\n",
       "  \"source\": [\n",
       "    \"('workspaceblobstore', 'Orange Juice Sales/Train')\"\n",
       "  ],\n",
       "  \"definition\": [\n",
       "    \"GetDatastoreFiles\"\n",
       "  ],\n",
       "  \"registration\": {\n",
       "    \"id\": \"bf781336-92c7-43da-ba13-c0efb5aeeae1\",\n",
       "    \"name\": \"Orange Juice Sales (Simulated) Subset - Train\",\n",
       "    \"version\": 3,\n",
       "    \"workspace\": \"Workspace.create(name='auotml-example-workspace', subscription_id='0c19fc19-85fd-4aa4-b133-61dd20fa93df', resource_group='edwin.spartan117-rg')\"\n",
       "  }\n",
       "}"
      ]
     },
     "execution_count": 6,
     "metadata": {},
     "output_type": "execute_result"
    }
   ],
   "source": [
    "oj_ds = Dataset.get_by_name(ws, name = train_dataset_name)\n",
    "oj_ds"
   ]
  },
  {
   "cell_type": "markdown",
   "metadata": {},
   "source": [
    "It is also possible to download the data from the registered dataset:"
   ]
  },
  {
   "cell_type": "code",
   "execution_count": 7,
   "metadata": {},
   "outputs": [
    {
     "data": {
      "text/plain": [
       "['/tmp/tmptf0b_oyj/Store1000_dominicks.csv',\n",
       " '/tmp/tmptf0b_oyj/Store1000_tropicana.csv',\n",
       " '/tmp/tmptf0b_oyj/Store1001_minute.maid.csv',\n",
       " '/tmp/tmptf0b_oyj/Store1002_dominicks.csv',\n",
       " '/tmp/tmptf0b_oyj/Store1002_tropicana.csv',\n",
       " '/tmp/tmptf0b_oyj/Store1000_minute.maid.csv',\n",
       " '/tmp/tmptf0b_oyj/Store1001_dominicks.csv',\n",
       " '/tmp/tmptf0b_oyj/Store1001_tropicana.csv',\n",
       " '/tmp/tmptf0b_oyj/Store1002_minute.maid.csv',\n",
       " '/tmp/tmptf0b_oyj/Store1003_dominicks.csv']"
      ]
     },
     "execution_count": 7,
     "metadata": {},
     "output_type": "execute_result"
    }
   ],
   "source": [
    "download_paths = oj_ds.download()\n",
    "download_paths"
   ]
  },
  {
   "cell_type": "markdown",
   "metadata": {},
   "source": [
    "Let's load one of the data files to see the format:"
   ]
  },
  {
   "cell_type": "code",
   "execution_count": 8,
   "metadata": {},
   "outputs": [
    {
     "data": {
      "text/html": [
       "<div>\n",
       "<style scoped>\n",
       "    .dataframe tbody tr th:only-of-type {\n",
       "        vertical-align: middle;\n",
       "    }\n",
       "\n",
       "    .dataframe tbody tr th {\n",
       "        vertical-align: top;\n",
       "    }\n",
       "\n",
       "    .dataframe thead th {\n",
       "        text-align: right;\n",
       "    }\n",
       "</style>\n",
       "<table border=\"1\" class=\"dataframe\">\n",
       "  <thead>\n",
       "    <tr style=\"text-align: right;\">\n",
       "      <th></th>\n",
       "      <th>WeekStarting</th>\n",
       "      <th>Store</th>\n",
       "      <th>Brand</th>\n",
       "      <th>Quantity</th>\n",
       "      <th>Advert</th>\n",
       "      <th>Price</th>\n",
       "      <th>Revenue</th>\n",
       "    </tr>\n",
       "  </thead>\n",
       "  <tbody>\n",
       "    <tr>\n",
       "      <th>0</th>\n",
       "      <td>1990-06-14</td>\n",
       "      <td>1000</td>\n",
       "      <td>dominicks</td>\n",
       "      <td>12003</td>\n",
       "      <td>1</td>\n",
       "      <td>2.59</td>\n",
       "      <td>31087.77</td>\n",
       "    </tr>\n",
       "    <tr>\n",
       "      <th>1</th>\n",
       "      <td>1990-06-21</td>\n",
       "      <td>1000</td>\n",
       "      <td>dominicks</td>\n",
       "      <td>10239</td>\n",
       "      <td>1</td>\n",
       "      <td>2.39</td>\n",
       "      <td>24471.21</td>\n",
       "    </tr>\n",
       "    <tr>\n",
       "      <th>2</th>\n",
       "      <td>1990-06-28</td>\n",
       "      <td>1000</td>\n",
       "      <td>dominicks</td>\n",
       "      <td>17917</td>\n",
       "      <td>1</td>\n",
       "      <td>2.48</td>\n",
       "      <td>44434.16</td>\n",
       "    </tr>\n",
       "    <tr>\n",
       "      <th>3</th>\n",
       "      <td>1990-07-05</td>\n",
       "      <td>1000</td>\n",
       "      <td>dominicks</td>\n",
       "      <td>14218</td>\n",
       "      <td>1</td>\n",
       "      <td>2.33</td>\n",
       "      <td>33127.94</td>\n",
       "    </tr>\n",
       "    <tr>\n",
       "      <th>4</th>\n",
       "      <td>1990-07-12</td>\n",
       "      <td>1000</td>\n",
       "      <td>dominicks</td>\n",
       "      <td>15925</td>\n",
       "      <td>1</td>\n",
       "      <td>2.01</td>\n",
       "      <td>32009.25</td>\n",
       "    </tr>\n",
       "    <tr>\n",
       "      <th>5</th>\n",
       "      <td>1990-07-19</td>\n",
       "      <td>1000</td>\n",
       "      <td>dominicks</td>\n",
       "      <td>17850</td>\n",
       "      <td>1</td>\n",
       "      <td>2.17</td>\n",
       "      <td>38734.50</td>\n",
       "    </tr>\n",
       "    <tr>\n",
       "      <th>6</th>\n",
       "      <td>1990-07-26</td>\n",
       "      <td>1000</td>\n",
       "      <td>dominicks</td>\n",
       "      <td>10576</td>\n",
       "      <td>1</td>\n",
       "      <td>1.97</td>\n",
       "      <td>20834.72</td>\n",
       "    </tr>\n",
       "    <tr>\n",
       "      <th>7</th>\n",
       "      <td>1990-08-02</td>\n",
       "      <td>1000</td>\n",
       "      <td>dominicks</td>\n",
       "      <td>9912</td>\n",
       "      <td>1</td>\n",
       "      <td>2.26</td>\n",
       "      <td>22401.12</td>\n",
       "    </tr>\n",
       "    <tr>\n",
       "      <th>8</th>\n",
       "      <td>1990-08-09</td>\n",
       "      <td>1000</td>\n",
       "      <td>dominicks</td>\n",
       "      <td>9571</td>\n",
       "      <td>1</td>\n",
       "      <td>2.11</td>\n",
       "      <td>20194.81</td>\n",
       "    </tr>\n",
       "    <tr>\n",
       "      <th>9</th>\n",
       "      <td>1990-08-16</td>\n",
       "      <td>1000</td>\n",
       "      <td>dominicks</td>\n",
       "      <td>15748</td>\n",
       "      <td>1</td>\n",
       "      <td>2.42</td>\n",
       "      <td>38110.16</td>\n",
       "    </tr>\n",
       "  </tbody>\n",
       "</table>\n",
       "</div>"
      ],
      "text/plain": [
       "  WeekStarting  Store      Brand  Quantity  Advert  Price   Revenue\n",
       "0   1990-06-14   1000  dominicks     12003       1   2.59  31087.77\n",
       "1   1990-06-21   1000  dominicks     10239       1   2.39  24471.21\n",
       "2   1990-06-28   1000  dominicks     17917       1   2.48  44434.16\n",
       "3   1990-07-05   1000  dominicks     14218       1   2.33  33127.94\n",
       "4   1990-07-12   1000  dominicks     15925       1   2.01  32009.25\n",
       "5   1990-07-19   1000  dominicks     17850       1   2.17  38734.50\n",
       "6   1990-07-26   1000  dominicks     10576       1   1.97  20834.72\n",
       "7   1990-08-02   1000  dominicks      9912       1   2.26  22401.12\n",
       "8   1990-08-09   1000  dominicks      9571       1   2.11  20194.81\n",
       "9   1990-08-16   1000  dominicks     15748       1   2.42  38110.16"
      ]
     },
     "execution_count": 8,
     "metadata": {},
     "output_type": "execute_result"
    }
   ],
   "source": [
    "import pandas as pd\n",
    "\n",
    "sample_data = pd.read_csv(download_paths[0])\n",
    "sample_data.head(10)"
   ]
  },
  {
   "cell_type": "markdown",
   "metadata": {},
   "source": [
    "## Next Steps\n",
    "\n",
    "Now that you have created your datasets, you are ready to move to one of the training notebooks to train and score the models:\n",
    "\n",
    "- Automated ML: please open [02_AutoML_Training_Pipeline.ipynb](Automated_ML/02_AutoML_Training_Pipeline/02_AutoML_Training_Pipeline.ipynb).\n",
    "- Custom Script: please open [02_CustomScript_Training_Pipeline.ipynb](Custom_Script/02_CustomScript_Training_Pipeline.ipynb)."
   ]
  }
 ],
 "metadata": {
  "authors": [
   {
    "name": "roastala"
   }
  ],
  "kernelspec": {
   "display_name": "Python 3.8 - AzureML",
   "language": "python",
   "name": "python38-azureml"
  },
  "language_info": {
   "codemirror_mode": {
    "name": "ipython",
    "version": 3
   },
   "file_extension": ".py",
   "mimetype": "text/x-python",
   "name": "python",
   "nbconvert_exporter": "python",
   "pygments_lexer": "ipython3",
   "version": "3.8.5"
  }
 },
 "nbformat": 4,
 "nbformat_minor": 2
}
