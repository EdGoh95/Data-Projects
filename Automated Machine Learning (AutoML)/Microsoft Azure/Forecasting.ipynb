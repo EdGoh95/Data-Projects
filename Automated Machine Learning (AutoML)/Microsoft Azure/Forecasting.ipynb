{
 "cells": [
  {
   "cell_type": "code",
   "execution_count": 1,
   "id": "dfc6f0c8",
   "metadata": {},
   "outputs": [],
   "source": [
    "import os\n",
    "import pandas as pd\n",
    "import numpy as np\n",
    "from pathlib import Path\n",
    "from azureml.core import Workspace, Dataset, Datastore, Experiment\n",
    "from azureml.core.compute import ComputeTarget\n",
    "from azureml.train.automl import AutoMLConfig\n",
    "from azureml.train.automl.run import AutoMLRun\n",
    "from azureml.widgets import RunDetails\n",
    "from azureml.opendatasets import OjSalesSimulated\n",
    "from azureml.automl.core.forecasting_parameters import ForecastingParameters"
   ]
  },
  {
   "cell_type": "markdown",
   "id": "d156a030",
   "metadata": {},
   "source": [
    "# Initializing The Compute Cluster"
   ]
  },
  {
   "cell_type": "code",
   "execution_count": 2,
   "id": "3edb006a",
   "metadata": {},
   "outputs": [],
   "source": [
    "ws = Workspace.from_config(path = 'config.json')\n",
    "compute_name = 'automl-cluster'\n",
    "compute_target = ComputeTarget(ws, compute_name)"
   ]
  },
  {
   "cell_type": "markdown",
   "id": "84310860",
   "metadata": {},
   "source": [
    "# Loading The Orange Juice Sales (Simulated) Dataset"
   ]
  },
  {
   "cell_type": "code",
   "execution_count": 4,
   "id": "ce8ab54c",
   "metadata": {},
   "outputs": [
    {
     "data": {
      "text/plain": [
       "['/mnt/batch/tasks/shared/LS_root/mounts/clusters/automl-example-compute/code/Users/edwin.spartan117/AutoML/Orange Juice Sales/https%3A/%2Fazureopendatastorage.azurefd.net/ojsales-simulatedcontainer/oj_sales_data/Store1000_dominicks.csv',\n",
       " '/mnt/batch/tasks/shared/LS_root/mounts/clusters/automl-example-compute/code/Users/edwin.spartan117/AutoML/Orange Juice Sales/https%3A/%2Fazureopendatastorage.azurefd.net/ojsales-simulatedcontainer/oj_sales_data/Store1000_tropicana.csv',\n",
       " '/mnt/batch/tasks/shared/LS_root/mounts/clusters/automl-example-compute/code/Users/edwin.spartan117/AutoML/Orange Juice Sales/https%3A/%2Fazureopendatastorage.azurefd.net/ojsales-simulatedcontainer/oj_sales_data/Store1001_minute.maid.csv',\n",
       " '/mnt/batch/tasks/shared/LS_root/mounts/clusters/automl-example-compute/code/Users/edwin.spartan117/AutoML/Orange Juice Sales/https%3A/%2Fazureopendatastorage.azurefd.net/ojsales-simulatedcontainer/oj_sales_data/Store1002_dominicks.csv',\n",
       " '/mnt/batch/tasks/shared/LS_root/mounts/clusters/automl-example-compute/code/Users/edwin.spartan117/AutoML/Orange Juice Sales/https%3A/%2Fazureopendatastorage.azurefd.net/ojsales-simulatedcontainer/oj_sales_data/Store1002_tropicana.csv',\n",
       " '/mnt/batch/tasks/shared/LS_root/mounts/clusters/automl-example-compute/code/Users/edwin.spartan117/AutoML/Orange Juice Sales/https%3A/%2Fazureopendatastorage.azurefd.net/ojsales-simulatedcontainer/oj_sales_data/Store1000_minute.maid.csv',\n",
       " '/mnt/batch/tasks/shared/LS_root/mounts/clusters/automl-example-compute/code/Users/edwin.spartan117/AutoML/Orange Juice Sales/https%3A/%2Fazureopendatastorage.azurefd.net/ojsales-simulatedcontainer/oj_sales_data/Store1001_dominicks.csv',\n",
       " '/mnt/batch/tasks/shared/LS_root/mounts/clusters/automl-example-compute/code/Users/edwin.spartan117/AutoML/Orange Juice Sales/https%3A/%2Fazureopendatastorage.azurefd.net/ojsales-simulatedcontainer/oj_sales_data/Store1001_tropicana.csv',\n",
       " '/mnt/batch/tasks/shared/LS_root/mounts/clusters/automl-example-compute/code/Users/edwin.spartan117/AutoML/Orange Juice Sales/https%3A/%2Fazureopendatastorage.azurefd.net/ojsales-simulatedcontainer/oj_sales_data/Store1002_minute.maid.csv',\n",
       " '/mnt/batch/tasks/shared/LS_root/mounts/clusters/automl-example-compute/code/Users/edwin.spartan117/AutoML/Orange Juice Sales/https%3A/%2Fazureopendatastorage.azurefd.net/ojsales-simulatedcontainer/oj_sales_data/Store1003_dominicks.csv']"
      ]
     },
     "execution_count": 4,
     "metadata": {},
     "output_type": "execute_result"
    }
   ],
   "source": [
    "datastore = Datastore.get_default(ws)\n",
    "\n",
    "# Pulling out the first 10 out of 4000 files from the OJ Sales Simulated Dataset\n",
    "oj_sales_files = OjSalesSimulated.get_file_dataset().take(10)\n",
    "\n",
    "os.makedirs('Orange Juice Sales', exist_ok = True)\n",
    "oj_sales_files.download('Orange Juice Sales', overwrite = True)"
   ]
  },
  {
   "cell_type": "code",
   "execution_count": 5,
   "id": "167533e0",
   "metadata": {},
   "outputs": [],
   "source": [
    "oj_filepath = Path('Orange Juice Sales').rglob('*.csv')\n",
    "oj_files = [x for x in oj_filepath]\n",
    "oj_sales_df = pd.concat((pd.read_csv(file) for file  in oj_files))"
   ]
  },
  {
   "cell_type": "markdown",
   "id": "674692ac",
   "metadata": {},
   "source": [
    "## Exploring The Dataset And Ensuring That It Has Been Loaded In Correctly "
   ]
  },
  {
   "cell_type": "code",
   "execution_count": 6,
   "id": "a775bfa0",
   "metadata": {},
   "outputs": [
    {
     "data": {
      "text/html": [
       "<div>\n",
       "<style scoped>\n",
       "    .dataframe tbody tr th:only-of-type {\n",
       "        vertical-align: middle;\n",
       "    }\n",
       "\n",
       "    .dataframe tbody tr th {\n",
       "        vertical-align: top;\n",
       "    }\n",
       "\n",
       "    .dataframe thead th {\n",
       "        text-align: right;\n",
       "    }\n",
       "</style>\n",
       "<table border=\"1\" class=\"dataframe\">\n",
       "  <thead>\n",
       "    <tr style=\"text-align: right;\">\n",
       "      <th></th>\n",
       "      <th>WeekStarting</th>\n",
       "      <th>Store</th>\n",
       "      <th>Brand</th>\n",
       "      <th>Quantity</th>\n",
       "      <th>Advert</th>\n",
       "      <th>Price</th>\n",
       "      <th>Revenue</th>\n",
       "    </tr>\n",
       "  </thead>\n",
       "  <tbody>\n",
       "    <tr>\n",
       "      <th>0</th>\n",
       "      <td>1990-06-14</td>\n",
       "      <td>1000</td>\n",
       "      <td>dominicks</td>\n",
       "      <td>12003</td>\n",
       "      <td>1</td>\n",
       "      <td>2.59</td>\n",
       "      <td>31087.77</td>\n",
       "    </tr>\n",
       "    <tr>\n",
       "      <th>1</th>\n",
       "      <td>1990-06-21</td>\n",
       "      <td>1000</td>\n",
       "      <td>dominicks</td>\n",
       "      <td>10239</td>\n",
       "      <td>1</td>\n",
       "      <td>2.39</td>\n",
       "      <td>24471.21</td>\n",
       "    </tr>\n",
       "    <tr>\n",
       "      <th>2</th>\n",
       "      <td>1990-06-28</td>\n",
       "      <td>1000</td>\n",
       "      <td>dominicks</td>\n",
       "      <td>17917</td>\n",
       "      <td>1</td>\n",
       "      <td>2.48</td>\n",
       "      <td>44434.16</td>\n",
       "    </tr>\n",
       "    <tr>\n",
       "      <th>3</th>\n",
       "      <td>1990-07-05</td>\n",
       "      <td>1000</td>\n",
       "      <td>dominicks</td>\n",
       "      <td>14218</td>\n",
       "      <td>1</td>\n",
       "      <td>2.33</td>\n",
       "      <td>33127.94</td>\n",
       "    </tr>\n",
       "    <tr>\n",
       "      <th>4</th>\n",
       "      <td>1990-07-12</td>\n",
       "      <td>1000</td>\n",
       "      <td>dominicks</td>\n",
       "      <td>15925</td>\n",
       "      <td>1</td>\n",
       "      <td>2.01</td>\n",
       "      <td>32009.25</td>\n",
       "    </tr>\n",
       "    <tr>\n",
       "      <th>5</th>\n",
       "      <td>1990-07-19</td>\n",
       "      <td>1000</td>\n",
       "      <td>dominicks</td>\n",
       "      <td>17850</td>\n",
       "      <td>1</td>\n",
       "      <td>2.17</td>\n",
       "      <td>38734.50</td>\n",
       "    </tr>\n",
       "    <tr>\n",
       "      <th>6</th>\n",
       "      <td>1990-07-26</td>\n",
       "      <td>1000</td>\n",
       "      <td>dominicks</td>\n",
       "      <td>10576</td>\n",
       "      <td>1</td>\n",
       "      <td>1.97</td>\n",
       "      <td>20834.72</td>\n",
       "    </tr>\n",
       "    <tr>\n",
       "      <th>7</th>\n",
       "      <td>1990-08-02</td>\n",
       "      <td>1000</td>\n",
       "      <td>dominicks</td>\n",
       "      <td>9912</td>\n",
       "      <td>1</td>\n",
       "      <td>2.26</td>\n",
       "      <td>22401.12</td>\n",
       "    </tr>\n",
       "    <tr>\n",
       "      <th>8</th>\n",
       "      <td>1990-08-09</td>\n",
       "      <td>1000</td>\n",
       "      <td>dominicks</td>\n",
       "      <td>9571</td>\n",
       "      <td>1</td>\n",
       "      <td>2.11</td>\n",
       "      <td>20194.81</td>\n",
       "    </tr>\n",
       "    <tr>\n",
       "      <th>9</th>\n",
       "      <td>1990-08-16</td>\n",
       "      <td>1000</td>\n",
       "      <td>dominicks</td>\n",
       "      <td>15748</td>\n",
       "      <td>1</td>\n",
       "      <td>2.42</td>\n",
       "      <td>38110.16</td>\n",
       "    </tr>\n",
       "    <tr>\n",
       "      <th>10</th>\n",
       "      <td>1990-08-23</td>\n",
       "      <td>1000</td>\n",
       "      <td>dominicks</td>\n",
       "      <td>11419</td>\n",
       "      <td>1</td>\n",
       "      <td>2.18</td>\n",
       "      <td>24893.42</td>\n",
       "    </tr>\n",
       "    <tr>\n",
       "      <th>11</th>\n",
       "      <td>1990-08-30</td>\n",
       "      <td>1000</td>\n",
       "      <td>dominicks</td>\n",
       "      <td>10617</td>\n",
       "      <td>1</td>\n",
       "      <td>2.35</td>\n",
       "      <td>24949.95</td>\n",
       "    </tr>\n",
       "    <tr>\n",
       "      <th>12</th>\n",
       "      <td>1990-09-06</td>\n",
       "      <td>1000</td>\n",
       "      <td>dominicks</td>\n",
       "      <td>16488</td>\n",
       "      <td>1</td>\n",
       "      <td>2.03</td>\n",
       "      <td>33470.64</td>\n",
       "    </tr>\n",
       "    <tr>\n",
       "      <th>13</th>\n",
       "      <td>1990-09-13</td>\n",
       "      <td>1000</td>\n",
       "      <td>dominicks</td>\n",
       "      <td>9014</td>\n",
       "      <td>1</td>\n",
       "      <td>2.08</td>\n",
       "      <td>18749.12</td>\n",
       "    </tr>\n",
       "    <tr>\n",
       "      <th>14</th>\n",
       "      <td>1990-09-20</td>\n",
       "      <td>1000</td>\n",
       "      <td>dominicks</td>\n",
       "      <td>9283</td>\n",
       "      <td>1</td>\n",
       "      <td>2.45</td>\n",
       "      <td>22743.35</td>\n",
       "    </tr>\n",
       "    <tr>\n",
       "      <th>15</th>\n",
       "      <td>1990-09-27</td>\n",
       "      <td>1000</td>\n",
       "      <td>dominicks</td>\n",
       "      <td>18631</td>\n",
       "      <td>1</td>\n",
       "      <td>2.04</td>\n",
       "      <td>38007.24</td>\n",
       "    </tr>\n",
       "    <tr>\n",
       "      <th>16</th>\n",
       "      <td>1990-10-04</td>\n",
       "      <td>1000</td>\n",
       "      <td>dominicks</td>\n",
       "      <td>13200</td>\n",
       "      <td>1</td>\n",
       "      <td>2.64</td>\n",
       "      <td>34848.00</td>\n",
       "    </tr>\n",
       "    <tr>\n",
       "      <th>17</th>\n",
       "      <td>1990-10-11</td>\n",
       "      <td>1000</td>\n",
       "      <td>dominicks</td>\n",
       "      <td>12650</td>\n",
       "      <td>1</td>\n",
       "      <td>2.45</td>\n",
       "      <td>30992.50</td>\n",
       "    </tr>\n",
       "    <tr>\n",
       "      <th>18</th>\n",
       "      <td>1990-10-18</td>\n",
       "      <td>1000</td>\n",
       "      <td>dominicks</td>\n",
       "      <td>15649</td>\n",
       "      <td>1</td>\n",
       "      <td>2.01</td>\n",
       "      <td>31454.49</td>\n",
       "    </tr>\n",
       "    <tr>\n",
       "      <th>19</th>\n",
       "      <td>1990-10-25</td>\n",
       "      <td>1000</td>\n",
       "      <td>dominicks</td>\n",
       "      <td>10965</td>\n",
       "      <td>1</td>\n",
       "      <td>2.02</td>\n",
       "      <td>22149.30</td>\n",
       "    </tr>\n",
       "  </tbody>\n",
       "</table>\n",
       "</div>"
      ],
      "text/plain": [
       "   WeekStarting  Store      Brand  Quantity  Advert  Price   Revenue\n",
       "0    1990-06-14   1000  dominicks     12003       1   2.59  31087.77\n",
       "1    1990-06-21   1000  dominicks     10239       1   2.39  24471.21\n",
       "2    1990-06-28   1000  dominicks     17917       1   2.48  44434.16\n",
       "3    1990-07-05   1000  dominicks     14218       1   2.33  33127.94\n",
       "4    1990-07-12   1000  dominicks     15925       1   2.01  32009.25\n",
       "5    1990-07-19   1000  dominicks     17850       1   2.17  38734.50\n",
       "6    1990-07-26   1000  dominicks     10576       1   1.97  20834.72\n",
       "7    1990-08-02   1000  dominicks      9912       1   2.26  22401.12\n",
       "8    1990-08-09   1000  dominicks      9571       1   2.11  20194.81\n",
       "9    1990-08-16   1000  dominicks     15748       1   2.42  38110.16\n",
       "10   1990-08-23   1000  dominicks     11419       1   2.18  24893.42\n",
       "11   1990-08-30   1000  dominicks     10617       1   2.35  24949.95\n",
       "12   1990-09-06   1000  dominicks     16488       1   2.03  33470.64\n",
       "13   1990-09-13   1000  dominicks      9014       1   2.08  18749.12\n",
       "14   1990-09-20   1000  dominicks      9283       1   2.45  22743.35\n",
       "15   1990-09-27   1000  dominicks     18631       1   2.04  38007.24\n",
       "16   1990-10-04   1000  dominicks     13200       1   2.64  34848.00\n",
       "17   1990-10-11   1000  dominicks     12650       1   2.45  30992.50\n",
       "18   1990-10-18   1000  dominicks     15649       1   2.01  31454.49\n",
       "19   1990-10-25   1000  dominicks     10965       1   2.02  22149.30"
      ]
     },
     "execution_count": 6,
     "metadata": {},
     "output_type": "execute_result"
    }
   ],
   "source": [
    "oj_sales_df.head(20)"
   ]
  },
  {
   "cell_type": "markdown",
   "id": "86f12fc5",
   "metadata": {},
   "source": [
    "# Registering The Dataset"
   ]
  },
  {
   "cell_type": "code",
   "execution_count": 7,
   "id": "cf8fbc96",
   "metadata": {},
   "outputs": [
    {
     "name": "stdout",
     "output_type": "stream",
     "text": [
      "Validating arguments.\n",
      "Arguments validated.\n",
      "Successfully obtained datastore reference and path.\n",
      "Uploading file to managed-dataset/730175e7-ae16-4baa-9921-d8f757786d8f/\n",
      "Successfully uploaded file to datastore.\n",
      "Creating and registering a new dataset.\n",
      "Successfully created and registered a new dataset.\n"
     ]
    },
    {
     "data": {
      "text/plain": [
       "{\n",
       "  \"source\": [\n",
       "    \"('workspaceblobstore', 'managed-dataset/730175e7-ae16-4baa-9921-d8f757786d8f/')\"\n",
       "  ],\n",
       "  \"definition\": [\n",
       "    \"GetDatastoreFiles\",\n",
       "    \"ReadParquetFile\",\n",
       "    \"DropColumns\"\n",
       "  ],\n",
       "  \"registration\": {\n",
       "    \"id\": \"88e9fe44-558f-4d06-8d32-150e831757e0\",\n",
       "    \"name\": \"Orange Juice Sales (Simulated) Sample\",\n",
       "    \"version\": 1,\n",
       "    \"workspace\": \"Workspace.create(name='auotml-example-workspace', subscription_id='0c19fc19-85fd-4aa4-b133-61dd20fa93df', resource_group='edwin.spartan117-rg')\"\n",
       "  }\n",
       "}"
      ]
     },
     "execution_count": 7,
     "metadata": {},
     "output_type": "execute_result"
    }
   ],
   "source": [
    "Dataset.Tabular.register_pandas_dataframe(oj_sales_df, datastore, 'Orange Juice Sales (Simulated) Sample')"
   ]
  },
  {
   "cell_type": "markdown",
   "id": "33c8b3ea",
   "metadata": {},
   "source": [
    "# Model Training"
   ]
  },
  {
   "cell_type": "markdown",
   "id": "e9543256",
   "metadata": {},
   "source": [
    "## Initializing The Experiment For Model Training"
   ]
  },
  {
   "cell_type": "code",
   "execution_count": 9,
   "id": "0939808e",
   "metadata": {},
   "outputs": [],
   "source": [
    "experiment = Experiment(workspace = ws, name = 'OJ-Sales-Forecasting')"
   ]
  },
  {
   "cell_type": "code",
   "execution_count": 10,
   "id": "e90af4b9",
   "metadata": {},
   "outputs": [],
   "source": [
    "oj_sales_dataset = Dataset.get_by_name(ws, 'Orange Juice Sales (Simulated) Sample', version = 'latest')"
   ]
  },
  {
   "cell_type": "markdown",
   "id": "9cd7e739",
   "metadata": {},
   "source": [
    "## Using Standard Time Series Algorithms"
   ]
  },
  {
   "cell_type": "code",
   "execution_count": 11,
   "id": "1459e2d7",
   "metadata": {},
   "outputs": [],
   "source": [
    "standard_params = ForecastingParameters.from_parameters_dict(\n",
    "    {\n",
    "        'country_or_region_for_holidays': 'US', 'drop_column_names': 'Revenue', 'forecast_horizon': 6, \n",
    "        'target_rolling_window_size': 'auto', 'target_lags': 'auto', 'feature_lags': 'auto', 'seasonlity': 'auto',\n",
    "        'short_series_handling': True, 'use_stl': 'season_trend', 'time_column_name': 'WeekStarting', \n",
    "        'time_series_id_column_names': ['Store', 'Brand'], 'short_series_handling_configuration': 'auto'\n",
    "    }, validate_params = True)"
   ]
  },
  {
   "cell_type": "code",
   "execution_count": 12,
   "id": "7394954a",
   "metadata": {
    "scrolled": false
   },
   "outputs": [
    {
     "name": "stdout",
     "output_type": "stream",
     "text": [
      "Submitting remote run.\n",
      "No run_configuration provided, running on automl-cluster with default configuration\n",
      "Running on remote compute: automl-cluster\n"
     ]
    },
    {
     "data": {
      "text/html": [
       "<table style=\"width:100%\"><tr><th>Experiment</th><th>Id</th><th>Type</th><th>Status</th><th>Details Page</th><th>Docs Page</th></tr><tr><td>OJ-Sales-Forecasting</td><td>AutoML_8204a1cc-9200-47ae-bbe3-ff16db38500f</td><td>automl</td><td>NotStarted</td><td><a href=\"https://ml.azure.com/runs/AutoML_8204a1cc-9200-47ae-bbe3-ff16db38500f?wsid=/subscriptions/0c19fc19-85fd-4aa4-b133-61dd20fa93df/resourcegroups/edwin.spartan117-rg/workspaces/auotml-example-workspace&amp;tid=c5f4b1c2-b533-4788-b1c5-99d0f10fb9b6\" target=\"_blank\" rel=\"noopener\">Link to Azure Machine Learning studio</a></td><td><a href=\"https://docs.microsoft.com/en-us/python/api/overview/azure/ml/intro?view=azure-ml-py\" target=\"_blank\" rel=\"noopener\">Link to Documentation</a></td></tr></table>"
      ]
     },
     "metadata": {},
     "output_type": "display_data"
    },
    {
     "name": "stdout",
     "output_type": "stream",
     "text": [
      "\n",
      "Current status: ModelSelection. Beginning model selection.\n",
      "Heuristic parameters: Target_Lag = '[0]', Target_Rolling_Window = '0'.\n",
      "\n",
      "\n",
      "********************************************************************************************\n",
      "DATA GUARDRAILS: \n",
      "\n",
      "TYPE:         Time Series ID detection\n",
      "STATUS:       PASSED\n",
      "DESCRIPTION:  The data set was analyzed, and no duplicate time index were detected.\n",
      "              Learn more about time-series forecasting configurations: https://aka.ms/AutomatedMLForecastingConfiguration\n",
      "\n",
      "********************************************************************************************\n",
      "\n",
      "TYPE:         Frequency detection\n",
      "STATUS:       PASSED\n",
      "DESCRIPTION:  The time series was analyzed, all data points are aligned with detected frequency.\n",
      "              Learn more about data preparation for time-series forecasting: https://aka.ms/AutomatedMLDataPreparation\n",
      "\n",
      "********************************************************************************************\n",
      "\n",
      "TYPE:         Missing feature values imputation\n",
      "STATUS:       PASSED\n",
      "DESCRIPTION:  No feature missing values were detected in the training data.\n",
      "              Learn more about missing value imputation: https://aka.ms/AutomatedMLFeaturization\n",
      "\n",
      "********************************************************************************************\n",
      "\n",
      "TYPE:         Memory Issues Detection\n",
      "STATUS:       PASSED\n",
      "DESCRIPTION:  The selected horizon, lag and rolling window values were analyzed, and no potential memory issues were detected.\n",
      "              Learn more about time-series forecasting configurations: https://aka.ms/AutomatedMLForecastingConfiguration\n",
      "\n",
      "********************************************************************************************\n",
      "\n",
      "TYPE:         Short series handling\n",
      "STATUS:       PASSED\n",
      "DESCRIPTION:  Automated ML detected enough data points for each series in the input data to continue with training.\n",
      "              Learn more about short series handling: https://aka.ms/AutomatedMLShortSeriesHandling\n",
      "\n",
      "********************************************************************************************\n",
      "\n",
      "TYPE:         Automatic cross validation\n",
      "STATUS:       DONE\n",
      "DESCRIPTION:  Cross validation parameter(s) were automatically set for your dataset.\n",
      "              Learn more about time-series forecasting configurations: https://aka.ms/AutomatedMLForecastingConfiguration\n",
      "DETAILS:      If n_cross_validations and/or cv_step_size is not specified, Automated ML will determine those cross validation parameters automatically for you.\n",
      "+----------------------------------------------------------------+\n",
      "|Number of periods between two consecutive cross validation folds|\n",
      "+================================================================+\n",
      "|5                                                               |\n",
      "+----------------------------------------------------------------+\n",
      "\n",
      "********************************************************************************************\n",
      "\n",
      "********************************************************************************************\n",
      "ITER: The iteration being evaluated.\n",
      "PIPELINE: A summary description of the pipeline being evaluated.\n",
      "DURATION: Time taken for the current iteration.\n",
      "METRIC: The result of computing score on the fitted pipeline.\n",
      "BEST: The best observed score thus far.\n",
      "********************************************************************************************\n",
      "\n",
      " ITER   PIPELINE                                       DURATION            METRIC      BEST\n",
      "    0    Naive                                         0:00:13             0.3879    0.3879\n",
      "    1    SeasonalNaive                                 0:00:10             0.4197    0.3879\n",
      "    2    Average                                       0:00:10             0.2804    0.2804\n",
      "    3    SeasonalAverage                               0:00:11             0.3003    0.2804\n",
      "    4    ExponentialSmoothing                          0:01:16             0.2807    0.2804\n",
      "    5    Arimax                                        0:00:18             0.2868    0.2804\n",
      "    6    ProphetModel                                  0:00:23             0.2919    0.2804\n",
      "    7   StandardScalerWrapper LightGBM                 0:00:11             0.2952    0.2804\n",
      "    8   StandardScalerWrapper XGBoostRegressor         0:00:11             0.3224    0.2804\n",
      "    9   MaxAbsScaler ElasticNet                        0:00:11             0.2897    0.2804\n",
      "   10   RobustScaler ElasticNet                        0:00:11             0.2925    0.2804\n",
      "   11   MinMaxScaler ElasticNet                        0:00:10             0.2925    0.2804\n",
      "   12   StandardScalerWrapper ElasticNet               0:00:11             0.2926    0.2804\n",
      "   13   MinMaxScaler RandomForest                      0:00:11             0.2907    0.2804\n",
      "   14   MaxAbsScaler ElasticNet                        0:00:11             0.2908    0.2804\n",
      "   15   StandardScalerWrapper ElasticNet               0:00:11             0.2926    0.2804\n",
      "   16   MaxAbsScaler ElasticNet                        0:00:11             0.2926    0.2804\n",
      "   17   StandardScalerWrapper ElasticNet               0:00:10             0.2926    0.2804\n",
      "   18   MinMaxScaler ExtremeRandomTrees                0:00:11             0.2816    0.2804\n",
      "   19   MinMaxScaler RandomForest                      0:00:11             0.2889    0.2804\n",
      "   20   MinMaxScaler ExtremeRandomTrees                0:00:29             0.2847    0.2804\n",
      "   21   MinMaxScaler ExtremeRandomTrees                0:00:28             0.2831    0.2804\n",
      "   22   MaxAbsScaler ExtremeRandomTrees                0:00:31             0.2942    0.2804\n",
      "   23   MinMaxScaler DecisionTree                      0:00:28             0.2909    0.2804\n",
      "   24   RobustScaler ExtremeRandomTrees                0:00:28             0.2868    0.2804\n",
      "   25   StandardScalerWrapper ExtremeRandomTrees       0:00:26             0.2827    0.2804\n",
      "ERROR: {\n",
      "    \"additional_properties\": {},\n",
      "    \"error\": {\n",
      "        \"additional_properties\": {\n",
      "            \"debugInfo\": null\n",
      "        },\n",
      "        \"code\": \"UserError\",\n",
      "        \"severity\": null,\n",
      "        \"message\": \"Experiment timeout reached, please consider increasing your experiment timeout.\",\n",
      "        \"message_format\": \"Experiment timeout reached, please consider increasing your experiment timeout.\",\n",
      "        \"message_parameters\": {},\n",
      "        \"reference_code\": null,\n",
      "        \"details_uri\": null,\n",
      "        \"target\": null,\n",
      "        \"details\": [],\n",
      "        \"inner_error\": {\n",
      "            \"additional_properties\": {},\n",
      "            \"code\": \"ResourceExhausted\",\n",
      "            \"inner_error\": {\n",
      "                \"additional_properties\": {},\n",
      "                \"code\": \"Timeout\",\n",
      "                \"inner_error\": {\n",
      "                    \"additional_properties\": {},\n",
      "                    \"code\": \"ExperimentTimeoutForIterations\",\n",
      "                    \"inner_error\": null\n",
      "                }\n",
      "            }\n",
      "        },\n",
      "        \"additional_info\": null\n",
      "    },\n",
      "    \"correlation\": null,\n",
      "    \"environment\": null,\n",
      "    \"location\": null,\n",
      "    \"time\": {},\n",
      "    \"component_name\": null\n",
      "}\n",
      "   26    VotingEnsemble                                0:00:44             0.2774    0.2774\n"
     ]
    },
    {
     "data": {
      "application/vnd.jupyter.widget-view+json": {
       "model_id": "fc3e816625b3484386cdb6f853230fce",
       "version_major": 2,
       "version_minor": 0
      },
      "text/plain": [
       "_AutoMLWidget(widget_settings={'childWidgetDisplay': 'popup', 'send_telemetry': False, 'log_level': 'INFO', 's…"
      ]
     },
     "metadata": {},
     "output_type": "display_data"
    },
    {
     "data": {
      "application/aml.mini.widget.v1": "{\"status\": \"Completed\", \"workbench_run_details_uri\": \"https://ml.azure.com/runs/AutoML_8204a1cc-9200-47ae-bbe3-ff16db38500f?wsid=/subscriptions/0c19fc19-85fd-4aa4-b133-61dd20fa93df/resourcegroups/edwin.spartan117-rg/workspaces/auotml-example-workspace&tid=c5f4b1c2-b533-4788-b1c5-99d0f10fb9b6\", \"run_id\": \"AutoML_8204a1cc-9200-47ae-bbe3-ff16db38500f\", \"run_properties\": {\"run_id\": \"AutoML_8204a1cc-9200-47ae-bbe3-ff16db38500f\", \"created_utc\": \"2023-11-16T08:35:34.550772Z\", \"properties\": {\"num_iterations\": \"1000\", \"training_type\": \"TrainFull\", \"acquisition_function\": \"EI\", \"primary_metric\": \"normalized_root_mean_squared_error\", \"train_split\": \"0\", \"acquisition_parameter\": \"0\", \"num_cross_validation\": \"3\", \"target\": \"automl-cluster\", \"AMLSettingsJsonString\": \"{\\\"path\\\":null,\\\"name\\\":\\\"OJ-Sales-Forecasting\\\",\\\"subscription_id\\\":\\\"0c19fc19-85fd-4aa4-b133-61dd20fa93df\\\",\\\"resource_group\\\":\\\"edwin.spartan117-rg\\\",\\\"workspace_name\\\":\\\"auotml-example-workspace\\\",\\\"region\\\":\\\"southeastasia\\\",\\\"compute_target\\\":\\\"automl-cluster\\\",\\\"spark_service\\\":null,\\\"azure_service\\\":\\\"remote\\\",\\\"many_models\\\":false,\\\"pipeline_fetch_max_batch_size\\\":1,\\\"enable_batch_run\\\":true,\\\"enable_parallel_run\\\":false,\\\"num_procs\\\":null,\\\"enable_run_restructure\\\":false,\\\"start_auxiliary_runs_before_parent_complete\\\":false,\\\"enable_code_generation\\\":true,\\\"iterations\\\":1000,\\\"primary_metric\\\":\\\"normalized_root_mean_squared_error\\\",\\\"task_type\\\":\\\"regression\\\",\\\"positive_label\\\":null,\\\"data_script\\\":null,\\\"test_size\\\":0.0,\\\"test_include_predictions_only\\\":false,\\\"validation_size\\\":0.0,\\\"n_cross_validations\\\":3,\\\"y_min\\\":null,\\\"y_max\\\":null,\\\"num_classes\\\":null,\\\"featurization\\\":\\\"auto\\\",\\\"_ignore_package_version_incompatibilities\\\":false,\\\"is_timeseries\\\":true,\\\"max_cores_per_iteration\\\":1,\\\"max_concurrent_iterations\\\":1,\\\"iteration_timeout_minutes\\\":null,\\\"mem_in_mb\\\":null,\\\"enforce_time_on_windows\\\":false,\\\"experiment_timeout_minutes\\\":15,\\\"experiment_exit_score\\\":null,\\\"partition_column_names\\\":null,\\\"whitelist_models\\\":null,\\\"blacklist_algos\\\":[\\\"TensorFlowDNN\\\",\\\"TensorFlowLinearRegressor\\\"],\\\"supported_models\\\":[\\\"LassoLars\\\",\\\"Prophet\\\",\\\"TensorFlowLinearRegressor\\\",\\\"AutoArima\\\",\\\"TCNForecaster\\\",\\\"KNN\\\",\\\"RandomForest\\\",\\\"XGBoostRegressor\\\",\\\"Arimax\\\",\\\"SeasonalAverage\\\",\\\"Average\\\",\\\"ExtremeRandomTrees\\\",\\\"TensorFlowDNN\\\",\\\"Naive\\\",\\\"ExponentialSmoothing\\\",\\\"LightGBM\\\",\\\"SGD\\\",\\\"ElasticNet\\\",\\\"SeasonalNaive\\\",\\\"GradientBoosting\\\",\\\"DecisionTree\\\",\\\"TabnetRegressor\\\"],\\\"private_models\\\":[],\\\"auto_blacklist\\\":true,\\\"blacklist_samples_reached\\\":false,\\\"exclude_nan_labels\\\":true,\\\"verbosity\\\":20,\\\"_debug_log\\\":\\\"azureml_automl.log\\\",\\\"show_warnings\\\":false,\\\"model_explainability\\\":true,\\\"service_url\\\":null,\\\"sdk_url\\\":null,\\\"sdk_packages\\\":null,\\\"enable_onnx_compatible_models\\\":false,\\\"enable_split_onnx_featurizer_estimator_models\\\":false,\\\"vm_type\\\":\\\"STANDARD_DS3_V2\\\",\\\"telemetry_verbosity\\\":20,\\\"send_telemetry\\\":true,\\\"enable_dnn\\\":false,\\\"scenario\\\":\\\"AutoML\\\",\\\"environment_label\\\":null,\\\"save_mlflow\\\":false,\\\"enable_categorical_indicators\\\":false,\\\"force_text_dnn\\\":false,\\\"enable_feature_sweeping\\\":false,\\\"time_column_name\\\":\\\"WeekStarting\\\",\\\"grain_column_names\\\":[\\\"Store\\\",\\\"Brand\\\"],\\\"drop_column_names\\\":[\\\"Revenue\\\"],\\\"max_horizon\\\":6,\\\"dropna\\\":false,\\\"overwrite_columns\\\":true,\\\"transform_dictionary\\\":{\\\"min\\\":\\\"_automl_target_col\\\",\\\"max\\\":\\\"_automl_target_col\\\",\\\"mean\\\":\\\"_automl_target_col\\\"},\\\"window_size\\\":\\\"auto\\\",\\\"country_or_region\\\":\\\"US\\\",\\\"lags\\\":{\\\"_automl_target_col\\\":[\\\"auto\\\"]},\\\"feature_lags\\\":\\\"auto\\\",\\\"seasonality\\\":\\\"auto\\\",\\\"use_stl\\\":\\\"season_trend\\\",\\\"short_series_handling\\\":true,\\\"freq\\\":null,\\\"short_series_handling_configuration\\\":\\\"auto\\\",\\\"target_aggregation_function\\\":null,\\\"cv_step_size\\\":\\\"auto\\\",\\\"has_multiple_series\\\":true,\\\"enable_early_stopping\\\":true,\\\"early_stopping_n_iters\\\":10,\\\"arguments\\\":null,\\\"dataset_id\\\":\\\"88e9fe44-558f-4d06-8d32-150e831757e0\\\",\\\"hyperdrive_config\\\":null,\\\"validation_dataset_id\\\":null,\\\"run_source\\\":null,\\\"metrics\\\":null,\\\"enable_metric_confidence\\\":false,\\\"enable_ensembling\\\":true,\\\"enable_stack_ensembling\\\":false,\\\"ensemble_iterations\\\":15,\\\"enable_tf\\\":false,\\\"enable_subsampling\\\":false,\\\"subsample_seed\\\":null,\\\"enable_nimbusml\\\":false,\\\"enable_streaming\\\":false,\\\"force_streaming\\\":false,\\\"track_child_runs\\\":true,\\\"n_best_runs\\\":1,\\\"allowed_private_models\\\":[],\\\"label_column_name\\\":\\\"Quantity\\\",\\\"weight_column_name\\\":null,\\\"cv_split_column_names\\\":null,\\\"enable_local_managed\\\":false,\\\"_local_managed_run_id\\\":null,\\\"cost_mode\\\":1,\\\"lag_length\\\":0,\\\"metric_operation\\\":\\\"minimize\\\",\\\"preprocess\\\":true}\", \"DataPrepJsonString\": \"{\\\\\\\"training_data\\\\\\\": {\\\\\\\"datasetId\\\\\\\": \\\\\\\"88e9fe44-558f-4d06-8d32-150e831757e0\\\\\\\"}, \\\\\\\"datasets\\\\\\\": 0}\", \"EnableSubsampling\": \"False\", \"runTemplate\": \"AutoML\", \"azureml.runsource\": \"automl\", \"display_task_type\": \"forecasting\", \"dependencies_versions\": \"{\\\"azureml-dataprep-native\\\": \\\"38.0.0\\\", \\\"azureml-dataprep\\\": \\\"4.10.8\\\", \\\"azureml-dataprep-rslex\\\": \\\"2.17.12\\\", \\\"azureml-train-automl-runtime\\\": \\\"1.51.0.post2\\\", \\\"azureml-train-automl-client\\\": \\\"1.51.0.post1\\\", \\\"azureml-training-tabular\\\": \\\"1.51.0.post1\\\", \\\"azureml-automl-runtime\\\": \\\"1.51.0.post1\\\", \\\"azureml-automl-core\\\": \\\"1.51.0.post1\\\", \\\"azureml-mlflow\\\": \\\"1.51.0\\\", \\\"azureml-datadrift\\\": \\\"1.51.0\\\", \\\"azureml-pipeline\\\": \\\"1.51.0\\\", \\\"azureml-contrib-dataset\\\": \\\"1.51.0\\\", \\\"azureml-contrib-notebook\\\": \\\"1.51.0\\\", \\\"azureml-accel-models\\\": \\\"1.51.0\\\", \\\"azureml-automl-dnn-nlp\\\": \\\"1.51.0\\\", \\\"azureml-pipeline-core\\\": \\\"1.51.0\\\", \\\"azureml-responsibleai\\\": \\\"1.51.0\\\", \\\"azureml-contrib-automl-pipeline-steps\\\": \\\"1.51.0\\\", \\\"azureml-pipeline-steps\\\": \\\"1.51.0\\\", \\\"azureml-core\\\": \\\"1.51.0\\\", \\\"azureml-contrib-reinforcementlearning\\\": \\\"1.51.0\\\", \\\"azureml-contrib-server\\\": \\\"1.51.0\\\", \\\"azureml-opendatasets\\\": \\\"1.51.0\\\", \\\"azureml-contrib-services\\\": \\\"1.51.0\\\", \\\"azureml-telemetry\\\": \\\"1.51.0\\\", \\\"azureml-train-restclients-hyperdrive\\\": \\\"1.51.0\\\", \\\"azureml-interpret\\\": \\\"1.51.0\\\", \\\"azureml-train-core\\\": \\\"1.51.0\\\", \\\"azureml-tensorboard\\\": \\\"1.51.0\\\", \\\"azureml-train\\\": \\\"1.51.0\\\", \\\"azureml-contrib-pipeline-steps\\\": \\\"1.51.0\\\", \\\"azureml-explain-model\\\": \\\"1.51.0\\\", \\\"azureml-cli-common\\\": \\\"1.51.0\\\", \\\"azureml-widgets\\\": \\\"1.51.0\\\", \\\"azureml-train-automl\\\": \\\"1.51.0\\\", \\\"azureml-defaults\\\": \\\"1.51.0\\\", \\\"azureml-contrib-fairness\\\": \\\"1.51.0\\\", \\\"azureml-sdk\\\": \\\"1.51.0\\\", \\\"azureml-dataset-runtime\\\": \\\"1.51.0\\\", \\\"azureml-inference-server-http\\\": \\\"0.8.4\\\"}\", \"_aml_system_scenario_identification\": \"Remote.Parent\", \"ClientType\": \"SDK\", \"PlatformVersion\": \"DPV1\", \"environment_cpu_name\": \"AzureML-AutoML\", \"environment_cpu_label\": \"scikit-upgrade2\", \"environment_gpu_name\": \"AzureML-AutoML-GPU\", \"environment_gpu_label\": \"scikit-upgrade2\", \"root_attribution\": \"automl\", \"attribution\": \"AutoML\", \"Orchestrator\": \"AutoML\", \"CancelUri\": \"https://southeastasia.api.azureml.ms/jasmine/v1.0/subscriptions/0c19fc19-85fd-4aa4-b133-61dd20fa93df/resourceGroups/edwin.spartan117-rg/providers/Microsoft.MachineLearningServices/workspaces/auotml-example-workspace/experimentids/86445060-28f6-4b43-952a-b39feca11a74/cancel/AutoML_8204a1cc-9200-47ae-bbe3-ff16db38500f\", \"ClientSdkVersion\": null, \"snapshotId\": \"00000000-0000-0000-0000-000000000000\", \"SetupRunId\": \"AutoML_8204a1cc-9200-47ae-bbe3-ff16db38500f_setup\", \"SetupRunContainerId\": \"dcid.AutoML_8204a1cc-9200-47ae-bbe3-ff16db38500f_setup\", \"forecasting_target_lags\": \"[0]\", \"forecasting_target_rolling_window_size\": \"0\", \"forecasting_max_horizon\": \"6\", \"forecasting_freq\": \"W-THU\", \"ProblemInfoJsonString\": \"{\\\"dataset_num_categorical\\\": 0, \\\"is_sparse\\\": false, \\\"subsampling\\\": false, \\\"has_extra_col\\\": true, \\\"dataset_classes\\\": 1140, \\\"dataset_features\\\": 15, \\\"dataset_samples\\\": 1210, \\\"single_frequency_class_detected\\\": false, \\\"series_column_count\\\": 2, \\\"series_count\\\": 10, \\\"series_len_min\\\": 121, \\\"series_len_max\\\": 121, \\\"series_len_avg\\\": 121.0, \\\"series_len_perc_25\\\": 121.0, \\\"series_len_perc_50\\\": 121.0, \\\"series_len_perc_75\\\": 121.0}\", \"ModelExplainRunId\": \"AutoML_8204a1cc-9200-47ae-bbe3-ff16db38500f_ModelExplain\"}, \"tags\": {\"model_explain_run\": \"best_run\", \"_aml_system_automl_run_workspace_id\": \"080e5758-0b91-49eb-ac97-661db0f2b2eb\", \"_aml_system_azureml.automlComponent\": \"AutoML\", \"auto\": \"Heuristic parameters: Target_Lag = '[0]', Target_Rolling_Window = '0'.\\n\", \"pipeline_id_000\": \"__AutoML_Naive__;__AutoML_SeasonalNaive__;__AutoML_Average__;__AutoML_SeasonalAverage__;__AutoML_ExponentialSmoothing__;__AutoML_Arimax__;__AutoML_Prophet__;faf12f74cf9bbd358ca5525682c5030d36f7be7c;4bc4ec47eb8df2d5d68b361cd60120e65196f757;2dc95d8bafd84221b8de309021c722b4fa570e77;25f83b241b8941c8c1f896a8338015dbab159f71;1ee8bbdda30f414fb76bee47d543cd5e109dcdf8;86f7c6ce026522eff88f32e647e3e27450da2679;6ea29a0b9fd1f634678397a456aaf8d4d853f689;7839ca66a0ff9be386363c852f0384a7b2a1c93f;4379608887dc335ce8c4ec4afbec7da03177d166;ae729f09378486945c70eb2a2306f8aa8f4e30a7;13907c2227a8ccd337dcfb9775a6091b777331e0;7b7eb05148aedbc9f680e7533de408ae512d737a;65d7c43a91915b98bea837d39e652767814c8983;480f8271b09711d8daebb36454a153b84ef1254e;e647a57da02d25aba6061b72d5df7283520175ad;b5f35f573ce4f6e8526176d4e0932b5193598307;3840ebb82b060782c0c1aaabbe352751ed0cb999;1f8577810e0ef1b58bfcf0cc67c0115f13247d60;221f78ec666d4b1d460391d52f75942aefd7a9ce;__AutoML_Ensemble__\", \"score_000\": \"0.38785548558348415;0.41965798087781064;0.2804037502151941;0.30029903565313676;0.2807462058420359;0.2867829343922026;0.2919283725175093;0.2951560877445199;0.32239142639010304;0.2896664979473921;0.29254565720358755;0.29246151251284047;0.29255181182579365;0.2906749594344012;0.2907799076854683;0.2925547958015661;0.2925758160671558;0.29255176888159157;0.2815935229879704;0.2888622068262762;0.28471474542436787;0.28306905046749026;0.29422867735873354;0.2908945267572681;0.28678479715188515;0.2827409200209058;0.27738352112528536\", \"predicted_cost_000\": \"0;0;0;0;0;0;0;0.5;0.5;0.5;0.5;0.5;0.5;0.5;0.5;0.5;0.5;0.5;0.5;0.5;0.07308905245188906;0.031302290194140166;0.04031394566139139;0.0023003488319364774;0.06197301256161233;0.06711644345924381;0\", \"fit_time_000\": \"0.084767;0.079803;0.08486299999999998;0.07802433333333332;15.624297;2.018155;3.0972826666666666;0.066505;0.16493466666666667;0.011332333333333333;0.008567333333333335;0.008794333333333333;0.008206;0.043943;0.010623;0.007894666666666666;0.011181000000000002;0.015055666666666667;0.04979533333333333;0.09104166666666667;0.07366233333333334;0.029052333333333333;0.023495;0.005384333333333334;0.01878566666666667;900;11\", \"training_percent_000\": \"100;100;100;100;100;100;100;100;100;100;100;100;100;100;100;100;100;100;100;100;100;100;100;100;100;100;100\", \"iteration_000\": \"0;1;2;3;4;5;6;7;8;9;10;11;12;13;14;15;16;17;18;19;20;21;22;23;24;25;26\", \"run_preprocessor_000\": \";;;;;;;StandardScalerWrapper;StandardScalerWrapper;MaxAbsScaler;RobustScaler;MinMaxScaler;StandardScalerWrapper;MinMaxScaler;MaxAbsScaler;StandardScalerWrapper;MaxAbsScaler;StandardScalerWrapper;MinMaxScaler;MinMaxScaler;MinMaxScaler;MinMaxScaler;MaxAbsScaler;MinMaxScaler;RobustScaler;StandardScalerWrapper;\", \"run_algorithm_000\": \"Naive;SeasonalNaive;Average;SeasonalAverage;ExponentialSmoothing;Arimax;ProphetModel;LightGBM;XGBoostRegressor;ElasticNet;ElasticNet;ElasticNet;ElasticNet;RandomForest;ElasticNet;ElasticNet;ElasticNet;ElasticNet;ExtremeRandomTrees;RandomForest;ExtremeRandomTrees;ExtremeRandomTrees;ExtremeRandomTrees;DecisionTree;ExtremeRandomTrees;ExtremeRandomTrees;VotingEnsemble\", \"dynamic_allowlisting_iterations\": \"<25>;\", \"_aml_system_azureml.automl_early_exit_message\": \"Experiment timeout reached, hence experiment stopped. Current experiment timeout: 0 hour(s) 15 minute(s)\", \"automl_best_child_run_id\": \"AutoML_8204a1cc-9200-47ae-bbe3-ff16db38500f_26\", \"model_explain_best_run_child_id\": \"AutoML_8204a1cc-9200-47ae-bbe3-ff16db38500f_26\"}, \"end_time_utc\": \"2023-11-16T08:56:59.645726Z\", \"status\": \"Completed\", \"log_files\": {}, \"log_groups\": [], \"run_duration\": \"0:21:25\", \"run_number\": \"1700123734\", \"run_queued_details\": {\"status\": \"Completed\", \"details\": null}}, \"child_runs\": [{\"run_id\": \"AutoML_8204a1cc-9200-47ae-bbe3-ff16db38500f_setup\", \"run_number\": 1700123747, \"metric\": null, \"status\": \"Completed\", \"run_type\": \"azureml.scriptrun\", \"training_percent\": null, \"start_time\": \"2023-11-16T08:38:46.229645Z\", \"end_time\": \"2023-11-16T08:40:28.40351Z\", \"created_time\": \"2023-11-16T08:35:47.332968Z\", \"created_time_dt\": \"2023-11-16T08:35:47.332968Z\", \"duration\": \"0:04:41\", \"iteration\": null, \"goal\": null, \"run_name\": \"Completed\", \"run_properties\": null}, {\"run_id\": \"AutoML_8204a1cc-9200-47ae-bbe3-ff16db38500f_0\", \"run_number\": 1700124029, \"metric\": null, \"status\": \"Completed\", \"run_type\": null, \"training_percent\": \"100\", \"start_time\": \"2023-11-16T08:41:09.868119Z\", \"end_time\": \"2023-11-16T08:41:22.375646Z\", \"created_time\": \"2023-11-16T08:40:29.825959Z\", \"created_time_dt\": \"2023-11-16T08:40:29.825959Z\", \"duration\": \"0:00:52\", \"iteration\": \"0\", \"goal\": \"normalized_root_mean_squared_error_min\", \"run_name\": \"Naive\", \"run_properties\": \"timeseries_param_dict={'time_column_name': 'WeekStarting', 'grain_column_names': ['Store', 'Brand'], 'target_column_name': 'Quantity', 'drop_column_names': ['Revenue'], 'overwrite_columns': True, 'dropna': False, 'transform_dictionary': {'min': '_automl_target_col', 'max': '_automl_target_col', 'mean': '_automl_target_col'}, 'max_horizon': 6, 'origin_time_colname': 'origin', 'country_or_region': 'US', 'n_cross_validations': 3, 'short_series_handling': True, 'max_cores_per_iteration': 1, 'feature_lags': 'auto', 'target_aggregation_function': None, 'cv_step_size': 5, 'window_size': 'auto', 'lags': {'_automl_target_col': ['auto']}, 'seasonality': 4, 'use_stl': 'season_trend', 'freq': 'W-THU', 'short_series_handling_configuration': 'auto', 'target_lags': [0], 'target_rolling_window_size': 0, 'arimax_raw_columns': ['WeekStarting', 'Advert', 'Price', 'Brand', 'Store']}\", \"primary_metric\": 0.38785549, \"best_metric\": 0.38785549}, {\"run_id\": \"AutoML_8204a1cc-9200-47ae-bbe3-ff16db38500f_1\", \"run_number\": 1700124030, \"metric\": null, \"status\": \"Completed\", \"run_type\": null, \"training_percent\": \"100\", \"start_time\": \"2023-11-16T08:41:23.191874Z\", \"end_time\": \"2023-11-16T08:41:33.624004Z\", \"created_time\": \"2023-11-16T08:40:30.32024Z\", \"created_time_dt\": \"2023-11-16T08:40:30.32024Z\", \"duration\": \"0:01:03\", \"iteration\": \"1\", \"goal\": \"normalized_root_mean_squared_error_min\", \"run_name\": \"SeasonalNaive\", \"run_properties\": \"timeseries_param_dict={'time_column_name': 'WeekStarting', 'grain_column_names': ['Store', 'Brand'], 'target_column_name': 'Quantity', 'drop_column_names': ['Revenue'], 'overwrite_columns': True, 'dropna': False, 'transform_dictionary': {'min': '_automl_target_col', 'max': '_automl_target_col', 'mean': '_automl_target_col'}, 'max_horizon': 6, 'origin_time_colname': 'origin', 'country_or_region': 'US', 'n_cross_validations': 3, 'short_series_handling': True, 'max_cores_per_iteration': 1, 'feature_lags': 'auto', 'target_aggregation_function': None, 'cv_step_size': 5, 'window_size': 'auto', 'lags': {'_automl_target_col': ['auto']}, 'seasonality': 4, 'use_stl': 'season_trend', 'freq': 'W-THU', 'short_series_handling_configuration': 'auto', 'target_lags': [0], 'target_rolling_window_size': 0, 'arimax_raw_columns': ['WeekStarting', 'Advert', 'Price', 'Brand', 'Store']}\", \"primary_metric\": 0.41965798, \"best_metric\": 0.38785549}, {\"run_id\": \"AutoML_8204a1cc-9200-47ae-bbe3-ff16db38500f_3\", \"run_number\": 1700124031, \"metric\": null, \"status\": \"Completed\", \"run_type\": null, \"training_percent\": \"100\", \"start_time\": \"2023-11-16T08:41:45.803374Z\", \"end_time\": \"2023-11-16T08:41:56.683197Z\", \"created_time\": \"2023-11-16T08:40:31.28641Z\", \"created_time_dt\": \"2023-11-16T08:40:31.28641Z\", \"duration\": \"0:01:25\", \"iteration\": \"3\", \"goal\": \"normalized_root_mean_squared_error_min\", \"run_name\": \"SeasonalAverage\", \"run_properties\": \"timeseries_param_dict={'time_column_name': 'WeekStarting', 'grain_column_names': ['Store', 'Brand'], 'target_column_name': 'Quantity', 'drop_column_names': ['Revenue'], 'overwrite_columns': True, 'dropna': False, 'transform_dictionary': {'min': '_automl_target_col', 'max': '_automl_target_col', 'mean': '_automl_target_col'}, 'max_horizon': 6, 'origin_time_colname': 'origin', 'country_or_region': 'US', 'n_cross_validations': 3, 'short_series_handling': True, 'max_cores_per_iteration': 1, 'feature_lags': 'auto', 'target_aggregation_function': None, 'cv_step_size': 5, 'window_size': 'auto', 'lags': {'_automl_target_col': ['auto']}, 'seasonality': 4, 'use_stl': 'season_trend', 'freq': 'W-THU', 'short_series_handling_configuration': 'auto', 'target_lags': [0], 'target_rolling_window_size': 0, 'arimax_raw_columns': ['WeekStarting', 'Advert', 'Price', 'Brand', 'Store']}\", \"primary_metric\": 0.30029904, \"best_metric\": 0.30029904}, {\"run_id\": \"AutoML_8204a1cc-9200-47ae-bbe3-ff16db38500f_5\", \"run_number\": 1700124032, \"metric\": null, \"status\": \"Completed\", \"run_type\": null, \"training_percent\": \"100\", \"start_time\": \"2023-11-16T08:43:14.992404Z\", \"end_time\": \"2023-11-16T08:43:33.288176Z\", \"created_time\": \"2023-11-16T08:40:32.136059Z\", \"created_time_dt\": \"2023-11-16T08:40:32.136059Z\", \"duration\": \"0:03:01\", \"iteration\": \"5\", \"goal\": \"normalized_root_mean_squared_error_min\", \"run_name\": \"Arimax\", \"run_properties\": \"timeseries_param_dict={'time_column_name': 'WeekStarting', 'grain_column_names': ['Store', 'Brand'], 'target_column_name': 'Quantity', 'drop_column_names': ['Revenue'], 'overwrite_columns': True, 'dropna': False, 'transform_dictionary': {'min': '_automl_target_col', 'max': '_automl_target_col', 'mean': '_automl_target_col'}, 'max_horizon': 6, 'origin_time_colname': 'origin', 'country_or_region': 'US', 'n_cross_validations': 3, 'short_series_handling': True, 'max_cores_per_iteration': 1, 'feature_lags': 'auto', 'target_aggregation_function': None, 'cv_step_size': 5, 'window_size': 'auto', 'lags': {'_automl_target_col': ['auto']}, 'seasonality': 4, 'use_stl': 'season_trend', 'freq': 'W-THU', 'short_series_handling_configuration': 'auto', 'target_lags': [0], 'target_rolling_window_size': 0, 'arimax_raw_columns': ['WeekStarting', 'Advert', 'Price', 'Brand', 'Store']}\", \"primary_metric\": 0.28678293, \"best_metric\": 0.28678293}, {\"run_id\": \"AutoML_8204a1cc-9200-47ae-bbe3-ff16db38500f_7\", \"run_number\": 1700124033, \"metric\": null, \"status\": \"Completed\", \"run_type\": null, \"training_percent\": \"100\", \"start_time\": \"2023-11-16T08:43:57.716847Z\", \"end_time\": \"2023-11-16T08:44:08.810305Z\", \"created_time\": \"2023-11-16T08:40:33.023348Z\", \"created_time_dt\": \"2023-11-16T08:40:33.023348Z\", \"duration\": \"0:03:35\", \"iteration\": \"7\", \"goal\": \"normalized_root_mean_squared_error_min\", \"run_name\": \"StandardScalerWrapper, LightGBM\", \"run_properties\": \"copy=True, with_mean=False, with_std=False\", \"primary_metric\": 0.29515609, \"best_metric\": 0.28678293}, {\"run_id\": \"AutoML_8204a1cc-9200-47ae-bbe3-ff16db38500f_10\", \"run_number\": 1700124034, \"metric\": null, \"status\": \"Completed\", \"run_type\": null, \"training_percent\": \"100\", \"start_time\": \"2023-11-16T08:44:34.430492Z\", \"end_time\": \"2023-11-16T08:44:45.035377Z\", \"created_time\": \"2023-11-16T08:40:34.277346Z\", \"created_time_dt\": \"2023-11-16T08:40:34.277346Z\", \"duration\": \"0:04:10\", \"iteration\": \"10\", \"goal\": \"normalized_root_mean_squared_error_min\", \"run_name\": \"RobustScaler, ElasticNet\", \"run_properties\": \"copy=True, quantile_range=[10, 90], with_centering=True,\\n             with_scaling=False\", \"primary_metric\": 0.29254566, \"best_metric\": 0.28678293}, {\"run_id\": \"AutoML_8204a1cc-9200-47ae-bbe3-ff16db38500f_12\", \"run_number\": 1700124035, \"metric\": null, \"status\": \"Completed\", \"run_type\": null, \"training_percent\": \"100\", \"start_time\": \"2023-11-16T08:44:57.167693Z\", \"end_time\": \"2023-11-16T08:45:07.737581Z\", \"created_time\": \"2023-11-16T08:40:35.167433Z\", \"created_time_dt\": \"2023-11-16T08:40:35.167433Z\", \"duration\": \"0:04:32\", \"iteration\": \"12\", \"goal\": \"normalized_root_mean_squared_error_min\", \"run_name\": \"StandardScalerWrapper, ElasticNet\", \"run_properties\": \"copy=True, with_mean=False, with_std=True\", \"primary_metric\": 0.29255181, \"best_metric\": 0.28678293}, {\"run_id\": \"AutoML_8204a1cc-9200-47ae-bbe3-ff16db38500f_15\", \"run_number\": 1700124036, \"metric\": null, \"status\": \"Completed\", \"run_type\": null, \"training_percent\": \"100\", \"start_time\": \"2023-11-16T08:45:35.307725Z\", \"end_time\": \"2023-11-16T08:45:46.336754Z\", \"created_time\": \"2023-11-16T08:40:36.901783Z\", \"created_time_dt\": \"2023-11-16T08:40:36.901783Z\", \"duration\": \"0:05:09\", \"iteration\": \"15\", \"goal\": \"normalized_root_mean_squared_error_min\", \"run_name\": \"StandardScalerWrapper, ElasticNet\", \"run_properties\": \"copy=True, with_mean=True, with_std=False\", \"primary_metric\": 0.2925548, \"best_metric\": 0.28678293}, {\"run_id\": \"AutoML_8204a1cc-9200-47ae-bbe3-ff16db38500f_16\", \"run_number\": 1700124037, \"metric\": null, \"status\": \"Completed\", \"run_type\": null, \"training_percent\": \"100\", \"start_time\": \"2023-11-16T08:45:47.371806Z\", \"end_time\": \"2023-11-16T08:45:58.035877Z\", \"created_time\": \"2023-11-16T08:40:37.306578Z\", \"created_time_dt\": \"2023-11-16T08:40:37.306578Z\", \"duration\": \"0:05:20\", \"iteration\": \"16\", \"goal\": \"normalized_root_mean_squared_error_min\", \"run_name\": \"MaxAbsScaler, ElasticNet\", \"run_properties\": \"copy=True\", \"primary_metric\": 0.29257582, \"best_metric\": 0.28678293}, {\"run_id\": \"AutoML_8204a1cc-9200-47ae-bbe3-ff16db38500f_worker_0\", \"run_number\": 1700124038, \"metric\": null, \"status\": \"Completed\", \"run_type\": \"azureml.scriptrun\", \"training_percent\": null, \"start_time\": \"2023-11-16T08:41:01.598729Z\", \"end_time\": \"2023-11-16T08:46:44.954487Z\", \"created_time\": \"2023-11-16T08:40:38.908274Z\", \"created_time_dt\": \"2023-11-16T08:40:38.908274Z\", \"duration\": \"0:06:06\", \"iteration\": null, \"goal\": null, \"run_name\": \"Completed\", \"run_properties\": null}, {\"run_id\": \"AutoML_8204a1cc-9200-47ae-bbe3-ff16db38500f_20\", \"run_number\": 1700124642, \"metric\": null, \"status\": \"Completed\", \"run_type\": \"azureml.scriptrun\", \"training_percent\": \"100\", \"start_time\": \"2023-11-16T08:51:10.663045Z\", \"end_time\": \"2023-11-16T08:51:39.340964Z\", \"created_time\": \"2023-11-16T08:50:42.845859Z\", \"created_time_dt\": \"2023-11-16T08:50:42.845859Z\", \"duration\": \"0:00:56\", \"iteration\": \"20\", \"goal\": \"normalized_root_mean_squared_error_min\", \"run_name\": \"MinMaxScaler, ExtremeRandomTrees\", \"run_properties\": \"copy=True, feature_range=(0, 1\", \"primary_metric\": 0.28471475, \"best_metric\": 0.28471475}, {\"run_id\": \"AutoML_8204a1cc-9200-47ae-bbe3-ff16db38500f_21\", \"run_number\": 1700124700, \"metric\": null, \"status\": \"Completed\", \"run_type\": \"azureml.scriptrun\", \"training_percent\": \"100\", \"start_time\": \"2023-11-16T08:52:01.137588Z\", \"end_time\": \"2023-11-16T08:52:29.431918Z\", \"created_time\": \"2023-11-16T08:51:40.409874Z\", \"created_time_dt\": \"2023-11-16T08:51:40.409874Z\", \"duration\": \"0:00:49\", \"iteration\": \"21\", \"goal\": \"normalized_root_mean_squared_error_min\", \"run_name\": \"MinMaxScaler, ExtremeRandomTrees\", \"run_properties\": \"copy=True, feature_range=(0, 1\", \"primary_metric\": 0.28306905, \"best_metric\": 0.28306905}, {\"run_id\": \"AutoML_8204a1cc-9200-47ae-bbe3-ff16db38500f_22\", \"run_number\": 1700124750, \"metric\": null, \"status\": \"Completed\", \"run_type\": \"azureml.scriptrun\", \"training_percent\": \"100\", \"start_time\": \"2023-11-16T08:52:51.350885Z\", \"end_time\": \"2023-11-16T08:53:22.340154Z\", \"created_time\": \"2023-11-16T08:52:30.398524Z\", \"created_time_dt\": \"2023-11-16T08:52:30.398524Z\", \"duration\": \"0:00:51\", \"iteration\": \"22\", \"goal\": \"normalized_root_mean_squared_error_min\", \"run_name\": \"MaxAbsScaler, ExtremeRandomTrees\", \"run_properties\": \"copy=True\", \"primary_metric\": 0.29422868, \"best_metric\": 0.28306905}, {\"run_id\": \"AutoML_8204a1cc-9200-47ae-bbe3-ff16db38500f_23\", \"run_number\": 1700124803, \"metric\": null, \"status\": \"Completed\", \"run_type\": \"azureml.scriptrun\", \"training_percent\": \"100\", \"start_time\": \"2023-11-16T08:53:46.805364Z\", \"end_time\": \"2023-11-16T08:54:14.707965Z\", \"created_time\": \"2023-11-16T08:53:23.393411Z\", \"created_time_dt\": \"2023-11-16T08:53:23.393411Z\", \"duration\": \"0:00:51\", \"iteration\": \"23\", \"goal\": \"normalized_root_mean_squared_error_min\", \"run_name\": \"MinMaxScaler, DecisionTree\", \"run_properties\": \"copy=True, feature_range=(0, 1\", \"primary_metric\": 0.29089453, \"best_metric\": 0.28306905}, {\"run_id\": \"AutoML_8204a1cc-9200-47ae-bbe3-ff16db38500f_24\", \"run_number\": 1700124855, \"metric\": null, \"status\": \"Completed\", \"run_type\": \"azureml.scriptrun\", \"training_percent\": \"100\", \"start_time\": \"2023-11-16T08:54:35.14036Z\", \"end_time\": \"2023-11-16T08:55:03.077573Z\", \"created_time\": \"2023-11-16T08:54:15.885624Z\", \"created_time_dt\": \"2023-11-16T08:54:15.885624Z\", \"duration\": \"0:00:47\", \"iteration\": \"24\", \"goal\": \"normalized_root_mean_squared_error_min\", \"run_name\": \"RobustScaler, ExtremeRandomTrees\", \"run_properties\": \"copy=True, quantile_range=[10, 90], with_centering=False,\\n             with_scaling=False\", \"primary_metric\": 0.2867848, \"best_metric\": 0.28306905}, {\"run_id\": \"AutoML_8204a1cc-9200-47ae-bbe3-ff16db38500f_25\", \"run_number\": 1700124905, \"metric\": null, \"status\": \"Canceled\", \"run_type\": \"azureml.scriptrun\", \"training_percent\": \"100\", \"start_time\": \"2023-11-16T08:55:24.669204Z\", \"end_time\": \"2023-11-16T08:55:50.640151Z\", \"created_time\": \"2023-11-16T08:55:05.075783Z\", \"created_time_dt\": \"2023-11-16T08:55:05.075783Z\", \"duration\": \"0:00:45\", \"iteration\": \"25\", \"goal\": \"normalized_root_mean_squared_error_min\", \"run_name\": \"StandardScalerWrapper, ExtremeRandomTrees\", \"run_properties\": \"copy=True, with_mean=True, with_std=True\", \"primary_metric\": 0.28274092, \"best_metric\": 0.28274092}, {\"run_id\": \"AutoML_8204a1cc-9200-47ae-bbe3-ff16db38500f_26\", \"run_number\": 1700124951, \"metric\": null, \"status\": \"Completed\", \"run_type\": \"azureml.scriptrun\", \"training_percent\": \"100\", \"start_time\": \"2023-11-16T08:56:14.212921Z\", \"end_time\": \"2023-11-16T08:56:58.595779Z\", \"created_time\": \"2023-11-16T08:55:51.238123Z\", \"created_time_dt\": \"2023-11-16T08:55:51.238123Z\", \"duration\": \"0:01:07\", \"iteration\": \"26\", \"goal\": \"normalized_root_mean_squared_error_min\", \"run_name\": \"VotingEnsemble\", \"run_properties\": \"estimators=[('2', Pipeline(memory=None, steps=[('average', Average(timeseries_param_dict={'time_column_name': 'WeekStarting', 'grain_column_names': ['Store', 'Brand'], 'target_column_name': 'Quantity', 'drop_column_names': ['Revenue'], 'overwrite_columns': True, 'dropna': False, 'transform_dictionary': {'min': '_automl_target_col', 'max': '_automl_target_col', 'mean': '_automl_target_col'}, 'max_horizon': 6, 'origin_time_colname': 'origin', 'country_or_region': 'US', 'n_cross_validations': 3, 'short_series_handling': True, 'max_cores_per_iteration': 1, 'feature_lags': 'auto', 'target_aggregation_function': None, 'cv_step_size': 5, 'window_size': 'auto', 'lags': {'_automl_target_col': ['auto']}, 'seasonality': 4, 'use_stl': 'season_trend', 'freq': 'W-THU', 'short_series_handling_configuration': 'auto', 'target_lags': [0], 'target_rolling_window_size': 0, 'arimax_raw_columns': ['WeekStarting', 'Advert', 'Price', 'Brand', 'Store']}\", \"primary_metric\": 0.27738352, \"best_metric\": 0.27738352}], \"children_metrics\": {\"categories\": [0], \"series\": {\"normalized_mean_absolute_error\": [{\"categories\": [\"0\", \"1\", \"3\", \"5\", \"7\", \"10\", \"12\", \"15\", \"16\", \"20\", \"21\", \"22\", \"23\", \"24\", \"25\", \"26\"], \"mode\": \"markers\", \"name\": \"normalized_mean_absolute_error\", \"stepped\": false, \"type\": \"scatter\", \"data\": [0.33221250185134926, 0.35897223912530524, 0.2584588867396644, 0.2462775451490867, 0.2531402245638114, 0.2522522124066849, 0.25225654160018723, 0.2522572300632956, 0.2522453562294351, 0.24321066893068755, 0.24384272232156337, 0.2531867053689805, 0.24715403034497063, 0.2472589917525858, 0.2439777135386739, 0.23934111972727648]}, {\"categories\": [\"0\", \"1\", \"3\", \"5\", \"7\", \"10\", \"12\", \"15\", \"16\", \"20\", \"21\", \"22\", \"23\", \"24\", \"25\", \"26\"], \"mode\": \"lines\", \"name\": \"normalized_mean_absolute_error_min\", \"stepped\": true, \"type\": \"scatter\", \"data\": [0.33221250185134926, 0.33221250185134926, 0.2584588867396644, 0.2462775451490867, 0.2462775451490867, 0.2462775451490867, 0.2462775451490867, 0.2462775451490867, 0.2462775451490867, 0.24321066893068755, 0.24321066893068755, 0.24321066893068755, 0.24321066893068755, 0.24321066893068755, 0.24321066893068755, 0.23934111972727648]}], \"root_mean_squared_error\": [{\"categories\": [\"0\", \"1\", \"3\", \"5\", \"7\", \"10\", \"12\", \"15\", \"16\", \"20\", \"21\", \"22\", \"23\", \"24\", \"25\", \"26\"], \"mode\": \"markers\", \"name\": \"root_mean_squared_error\", \"stepped\": false, \"type\": \"scatter\", \"data\": [4421.806939409317, 4698.366401696477, 3377.4980307644473, 3147.6837381321366, 3274.6849009050966, 3222.977882738849, 3223.0432144216684, 3223.0851421036064, 3223.3903441936127, 3135.428300778145, 3110.171748623148, 3246.051148569932, 3239.085409346472, 3149.549558963859, 3110.4910707340737, 3047.0434747268177]}, {\"categories\": [\"0\", \"1\", \"3\", \"5\", \"7\", \"10\", \"12\", \"15\", \"16\", \"20\", \"21\", \"22\", \"23\", \"24\", \"25\", \"26\"], \"mode\": \"lines\", \"name\": \"root_mean_squared_error_min\", \"stepped\": true, \"type\": \"scatter\", \"data\": [4421.806939409317, 4421.806939409317, 3377.4980307644473, 3147.6837381321366, 3147.6837381321366, 3147.6837381321366, 3147.6837381321366, 3147.6837381321366, 3147.6837381321366, 3135.428300778145, 3110.171748623148, 3110.171748623148, 3110.171748623148, 3110.171748623148, 3110.171748623148, 3047.0434747268177]}], \"normalized_root_mean_squared_log_error\": [{\"categories\": [\"0\", \"1\", \"3\", \"5\", \"7\", \"10\", \"12\", \"15\", \"16\", \"20\", \"21\", \"22\", \"23\", \"24\", \"25\", \"26\"], \"mode\": \"markers\", \"name\": \"normalized_root_mean_squared_log_error\", \"stepped\": false, \"type\": \"scatter\", \"data\": [0.3845830665586371, 0.41928945082115515, 0.30179694541005964, 0.2889343569420116, 0.2936800350857402, 0.29296778325653205, 0.29297839835760836, 0.2929816847531959, 0.29302183296970025, 0.28554775587543113, 0.28486818799583974, 0.2940565433619929, 0.289738250620542, 0.2878533819799846, 0.2845238407423218, 0.27973580169817625]}, {\"categories\": [\"0\", \"1\", \"3\", \"5\", \"7\", \"10\", \"12\", \"15\", \"16\", \"20\", \"21\", \"22\", \"23\", \"24\", \"25\", \"26\"], \"mode\": \"lines\", \"name\": \"normalized_root_mean_squared_log_error_min\", \"stepped\": true, \"type\": \"scatter\", \"data\": [0.3845830665586371, 0.3845830665586371, 0.30179694541005964, 0.2889343569420116, 0.2889343569420116, 0.2889343569420116, 0.2889343569420116, 0.2889343569420116, 0.2889343569420116, 0.28554775587543113, 0.28486818799583974, 0.28486818799583974, 0.28486818799583974, 0.28486818799583974, 0.2845238407423218, 0.27973580169817625]}], \"normalized_root_mean_squared_error\": [{\"categories\": [\"0\", \"1\", \"3\", \"5\", \"7\", \"10\", \"12\", \"15\", \"16\", \"20\", \"21\", \"22\", \"23\", \"24\", \"25\", \"26\"], \"mode\": \"markers\", \"name\": \"normalized_root_mean_squared_error\", \"stepped\": false, \"type\": \"scatter\", \"data\": [0.38785548558348415, 0.41965798087781064, 0.30029903565313676, 0.2867829343922026, 0.2951560877445199, 0.29254565720358755, 0.29255181182579365, 0.2925547958015661, 0.2925758160671558, 0.28471474542436787, 0.28306905046749026, 0.29422867735873354, 0.2908945267572681, 0.28678479715188515, 0.2827409200209058, 0.27738352112528536]}, {\"categories\": [\"0\", \"1\", \"3\", \"5\", \"7\", \"10\", \"12\", \"15\", \"16\", \"20\", \"21\", \"22\", \"23\", \"24\", \"25\", \"26\"], \"mode\": \"lines\", \"name\": \"normalized_root_mean_squared_error_min\", \"stepped\": true, \"type\": \"scatter\", \"data\": [0.38785548558348415, 0.38785548558348415, 0.30029903565313676, 0.2867829343922026, 0.2867829343922026, 0.2867829343922026, 0.2867829343922026, 0.2867829343922026, 0.2867829343922026, 0.28471474542436787, 0.28306905046749026, 0.28306905046749026, 0.28306905046749026, 0.28306905046749026, 0.2827409200209058, 0.27738352112528536]}], \"mean_absolute_error\": [{\"categories\": [\"0\", \"1\", \"3\", \"5\", \"7\", \"10\", \"12\", \"15\", \"16\", \"20\", \"21\", \"22\", \"23\", \"24\", \"25\", \"26\"], \"mode\": \"markers\", \"name\": \"mean_absolute_error\", \"stepped\": false, \"type\": \"scatter\", \"data\": [3600.1777777777775, 3880.1555555555556, 2798.077777777778, 2666.049948995376, 2740.247530007817, 2730.188926802823, 2730.233223618547, 2730.240862066901, 2730.1180276934524, 2632.4785230759403, 2639.17457514208, 2738.414332671958, 2674.587336240875, 2676.7031902051785, 2640.7459946694066, 2590.5682082954204]}, {\"categories\": [\"0\", \"1\", \"3\", \"5\", \"7\", \"10\", \"12\", \"15\", \"16\", \"20\", \"21\", \"22\", \"23\", \"24\", \"25\", \"26\"], \"mode\": \"lines\", \"name\": \"mean_absolute_error_min\", \"stepped\": true, \"type\": \"scatter\", \"data\": [3600.1777777777775, 3600.1777777777775, 2798.077777777778, 2666.049948995376, 2666.049948995376, 2666.049948995376, 2666.049948995376, 2666.049948995376, 2666.049948995376, 2632.4785230759403, 2632.4785230759403, 2632.4785230759403, 2632.4785230759403, 2632.4785230759403, 2632.4785230759403, 2590.5682082954204]}], \"root_mean_squared_log_error\": [{\"categories\": [\"0\", \"1\", \"3\", \"5\", \"7\", \"10\", \"12\", \"15\", \"16\", \"20\", \"21\", \"22\", \"23\", \"24\", \"25\", \"26\"], \"mode\": \"markers\", \"name\": \"root_mean_squared_log_error\", \"stepped\": false, \"type\": \"scatter\", \"data\": [0.318270534612257, 0.3410659096560549, 0.24593985255641373, 0.23074252724330183, 0.2362447544090429, 0.2343002356699172, 0.2343097379347027, 0.23431303126866113, 0.2343525157907759, 0.22834378897995208, 0.2278310028912832, 0.23563275538673967, 0.233820082561235, 0.2294787410242257, 0.22753504123141685, 0.2234456480512618]}, {\"categories\": [\"0\", \"1\", \"3\", \"5\", \"7\", \"10\", \"12\", \"15\", \"16\", \"20\", \"21\", \"22\", \"23\", \"24\", \"25\", \"26\"], \"mode\": \"lines\", \"name\": \"root_mean_squared_log_error_min\", \"stepped\": true, \"type\": \"scatter\", \"data\": [0.318270534612257, 0.318270534612257, 0.24593985255641373, 0.23074252724330183, 0.23074252724330183, 0.23074252724330183, 0.23074252724330183, 0.23074252724330183, 0.23074252724330183, 0.22834378897995208, 0.2278310028912832, 0.2278310028912832, 0.2278310028912832, 0.2278310028912832, 0.22753504123141685, 0.2234456480512618]}], \"spearman_correlation\": [{\"categories\": [\"0\", \"1\", \"3\", \"5\", \"7\", \"10\", \"12\", \"15\", \"16\", \"20\", \"21\", \"22\", \"23\", \"24\", \"25\", \"26\"], \"mode\": \"markers\", \"name\": \"spearman_correlation\", \"stepped\": false, \"type\": \"scatter\", \"data\": [-0.05104067631667617, -0.09207893629678994, 0.08443490436631769, -0.05505382108754007, 0.06974159488746874, 0.02070945633046216, 0.02059831434657776, 0.02059831434657776, 0.02059831434657776, 0.022506251736593513, 0.020931740298230982, 0.009335926646290654, 0.021269226734125863, -0.008650551079003421, 0.03917754931925536, 0.11731036398999724]}, {\"categories\": [\"0\", \"1\", \"3\", \"5\", \"7\", \"10\", \"12\", \"15\", \"16\", \"20\", \"21\", \"22\", \"23\", \"24\", \"25\", \"26\"], \"mode\": \"lines\", \"name\": \"spearman_correlation_max\", \"stepped\": true, \"type\": \"scatter\", \"data\": [-0.05104067631667617, -0.05104067631667617, 0.08443490436631769, 0.08443490436631769, 0.08443490436631769, 0.08443490436631769, 0.08443490436631769, 0.08443490436631769, 0.08443490436631769, 0.08443490436631769, 0.08443490436631769, 0.08443490436631769, 0.08443490436631769, 0.08443490436631769, 0.08443490436631769, 0.11731036398999724]}], \"mean_absolute_percentage_error\": [{\"categories\": [\"0\", \"1\", \"3\", \"5\", \"7\", \"10\", \"12\", \"15\", \"16\", \"20\", \"21\", \"22\", \"23\", \"24\", \"25\", \"26\"], \"mode\": \"markers\", \"name\": \"mean_absolute_percentage_error\", \"stepped\": false, \"type\": \"scatter\", \"data\": [26.724033230268702, 28.74267654689213, 21.240181548101422, 20.56627512649402, 20.737637462416696, 20.84473885502401, 20.84634570243611, 20.846574647812382, 20.850026936737688, 20.10369090584147, 20.315940295104173, 20.847642461363293, 20.235691883393873, 20.436086187523745, 20.287833818578985, 19.92447547656752]}, {\"categories\": [\"0\", \"1\", \"3\", \"5\", \"7\", \"10\", \"12\", \"15\", \"16\", \"20\", \"21\", \"22\", \"23\", \"24\", \"25\", \"26\"], \"mode\": \"lines\", \"name\": \"mean_absolute_percentage_error_min\", \"stepped\": true, \"type\": \"scatter\", \"data\": [26.724033230268702, 26.724033230268702, 21.240181548101422, 20.56627512649402, 20.56627512649402, 20.56627512649402, 20.56627512649402, 20.56627512649402, 20.56627512649402, 20.10369090584147, 20.10369090584147, 20.10369090584147, 20.10369090584147, 20.10369090584147, 20.10369090584147, 19.92447547656752]}], \"normalized_median_absolute_error\": [{\"categories\": [\"0\", \"1\", \"3\", \"5\", \"7\", \"10\", \"12\", \"15\", \"16\", \"20\", \"21\", \"22\", \"23\", \"24\", \"25\", \"26\"], \"mode\": \"markers\", \"name\": \"normalized_median_absolute_error\", \"stepped\": false, \"type\": \"scatter\", \"data\": [0.31906267625964585, 0.34599117792696615, 0.25321917066037725, 0.2420915416052801, 0.23921979715347166, 0.23912864943408044, 0.23915706067909434, 0.23915567120403583, 0.2391959340699693, 0.23140265441011376, 0.2335292948451931, 0.2392581973656993, 0.2284960630370713, 0.23677628939685094, 0.2365415436109163, 0.233179067005292]}, {\"categories\": [\"0\", \"1\", \"3\", \"5\", \"7\", \"10\", \"12\", \"15\", \"16\", \"20\", \"21\", \"22\", \"23\", \"24\", \"25\", \"26\"], \"mode\": \"lines\", \"name\": \"normalized_median_absolute_error_min\", \"stepped\": true, \"type\": \"scatter\", \"data\": [0.31906267625964585, 0.31906267625964585, 0.25321917066037725, 0.2420915416052801, 0.23921979715347166, 0.23912864943408044, 0.23912864943408044, 0.23912864943408044, 0.23912864943408044, 0.23140265441011376, 0.23140265441011376, 0.23140265441011376, 0.2284960630370713, 0.2284960630370713, 0.2284960630370713, 0.2284960630370713]}], \"r2_score\": [{\"categories\": [\"0\", \"1\", \"3\", \"5\", \"7\", \"10\", \"12\", \"15\", \"16\", \"20\", \"21\", \"22\", \"23\", \"24\", \"25\", \"26\"], \"mode\": \"markers\", \"name\": \"r2_score\", \"stepped\": false, \"type\": \"scatter\", \"data\": [-0.956562609990597, -1.0, -0.23426240222689532, -0.07164426528148578, -0.15853798405290576, -0.12423050800540587, -0.12427735056582352, -0.12430639717564351, -0.12451276065968897, -0.062331503155135026, -0.045916619367336375, -0.13859091841048776, -0.13287527970650123, -0.07215773557494254, -0.04630681720341675, -0.004322386166713284]}, {\"categories\": [\"0\", \"1\", \"3\", \"5\", \"7\", \"10\", \"12\", \"15\", \"16\", \"20\", \"21\", \"22\", \"23\", \"24\", \"25\", \"26\"], \"mode\": \"lines\", \"name\": \"r2_score_max\", \"stepped\": true, \"type\": \"scatter\", \"data\": [-0.956562609990597, -0.956562609990597, -0.23426240222689532, -0.07164426528148578, -0.07164426528148578, -0.07164426528148578, -0.07164426528148578, -0.07164426528148578, -0.07164426528148578, -0.062331503155135026, -0.045916619367336375, -0.045916619367336375, -0.045916619367336375, -0.045916619367336375, -0.045916619367336375, -0.004322386166713284]}], \"median_absolute_error\": [{\"categories\": [\"0\", \"1\", \"3\", \"5\", \"7\", \"10\", \"12\", \"15\", \"16\", \"20\", \"21\", \"22\", \"23\", \"24\", \"25\", \"26\"], \"mode\": \"markers\", \"name\": \"median_absolute_error\", \"stepped\": false, \"type\": \"scatter\", \"data\": [2973.6666666666665, 3337.3333333333335, 2624.9583333333335, 2654.825994651523, 2727.9430856971794, 2631.867809013486, 2633.324149825708, 2633.419170182531, 2634.8198876372608, 2658.217030347673, 2607.555907895406, 2442.8598412698416, 2487.8361995775354, 2696.7591459608816, 2603.9466364120844, 2645.3418044329114]}, {\"categories\": [\"0\", \"1\", \"3\", \"5\", \"7\", \"10\", \"12\", \"15\", \"16\", \"20\", \"21\", \"22\", \"23\", \"24\", \"25\", \"26\"], \"mode\": \"lines\", \"name\": \"median_absolute_error_min\", \"stepped\": true, \"type\": \"scatter\", \"data\": [2973.6666666666665, 2973.6666666666665, 2624.9583333333335, 2624.9583333333335, 2624.9583333333335, 2624.9583333333335, 2624.9583333333335, 2624.9583333333335, 2624.9583333333335, 2624.9583333333335, 2607.555907895406, 2442.8598412698416, 2442.8598412698416, 2442.8598412698416, 2442.8598412698416, 2442.8598412698416]}], \"explained_variance\": [{\"categories\": [\"0\", \"1\", \"3\", \"5\", \"7\", \"10\", \"12\", \"15\", \"16\", \"20\", \"21\", \"22\", \"23\", \"24\", \"25\", \"26\"], \"mode\": \"markers\", \"name\": \"explained_variance\", \"stepped\": false, \"type\": \"scatter\", \"data\": [-1.0814998611369508, -1.383210338132809, -0.2304601639065471, -0.04765223966291313, -0.1430241431801731, -0.11353454826951781, -0.11351639654849621, -0.11353527934756998, -0.11352671004652641, -0.05177130922486447, -0.028277955082316158, -0.1255039837296075, -0.12492821558211913, -0.06018182461061772, -0.029289755870371376, 0.018466228684718478]}, {\"categories\": [\"0\", \"1\", \"3\", \"5\", \"7\", \"10\", \"12\", \"15\", \"16\", \"20\", \"21\", \"22\", \"23\", \"24\", \"25\", \"26\"], \"mode\": \"lines\", \"name\": \"explained_variance_max\", \"stepped\": true, \"type\": \"scatter\", \"data\": [-1.0814998611369508, -1.0814998611369508, -0.2304601639065471, -0.04765223966291313, -0.04765223966291313, -0.04765223966291313, -0.04765223966291313, -0.04765223966291313, -0.04765223966291313, -0.04765223966291313, -0.028277955082316158, -0.028277955082316158, -0.028277955082316158, -0.028277955082316158, -0.028277955082316158, 0.018466228684718478]}]}, \"metricName\": null, \"primaryMetricName\": \"normalized_root_mean_squared_error\", \"showLegend\": false}, \"run_metrics\": [{\"name\": \"experiment_status\", \"run_id\": \"AutoML_8204a1cc-9200-47ae-bbe3-ff16db38500f\", \"categories\": [0, 1, 2, 3, 4, 5, 6, 7, 8, 9, 10, 11, 12, 13, 14, 15, 16, 17], \"series\": [{\"data\": [\"DatasetFeaturization\", \"DatasetFeaturizationCompleted\", \"DatasetCrossValidationSplit\", \"DatasetFeaturization\", \"DatasetFeaturizationCompleted\", \"DatasetFeaturization\", \"DatasetFeaturizationCompleted\", \"DatasetFeaturization\", \"DatasetFeaturizationCompleted\", \"ModelSelection\", \"BestRunExplainModel\", \"ModelExplanationDataSetSetup\", \"PickSurrogateModel\", \"EngineeredFeatureExplanations\", \"EngineeredFeatureExplanations\", \"RawFeaturesExplanations\", \"RawFeaturesExplanations\", \"BestRunExplainModel\"]}]}, {\"name\": \"experiment_status_description\", \"run_id\": \"AutoML_8204a1cc-9200-47ae-bbe3-ff16db38500f\", \"categories\": [0, 1, 2, 3, 4, 5, 6, 7, 8, 9, 10, 11, 12, 13, 14, 15, 16, 17], \"series\": [{\"data\": [\"Beginning to featurize the dataset.\", \"Completed featurizing the dataset.\", \"Generating individually featurized CV splits.\", \"Beginning to featurize the CV split.\", \"Completed featurizing the CV split.\", \"Beginning to featurize the CV split.\", \"Completed featurizing the CV split.\", \"Beginning to featurize the CV split.\", \"Completed featurizing the CV split.\", \"Beginning model selection.\", \"Best run model explanations started\", \"Model explanations data setup completed\", \"Choosing LightGBM as the surrogate model for explanations\", \"Computation of engineered features started\", \"Computation of engineered features completed\", \"Computation of raw features started\", \"Computation of raw features completed\", \"Best run model explanations completed\"]}]}, {\"name\": \"r2_score\", \"run_id\": \"AutoML_8204a1cc-9200-47ae-bbe3-ff16db38500f\", \"categories\": [0], \"series\": [{\"data\": [-0.004322386166713284]}]}, {\"name\": \"normalized_median_absolute_error\", \"run_id\": \"AutoML_8204a1cc-9200-47ae-bbe3-ff16db38500f\", \"categories\": [0], \"series\": [{\"data\": [0.233179067005292]}]}, {\"name\": \"normalized_mean_absolute_error\", \"run_id\": \"AutoML_8204a1cc-9200-47ae-bbe3-ff16db38500f\", \"categories\": [0], \"series\": [{\"data\": [0.23934111972727648]}]}, {\"name\": \"mean_absolute_percentage_error\", \"run_id\": \"AutoML_8204a1cc-9200-47ae-bbe3-ff16db38500f\", \"categories\": [0], \"series\": [{\"data\": [19.92447547656752]}]}, {\"name\": \"mean_absolute_error\", \"run_id\": \"AutoML_8204a1cc-9200-47ae-bbe3-ff16db38500f\", \"categories\": [0], \"series\": [{\"data\": [2590.5682082954204]}]}, {\"name\": \"spearman_correlation\", \"run_id\": \"AutoML_8204a1cc-9200-47ae-bbe3-ff16db38500f\", \"categories\": [0], \"series\": [{\"data\": [0.11731036398999724]}]}, {\"name\": \"root_mean_squared_log_error\", \"run_id\": \"AutoML_8204a1cc-9200-47ae-bbe3-ff16db38500f\", \"categories\": [0], \"series\": [{\"data\": [0.2234456480512618]}]}, {\"name\": \"normalized_root_mean_squared_log_error\", \"run_id\": \"AutoML_8204a1cc-9200-47ae-bbe3-ff16db38500f\", \"categories\": [0], \"series\": [{\"data\": [0.27973580169817625]}]}, {\"name\": \"root_mean_squared_error\", \"run_id\": \"AutoML_8204a1cc-9200-47ae-bbe3-ff16db38500f\", \"categories\": [0], \"series\": [{\"data\": [3047.0434747268177]}]}, {\"name\": \"median_absolute_error\", \"run_id\": \"AutoML_8204a1cc-9200-47ae-bbe3-ff16db38500f\", \"categories\": [0], \"series\": [{\"data\": [2645.3418044329114]}]}, {\"name\": \"normalized_root_mean_squared_error\", \"run_id\": \"AutoML_8204a1cc-9200-47ae-bbe3-ff16db38500f\", \"categories\": [0], \"series\": [{\"data\": [0.27738352112528536]}]}, {\"name\": \"explained_variance\", \"run_id\": \"AutoML_8204a1cc-9200-47ae-bbe3-ff16db38500f\", \"categories\": [0], \"series\": [{\"data\": [0.018466228684718478]}]}], \"run_logs\": \"\\nRun is completed.\", \"graph\": {}, \"widget_settings\": {\"childWidgetDisplay\": \"popup\", \"send_telemetry\": false, \"log_level\": \"INFO\", \"sdk_version\": \"1.51.0\"}, \"loading\": false}"
     },
     "metadata": {},
     "output_type": "display_data"
    }
   ],
   "source": [
    "run_configuration = AutoMLConfig(task = 'forecasting', primary_metric = 'normalized_root_mean_squared_error', featurization = 'auto',\n",
    "                                 compute_target = compute_target, training_data = oj_sales_dataset, label_column_name = 'Quantity',\n",
    "                                 experiment_timeout_minutes = 15, enable_early_stopping = True, n_cross_validations = 3, \n",
    "                                 model_explainability = True, enable_stack_ensemble = False, enable_voting_ensemble = True,\n",
    "                                 forecasting_parameters = standard_params)\n",
    "\n",
    "AutoML_run_standard = experiment.submit(run_configuration, show_output = True)\n",
    "RunDetails(AutoML_run_standard).show()"
   ]
  },
  {
   "cell_type": "markdown",
   "id": "1b59dddf",
   "metadata": {},
   "source": [
    "## Using Prophet & ARIMA"
   ]
  },
  {
   "cell_type": "code",
   "execution_count": 13,
   "id": "cf8fb485",
   "metadata": {},
   "outputs": [],
   "source": [
    "ARIMA_params = ForecastingParameters.from_parameters_dict(\n",
    "    {\n",
    "        'country_or_region_for_holidays': None, 'drop_column_names': ['Revenue', 'Price', 'Advert'], \n",
    "        'forecast_horizon': 6, 'target_rolling_window_size': None, 'target_lags': None, 'feature_lags': None, \n",
    "        'seasonlity': 'auto', 'short_series_handling': True, 'use_stl': 'season_trend', \n",
    "        'time_column_name': 'WeekStarting', 'time_series_id_column_names': ['Store', 'Brand'], \n",
    "        'short_series_handling_configuration': 'auto'\n",
    "    }, validate_params = True)"
   ]
  },
  {
   "cell_type": "code",
   "execution_count": 14,
   "id": "19ec69e6",
   "metadata": {
    "scrolled": false
   },
   "outputs": [
    {
     "name": "stdout",
     "output_type": "stream",
     "text": [
      "Submitting remote run.\n",
      "No run_configuration provided, running on automl-cluster with default configuration\n",
      "Running on remote compute: automl-cluster\n"
     ]
    },
    {
     "data": {
      "text/html": [
       "<table style=\"width:100%\"><tr><th>Experiment</th><th>Id</th><th>Type</th><th>Status</th><th>Details Page</th><th>Docs Page</th></tr><tr><td>OJ-Sales-Forecasting</td><td>AutoML_28d9ced5-087e-4990-9384-114e83c36732</td><td>automl</td><td>NotStarted</td><td><a href=\"https://ml.azure.com/runs/AutoML_28d9ced5-087e-4990-9384-114e83c36732?wsid=/subscriptions/0c19fc19-85fd-4aa4-b133-61dd20fa93df/resourcegroups/edwin.spartan117-rg/workspaces/auotml-example-workspace&amp;tid=c5f4b1c2-b533-4788-b1c5-99d0f10fb9b6\" target=\"_blank\" rel=\"noopener\">Link to Azure Machine Learning studio</a></td><td><a href=\"https://docs.microsoft.com/en-us/python/api/overview/azure/ml/intro?view=azure-ml-py\" target=\"_blank\" rel=\"noopener\">Link to Documentation</a></td></tr></table>"
      ]
     },
     "metadata": {},
     "output_type": "display_data"
    },
    {
     "name": "stdout",
     "output_type": "stream",
     "text": [
      "\n",
      "Current status: DatasetFeaturization. Beginning to featurize the CV split.\n",
      "Current status: ModelSelection. Beginning model selection.\n",
      "\n",
      "********************************************************************************************\n",
      "DATA GUARDRAILS: \n",
      "\n",
      "TYPE:         Time Series ID detection\n",
      "STATUS:       PASSED\n",
      "DESCRIPTION:  The data set was analyzed, and no duplicate time index were detected.\n",
      "              Learn more about time-series forecasting configurations: https://aka.ms/AutomatedMLForecastingConfiguration\n",
      "\n",
      "********************************************************************************************\n",
      "\n",
      "TYPE:         Frequency detection\n",
      "STATUS:       PASSED\n",
      "DESCRIPTION:  The time series was analyzed, all data points are aligned with detected frequency.\n",
      "              Learn more about data preparation for time-series forecasting: https://aka.ms/AutomatedMLDataPreparation\n",
      "\n",
      "********************************************************************************************\n",
      "\n",
      "TYPE:         Non-stationarity time series detection and handling\n",
      "STATUS:       PASSED\n",
      "DESCRIPTION:  The data set was analyzed and passed stationarity checks.\n",
      "              \n",
      "\n",
      "********************************************************************************************\n",
      "\n",
      "TYPE:         Missing feature values imputation\n",
      "STATUS:       PASSED\n",
      "DESCRIPTION:  No feature missing values were detected in the training data.\n",
      "              Learn more about missing value imputation: https://aka.ms/AutomatedMLFeaturization\n",
      "\n",
      "********************************************************************************************\n",
      "\n",
      "TYPE:         Short series handling\n",
      "STATUS:       PASSED\n",
      "DESCRIPTION:  Automated ML detected enough data points for each series in the input data to continue with training.\n",
      "              Learn more about short series handling: https://aka.ms/AutomatedMLShortSeriesHandling\n",
      "\n",
      "********************************************************************************************\n",
      "\n",
      "TYPE:         Automatic cross validation\n",
      "STATUS:       DONE\n",
      "DESCRIPTION:  Cross validation parameter(s) were automatically set for your dataset.\n",
      "              Learn more about time-series forecasting configurations: https://aka.ms/AutomatedMLForecastingConfiguration\n",
      "DETAILS:      If n_cross_validations and/or cv_step_size is not specified, Automated ML will determine those cross validation parameters automatically for you.\n",
      "+----------------------------------------------------------------+\n",
      "|Number of periods between two consecutive cross validation folds|\n",
      "+================================================================+\n",
      "|5                                                               |\n",
      "+----------------------------------------------------------------+\n",
      "\n",
      "********************************************************************************************\n",
      "\n",
      "********************************************************************************************\n",
      "ITER: The iteration being evaluated.\n",
      "PIPELINE: A summary description of the pipeline being evaluated.\n",
      "DURATION: Time taken for the current iteration.\n",
      "METRIC: The result of computing score on the fitted pipeline.\n",
      "BEST: The best observed score thus far.\n",
      "********************************************************************************************\n",
      "\n",
      " ITER   PIPELINE                                       DURATION            METRIC      BEST\n",
      "    0    Naive                                         0:00:13             0.3879    0.3879\n",
      "    1    SeasonalNaive                                 0:00:11             0.4197    0.3879\n",
      "    2    Average                                       0:00:10             0.2804    0.2804\n",
      "    3    SeasonalAverage                               0:00:10             0.3003    0.2804\n",
      "    4    ExponentialSmoothing                          0:01:12             0.2807    0.2804\n",
      "    5    AutoArima                                     0:00:29             0.2802    0.2802\n",
      "    6    ProphetModel                                  0:00:22             0.2895    0.2802\n",
      "    7   StandardScalerWrapper LightGBM                 0:00:11             0.3039    0.2802\n",
      "    8   StandardScalerWrapper XGBoostRegressor         0:00:11             0.3380    0.2802\n",
      "    9   MaxAbsScaler ElasticNet                        0:00:11             0.2898    0.2802\n",
      "   10   RobustScaler ElasticNet                        0:00:10             0.2926    0.2802\n",
      "   11   MinMaxScaler ElasticNet                        0:00:10             0.2925    0.2802\n",
      "   12   StandardScalerWrapper ElasticNet               0:00:10             0.2926    0.2802\n",
      "   13   MinMaxScaler RandomForest                      0:00:11             0.2910    0.2802\n",
      "   14   MaxAbsScaler ElasticNet                        0:00:11             0.2909    0.2802\n",
      "   15   StandardScalerWrapper ElasticNet               0:00:10             0.2926    0.2802\n",
      "   16   MaxAbsScaler ElasticNet                        0:00:10             0.2927    0.2802\n",
      "   17   StandardScalerWrapper ElasticNet               0:00:10             0.2926    0.2802\n",
      "   18   MinMaxScaler ExtremeRandomTrees                0:00:11             0.2824    0.2802\n",
      "   19   MinMaxScaler RandomForest                      0:00:11             0.2928    0.2802\n",
      "   20   MinMaxScaler ExtremeRandomTrees                0:00:29             0.2854    0.2802\n",
      "   21   MinMaxScaler ExtremeRandomTrees                0:00:28             0.2819    0.2802\n",
      "   22   MaxAbsScaler ExtremeRandomTrees                0:00:28             0.3007    0.2802\n",
      "   23   MinMaxScaler DecisionTree                      0:00:28             0.2922    0.2802\n",
      "   24   RobustScaler ExtremeRandomTrees                0:00:28             0.2848    0.2802\n",
      "   25   StandardScalerWrapper ExtremeRandomTrees       0:00:29             0.2822    0.2802\n",
      "   26   RobustScaler DecisionTree                      0:00:29             0.2942    0.2802\n",
      "   27   StandardScalerWrapper RandomForest             0:00:28             0.2849    0.2802\n",
      "   28   StandardScalerWrapper ExtremeRandomTrees       0:00:29             0.2822    0.2802\n",
      "   29   StandardScalerWrapper RandomForest             0:00:28             0.2886    0.2802\n",
      "   30    VotingEnsemble                                0:00:45             0.2776    0.2776\n"
     ]
    },
    {
     "data": {
      "application/vnd.jupyter.widget-view+json": {
       "model_id": "cbc330fcf72f47bfbd9b282c2f5968be",
       "version_major": 2,
       "version_minor": 0
      },
      "text/plain": [
       "_AutoMLWidget(widget_settings={'childWidgetDisplay': 'popup', 'send_telemetry': False, 'log_level': 'INFO', 's…"
      ]
     },
     "metadata": {},
     "output_type": "display_data"
    },
    {
     "data": {
      "application/aml.mini.widget.v1": "{\"status\": \"Completed\", \"workbench_run_details_uri\": \"https://ml.azure.com/runs/AutoML_28d9ced5-087e-4990-9384-114e83c36732?wsid=/subscriptions/0c19fc19-85fd-4aa4-b133-61dd20fa93df/resourcegroups/edwin.spartan117-rg/workspaces/auotml-example-workspace&tid=c5f4b1c2-b533-4788-b1c5-99d0f10fb9b6\", \"run_id\": \"AutoML_28d9ced5-087e-4990-9384-114e83c36732\", \"run_properties\": {\"run_id\": \"AutoML_28d9ced5-087e-4990-9384-114e83c36732\", \"created_utc\": \"2023-11-16T09:12:20.233112Z\", \"properties\": {\"num_iterations\": \"1000\", \"training_type\": \"TrainFull\", \"acquisition_function\": \"EI\", \"primary_metric\": \"normalized_root_mean_squared_error\", \"train_split\": \"0\", \"acquisition_parameter\": \"0\", \"num_cross_validation\": \"3\", \"target\": \"automl-cluster\", \"AMLSettingsJsonString\": \"{\\\"path\\\":null,\\\"name\\\":\\\"OJ-Sales-Forecasting\\\",\\\"subscription_id\\\":\\\"0c19fc19-85fd-4aa4-b133-61dd20fa93df\\\",\\\"resource_group\\\":\\\"edwin.spartan117-rg\\\",\\\"workspace_name\\\":\\\"auotml-example-workspace\\\",\\\"region\\\":\\\"southeastasia\\\",\\\"compute_target\\\":\\\"automl-cluster\\\",\\\"spark_service\\\":null,\\\"azure_service\\\":\\\"remote\\\",\\\"many_models\\\":false,\\\"pipeline_fetch_max_batch_size\\\":1,\\\"enable_batch_run\\\":true,\\\"enable_parallel_run\\\":false,\\\"num_procs\\\":null,\\\"enable_run_restructure\\\":false,\\\"start_auxiliary_runs_before_parent_complete\\\":false,\\\"enable_code_generation\\\":true,\\\"iterations\\\":1000,\\\"primary_metric\\\":\\\"normalized_root_mean_squared_error\\\",\\\"task_type\\\":\\\"regression\\\",\\\"positive_label\\\":null,\\\"data_script\\\":null,\\\"test_size\\\":0.0,\\\"test_include_predictions_only\\\":false,\\\"validation_size\\\":0.0,\\\"n_cross_validations\\\":3,\\\"y_min\\\":null,\\\"y_max\\\":null,\\\"num_classes\\\":null,\\\"featurization\\\":\\\"auto\\\",\\\"_ignore_package_version_incompatibilities\\\":false,\\\"is_timeseries\\\":true,\\\"max_cores_per_iteration\\\":1,\\\"max_concurrent_iterations\\\":1,\\\"iteration_timeout_minutes\\\":null,\\\"mem_in_mb\\\":null,\\\"enforce_time_on_windows\\\":false,\\\"experiment_timeout_minutes\\\":30,\\\"experiment_exit_score\\\":null,\\\"partition_column_names\\\":null,\\\"whitelist_models\\\":null,\\\"blacklist_algos\\\":[\\\"TensorFlowDNN\\\",\\\"TensorFlowLinearRegressor\\\"],\\\"supported_models\\\":[\\\"LassoLars\\\",\\\"Prophet\\\",\\\"TensorFlowLinearRegressor\\\",\\\"AutoArima\\\",\\\"TCNForecaster\\\",\\\"KNN\\\",\\\"RandomForest\\\",\\\"XGBoostRegressor\\\",\\\"Arimax\\\",\\\"SeasonalAverage\\\",\\\"Average\\\",\\\"ExtremeRandomTrees\\\",\\\"TensorFlowDNN\\\",\\\"Naive\\\",\\\"ExponentialSmoothing\\\",\\\"LightGBM\\\",\\\"SGD\\\",\\\"ElasticNet\\\",\\\"SeasonalNaive\\\",\\\"GradientBoosting\\\",\\\"DecisionTree\\\",\\\"TabnetRegressor\\\"],\\\"private_models\\\":[],\\\"auto_blacklist\\\":true,\\\"blacklist_samples_reached\\\":false,\\\"exclude_nan_labels\\\":true,\\\"verbosity\\\":20,\\\"_debug_log\\\":\\\"azureml_automl.log\\\",\\\"show_warnings\\\":false,\\\"model_explainability\\\":true,\\\"service_url\\\":null,\\\"sdk_url\\\":null,\\\"sdk_packages\\\":null,\\\"enable_onnx_compatible_models\\\":false,\\\"enable_split_onnx_featurizer_estimator_models\\\":false,\\\"vm_type\\\":\\\"STANDARD_DS3_V2\\\",\\\"telemetry_verbosity\\\":20,\\\"send_telemetry\\\":true,\\\"enable_dnn\\\":false,\\\"scenario\\\":\\\"AutoML\\\",\\\"environment_label\\\":null,\\\"save_mlflow\\\":false,\\\"enable_categorical_indicators\\\":false,\\\"force_text_dnn\\\":false,\\\"enable_feature_sweeping\\\":false,\\\"time_column_name\\\":\\\"WeekStarting\\\",\\\"grain_column_names\\\":[\\\"Store\\\",\\\"Brand\\\"],\\\"drop_column_names\\\":[\\\"Revenue\\\",\\\"Price\\\",\\\"Advert\\\"],\\\"max_horizon\\\":6,\\\"dropna\\\":false,\\\"overwrite_columns\\\":true,\\\"transform_dictionary\\\":{\\\"min\\\":\\\"_automl_target_col\\\",\\\"max\\\":\\\"_automl_target_col\\\",\\\"mean\\\":\\\"_automl_target_col\\\"},\\\"window_size\\\":null,\\\"country_or_region\\\":null,\\\"lags\\\":null,\\\"feature_lags\\\":null,\\\"seasonality\\\":\\\"auto\\\",\\\"use_stl\\\":\\\"season_trend\\\",\\\"short_series_handling\\\":true,\\\"freq\\\":null,\\\"short_series_handling_configuration\\\":\\\"auto\\\",\\\"target_aggregation_function\\\":null,\\\"cv_step_size\\\":\\\"auto\\\",\\\"has_multiple_series\\\":true,\\\"enable_early_stopping\\\":true,\\\"early_stopping_n_iters\\\":10,\\\"arguments\\\":null,\\\"dataset_id\\\":\\\"88e9fe44-558f-4d06-8d32-150e831757e0\\\",\\\"hyperdrive_config\\\":null,\\\"validation_dataset_id\\\":null,\\\"run_source\\\":null,\\\"metrics\\\":null,\\\"enable_metric_confidence\\\":false,\\\"enable_ensembling\\\":true,\\\"enable_stack_ensembling\\\":false,\\\"ensemble_iterations\\\":15,\\\"enable_tf\\\":false,\\\"enable_subsampling\\\":false,\\\"subsample_seed\\\":null,\\\"enable_nimbusml\\\":false,\\\"enable_streaming\\\":false,\\\"force_streaming\\\":false,\\\"track_child_runs\\\":true,\\\"n_best_runs\\\":1,\\\"allowed_private_models\\\":[],\\\"label_column_name\\\":\\\"Quantity\\\",\\\"weight_column_name\\\":null,\\\"cv_split_column_names\\\":null,\\\"enable_local_managed\\\":false,\\\"_local_managed_run_id\\\":null,\\\"cost_mode\\\":1,\\\"lag_length\\\":0,\\\"metric_operation\\\":\\\"minimize\\\",\\\"preprocess\\\":true}\", \"DataPrepJsonString\": \"{\\\\\\\"training_data\\\\\\\": {\\\\\\\"datasetId\\\\\\\": \\\\\\\"88e9fe44-558f-4d06-8d32-150e831757e0\\\\\\\"}, \\\\\\\"datasets\\\\\\\": 0}\", \"EnableSubsampling\": \"False\", \"runTemplate\": \"AutoML\", \"azureml.runsource\": \"automl\", \"display_task_type\": \"forecasting\", \"dependencies_versions\": \"{\\\"azureml-dataprep-native\\\": \\\"38.0.0\\\", \\\"azureml-dataprep\\\": \\\"4.10.8\\\", \\\"azureml-dataprep-rslex\\\": \\\"2.17.12\\\", \\\"azureml-train-automl-runtime\\\": \\\"1.51.0.post2\\\", \\\"azureml-train-automl-client\\\": \\\"1.51.0.post1\\\", \\\"azureml-training-tabular\\\": \\\"1.51.0.post1\\\", \\\"azureml-automl-runtime\\\": \\\"1.51.0.post1\\\", \\\"azureml-automl-core\\\": \\\"1.51.0.post1\\\", \\\"azureml-mlflow\\\": \\\"1.51.0\\\", \\\"azureml-datadrift\\\": \\\"1.51.0\\\", \\\"azureml-pipeline\\\": \\\"1.51.0\\\", \\\"azureml-contrib-dataset\\\": \\\"1.51.0\\\", \\\"azureml-contrib-notebook\\\": \\\"1.51.0\\\", \\\"azureml-accel-models\\\": \\\"1.51.0\\\", \\\"azureml-automl-dnn-nlp\\\": \\\"1.51.0\\\", \\\"azureml-pipeline-core\\\": \\\"1.51.0\\\", \\\"azureml-responsibleai\\\": \\\"1.51.0\\\", \\\"azureml-contrib-automl-pipeline-steps\\\": \\\"1.51.0\\\", \\\"azureml-pipeline-steps\\\": \\\"1.51.0\\\", \\\"azureml-core\\\": \\\"1.51.0\\\", \\\"azureml-contrib-reinforcementlearning\\\": \\\"1.51.0\\\", \\\"azureml-contrib-server\\\": \\\"1.51.0\\\", \\\"azureml-opendatasets\\\": \\\"1.51.0\\\", \\\"azureml-contrib-services\\\": \\\"1.51.0\\\", \\\"azureml-telemetry\\\": \\\"1.51.0\\\", \\\"azureml-train-restclients-hyperdrive\\\": \\\"1.51.0\\\", \\\"azureml-interpret\\\": \\\"1.51.0\\\", \\\"azureml-train-core\\\": \\\"1.51.0\\\", \\\"azureml-tensorboard\\\": \\\"1.51.0\\\", \\\"azureml-train\\\": \\\"1.51.0\\\", \\\"azureml-contrib-pipeline-steps\\\": \\\"1.51.0\\\", \\\"azureml-explain-model\\\": \\\"1.51.0\\\", \\\"azureml-cli-common\\\": \\\"1.51.0\\\", \\\"azureml-widgets\\\": \\\"1.51.0\\\", \\\"azureml-train-automl\\\": \\\"1.51.0\\\", \\\"azureml-defaults\\\": \\\"1.51.0\\\", \\\"azureml-contrib-fairness\\\": \\\"1.51.0\\\", \\\"azureml-sdk\\\": \\\"1.51.0\\\", \\\"azureml-dataset-runtime\\\": \\\"1.51.0\\\", \\\"azureml-inference-server-http\\\": \\\"0.8.4\\\"}\", \"_aml_system_scenario_identification\": \"Remote.Parent\", \"ClientType\": \"SDK\", \"PlatformVersion\": \"DPV1\", \"environment_cpu_name\": \"AzureML-AutoML\", \"environment_cpu_label\": \"scikit-upgrade2\", \"environment_gpu_name\": \"AzureML-AutoML-GPU\", \"environment_gpu_label\": \"scikit-upgrade2\", \"root_attribution\": \"automl\", \"attribution\": \"AutoML\", \"Orchestrator\": \"AutoML\", \"CancelUri\": \"https://southeastasia.api.azureml.ms/jasmine/v1.0/subscriptions/0c19fc19-85fd-4aa4-b133-61dd20fa93df/resourceGroups/edwin.spartan117-rg/providers/Microsoft.MachineLearningServices/workspaces/auotml-example-workspace/experimentids/86445060-28f6-4b43-952a-b39feca11a74/cancel/AutoML_28d9ced5-087e-4990-9384-114e83c36732\", \"ClientSdkVersion\": null, \"snapshotId\": \"00000000-0000-0000-0000-000000000000\", \"SetupRunId\": \"AutoML_28d9ced5-087e-4990-9384-114e83c36732_setup\", \"SetupRunContainerId\": \"dcid.AutoML_28d9ced5-087e-4990-9384-114e83c36732_setup\", \"forecasting_target_lags\": \"[0]\", \"forecasting_target_rolling_window_size\": \"0\", \"forecasting_max_horizon\": \"6\", \"forecasting_freq\": \"W-THU\", \"ProblemInfoJsonString\": \"{\\\"dataset_num_categorical\\\": 0, \\\"is_sparse\\\": false, \\\"subsampling\\\": false, \\\"has_extra_col\\\": false, \\\"dataset_classes\\\": 1140, \\\"dataset_features\\\": 11, \\\"dataset_samples\\\": 1210, \\\"single_frequency_class_detected\\\": false, \\\"series_column_count\\\": 2, \\\"series_count\\\": 10, \\\"series_len_min\\\": 121, \\\"series_len_max\\\": 121, \\\"series_len_avg\\\": 121.0, \\\"series_len_perc_25\\\": 121.0, \\\"series_len_perc_50\\\": 121.0, \\\"series_len_perc_75\\\": 121.0}\", \"ModelExplainRunId\": \"AutoML_28d9ced5-087e-4990-9384-114e83c36732_ModelExplain\"}, \"tags\": {\"model_explain_run\": \"best_run\", \"_aml_system_automl_run_workspace_id\": \"080e5758-0b91-49eb-ac97-661db0f2b2eb\", \"_aml_system_azureml.automlComponent\": \"AutoML\", \"pipeline_id_000\": \"__AutoML_Naive__;__AutoML_SeasonalNaive__;__AutoML_Average__;__AutoML_SeasonalAverage__;__AutoML_ExponentialSmoothing__;__AutoML_AutoArima__;__AutoML_Prophet__;faf12f74cf9bbd358ca5525682c5030d36f7be7c;4bc4ec47eb8df2d5d68b361cd60120e65196f757;2dc95d8bafd84221b8de309021c722b4fa570e77;25f83b241b8941c8c1f896a8338015dbab159f71;1ee8bbdda30f414fb76bee47d543cd5e109dcdf8;86f7c6ce026522eff88f32e647e3e27450da2679;6ea29a0b9fd1f634678397a456aaf8d4d853f689;7839ca66a0ff9be386363c852f0384a7b2a1c93f;4379608887dc335ce8c4ec4afbec7da03177d166;ae729f09378486945c70eb2a2306f8aa8f4e30a7;13907c2227a8ccd337dcfb9775a6091b777331e0;7b7eb05148aedbc9f680e7533de408ae512d737a;65d7c43a91915b98bea837d39e652767814c8983;480f8271b09711d8daebb36454a153b84ef1254e;e647a57da02d25aba6061b72d5df7283520175ad;b5f35f573ce4f6e8526176d4e0932b5193598307;3840ebb82b060782c0c1aaabbe352751ed0cb999;1f8577810e0ef1b58bfcf0cc67c0115f13247d60;221f78ec666d4b1d460391d52f75942aefd7a9ce;322472bb82968b4f37e85efa3a44571fd0e0a889;9f85195d2e27cf1becfe0fb8f9586381f62892ea;3d9a2248c135c490619b6ac8cb098efc3e5cedf5;54c480aa58b16f7be3f45bbac3b18b96e06716a2;__AutoML_Ensemble__\", \"score_000\": \"0.38785548558348415;0.41965798087781064;0.2804037502151941;0.30029903565313676;0.2807462058420359;0.2801741186672631;0.28945597350335067;0.30386434628213405;0.33803217965232424;0.2898044096338947;0.29262808667405743;0.2925438787339154;0.292634558185727;0.2910485271595519;0.29091603667911364;0.2926375782077314;0.29267253429360024;0.2926344385490656;0.28235038841767696;0.2928409190548454;0.2853742289269992;0.2818595169573122;0.3007000318451207;0.29216489283136443;0.2848242748167999;0.28215408540492126;0.29418205185390556;0.28491030576038906;0.2821719649230596;0.2886187794204422;0.27755083329054386\", \"predicted_cost_000\": \"0;0;0;0;0;0;0;0.5;0.5;0.5;0.5;0.5;0.5;0.5;0.5;0.5;0.5;0.5;0.5;0.5;0.06736743085025354;0.030946392966439494;0.036208131168610304;0.0020193376304542686;0.04419603426949392;0.07053435140990935;0.0016565283371735692;0.02510319110410834;0.03067289685206962;0.024767128435937147;0\", \"fit_time_000\": \"0.075554;0.075764;0.07530166666666667;0.077265;15.267498333333334;4.57161;3.022736666666667;0.06275433333333333;0.12867499999999998;0.009400666666666667;0.008062666666666666;0.008298666666666668;0.007456333333333333;0.04647566666666667;0.010406;0.007255333333333333;0.010166999999999999;0.007130666666666667;0.04237066666666667;0.07766433333333332;0.06381533333333334;0.027482333333333334;0.020786;0.004984666666666666;0.01762733333333333;0.054359;0.005103333333333332;0.017822333333333332;0.208994;0.04366366666666666;12\", \"training_percent_000\": \"100;100;100;100;100;100;100;100;100;100;100;100;100;100;100;100;100;100;100;100;100;100;100;100;100;100;100;100;100;100;100\", \"iteration_000\": \"0;1;2;3;4;5;6;7;8;9;10;11;12;13;14;15;16;17;18;19;20;21;22;23;24;25;26;27;28;29;30\", \"run_preprocessor_000\": \";;;;;;;StandardScalerWrapper;StandardScalerWrapper;MaxAbsScaler;RobustScaler;MinMaxScaler;StandardScalerWrapper;MinMaxScaler;MaxAbsScaler;StandardScalerWrapper;MaxAbsScaler;StandardScalerWrapper;MinMaxScaler;MinMaxScaler;MinMaxScaler;MinMaxScaler;MaxAbsScaler;MinMaxScaler;RobustScaler;StandardScalerWrapper;RobustScaler;StandardScalerWrapper;StandardScalerWrapper;StandardScalerWrapper;\", \"run_algorithm_000\": \"Naive;SeasonalNaive;Average;SeasonalAverage;ExponentialSmoothing;AutoArima;ProphetModel;LightGBM;XGBoostRegressor;ElasticNet;ElasticNet;ElasticNet;ElasticNet;RandomForest;ElasticNet;ElasticNet;ElasticNet;ElasticNet;ExtremeRandomTrees;RandomForest;ExtremeRandomTrees;ExtremeRandomTrees;ExtremeRandomTrees;DecisionTree;ExtremeRandomTrees;ExtremeRandomTrees;DecisionTree;RandomForest;ExtremeRandomTrees;RandomForest;VotingEnsemble\", \"dynamic_allowlisting_iterations\": \"<25>;\", \"_aml_system_azureml.automl_early_exit_message\": \"No scores improved over last 10 iterations, so experiment stopped early. This early stopping behavior can be disabled by setting enable_early_stopping = False in AutoMLConfig for notebook/python SDK runs.\", \"automl_best_child_run_id\": \"AutoML_28d9ced5-087e-4990-9384-114e83c36732_30\", \"model_explain_best_run_child_id\": \"AutoML_28d9ced5-087e-4990-9384-114e83c36732_30\"}, \"end_time_utc\": \"2023-11-16T09:32:11.980247Z\", \"status\": \"Completed\", \"log_files\": {}, \"log_groups\": [], \"run_duration\": \"0:19:51\", \"run_number\": \"1700125940\", \"run_queued_details\": {\"status\": \"Completed\", \"details\": null}}, \"child_runs\": [{\"run_id\": \"AutoML_28d9ced5-087e-4990-9384-114e83c36732_setup\", \"run_number\": 1700125952, \"metric\": null, \"status\": \"Completed\", \"run_type\": \"azureml.scriptrun\", \"training_percent\": null, \"start_time\": \"2023-11-16T09:12:59.953533Z\", \"end_time\": \"2023-11-16T09:13:34.165836Z\", \"created_time\": \"2023-11-16T09:12:32.465959Z\", \"created_time_dt\": \"2023-11-16T09:12:32.465959Z\", \"duration\": \"0:01:01\", \"iteration\": null, \"goal\": null, \"run_name\": \"Completed\", \"run_properties\": null}, {\"run_id\": \"AutoML_28d9ced5-087e-4990-9384-114e83c36732_0\", \"run_number\": 1700126015, \"metric\": null, \"status\": \"Completed\", \"run_type\": null, \"training_percent\": \"100\", \"start_time\": \"2023-11-16T09:14:12.754284Z\", \"end_time\": \"2023-11-16T09:14:25.895946Z\", \"created_time\": \"2023-11-16T09:13:35.402167Z\", \"created_time_dt\": \"2023-11-16T09:13:35.402167Z\", \"duration\": \"0:00:50\", \"iteration\": \"0\", \"goal\": \"normalized_root_mean_squared_error_min\", \"run_name\": \"Naive\", \"run_properties\": \"timeseries_param_dict={'time_column_name': 'WeekStarting', 'grain_column_names': ['Store', 'Brand'], 'target_column_name': 'Quantity', 'drop_column_names': ['Revenue', 'Advert', 'Price'], 'overwrite_columns': True, 'dropna': False, 'transform_dictionary': {'min': '_automl_target_col', 'max': '_automl_target_col', 'mean': '_automl_target_col'}, 'max_horizon': 6, 'origin_time_colname': 'origin', 'country_or_region': None, 'n_cross_validations': 3, 'short_series_handling': True, 'max_cores_per_iteration': 1, 'feature_lags': None, 'target_aggregation_function': None, 'cv_step_size': 5, 'seasonality': 4, 'use_stl': 'season_trend', 'freq': 'W-THU', 'short_series_handling_configuration': 'auto', 'target_lags': [0], 'target_rolling_window_size': 0, 'arimax_raw_columns': ['Brand', 'WeekStarting', 'Store']}\", \"primary_metric\": 0.38785549, \"best_metric\": 0.38785549}, {\"run_id\": \"AutoML_28d9ced5-087e-4990-9384-114e83c36732_2\", \"run_number\": 1700126016, \"metric\": null, \"status\": \"Completed\", \"run_type\": null, \"training_percent\": \"100\", \"start_time\": \"2023-11-16T09:14:38.247533Z\", \"end_time\": \"2023-11-16T09:14:48.507293Z\", \"created_time\": \"2023-11-16T09:13:36.327386Z\", \"created_time_dt\": \"2023-11-16T09:13:36.327386Z\", \"duration\": \"0:01:12\", \"iteration\": \"2\", \"goal\": \"normalized_root_mean_squared_error_min\", \"run_name\": \"Average\", \"run_properties\": \"timeseries_param_dict={'time_column_name': 'WeekStarting', 'grain_column_names': ['Store', 'Brand'], 'target_column_name': 'Quantity', 'drop_column_names': ['Revenue', 'Advert', 'Price'], 'overwrite_columns': True, 'dropna': False, 'transform_dictionary': {'min': '_automl_target_col', 'max': '_automl_target_col', 'mean': '_automl_target_col'}, 'max_horizon': 6, 'origin_time_colname': 'origin', 'country_or_region': None, 'n_cross_validations': 3, 'short_series_handling': True, 'max_cores_per_iteration': 1, 'feature_lags': None, 'target_aggregation_function': None, 'cv_step_size': 5, 'seasonality': 4, 'use_stl': 'season_trend', 'freq': 'W-THU', 'short_series_handling_configuration': 'auto', 'target_lags': [0], 'target_rolling_window_size': 0, 'arimax_raw_columns': ['Brand', 'WeekStarting', 'Store']}\", \"primary_metric\": 0.28040375, \"best_metric\": 0.28040375}, {\"run_id\": \"AutoML_28d9ced5-087e-4990-9384-114e83c36732_4\", \"run_number\": 1700126017, \"metric\": null, \"status\": \"Completed\", \"run_type\": null, \"training_percent\": \"100\", \"start_time\": \"2023-11-16T09:15:00.768912Z\", \"end_time\": \"2023-11-16T09:16:12.426958Z\", \"created_time\": \"2023-11-16T09:13:37.192345Z\", \"created_time_dt\": \"2023-11-16T09:13:37.192345Z\", \"duration\": \"0:02:35\", \"iteration\": \"4\", \"goal\": \"normalized_root_mean_squared_error_min\", \"run_name\": \"ExponentialSmoothing\", \"run_properties\": \"timeseries_param_dict={'time_column_name': 'WeekStarting', 'grain_column_names': ['Store', 'Brand'], 'target_column_name': 'Quantity', 'drop_column_names': ['Revenue', 'Advert', 'Price'], 'overwrite_columns': True, 'dropna': False, 'transform_dictionary': {'min': '_automl_target_col', 'max': '_automl_target_col', 'mean': '_automl_target_col'}, 'max_horizon': 6, 'origin_time_colname': 'origin', 'country_or_region': None, 'n_cross_validations': 3, 'short_series_handling': True, 'max_cores_per_iteration': 1, 'feature_lags': None, 'target_aggregation_function': None, 'cv_step_size': 5, 'seasonality': 4, 'use_stl': 'season_trend', 'freq': 'W-THU', 'short_series_handling_configuration': 'auto', 'target_lags': [0], 'target_rolling_window_size': 0, 'arimax_raw_columns': ['Brand', 'WeekStarting', 'Store']}\", \"primary_metric\": 0.28074621, \"best_metric\": 0.28040375}, {\"run_id\": \"AutoML_28d9ced5-087e-4990-9384-114e83c36732_6\", \"run_number\": 1700126018, \"metric\": null, \"status\": \"Completed\", \"run_type\": null, \"training_percent\": \"100\", \"start_time\": \"2023-11-16T09:16:43.800849Z\", \"end_time\": \"2023-11-16T09:17:05.732476Z\", \"created_time\": \"2023-11-16T09:13:38.065662Z\", \"created_time_dt\": \"2023-11-16T09:13:38.065662Z\", \"duration\": \"0:03:27\", \"iteration\": \"6\", \"goal\": \"normalized_root_mean_squared_error_min\", \"run_name\": \"ProphetModel\", \"run_properties\": \"timeseries_param_dict={'time_column_name': 'WeekStarting', 'grain_column_names': ['Store', 'Brand'], 'target_column_name': 'Quantity', 'drop_column_names': ['Revenue', 'Advert', 'Price'], 'overwrite_columns': True, 'dropna': False, 'transform_dictionary': {'min': '_automl_target_col', 'max': '_automl_target_col', 'mean': '_automl_target_col'}, 'max_horizon': 6, 'origin_time_colname': 'origin', 'country_or_region': None, 'n_cross_validations': 3, 'short_series_handling': True, 'max_cores_per_iteration': 1, 'feature_lags': None, 'target_aggregation_function': None, 'cv_step_size': 5, 'seasonality': 4, 'use_stl': 'season_trend', 'freq': 'W-THU', 'short_series_handling_configuration': 'auto', 'target_lags': [0], 'target_rolling_window_size': 0, 'arimax_raw_columns': ['Brand', 'WeekStarting', 'Store']}\", \"primary_metric\": 0.28945597, \"best_metric\": 0.28040375}, {\"run_id\": \"AutoML_28d9ced5-087e-4990-9384-114e83c36732_9\", \"run_number\": 1700126019, \"metric\": null, \"status\": \"Completed\", \"run_type\": null, \"training_percent\": \"100\", \"start_time\": \"2023-11-16T09:17:30.810796Z\", \"end_time\": \"2023-11-16T09:17:41.361544Z\", \"created_time\": \"2023-11-16T09:13:39.38903Z\", \"created_time_dt\": \"2023-11-16T09:13:39.38903Z\", \"duration\": \"0:04:01\", \"iteration\": \"9\", \"goal\": \"normalized_root_mean_squared_error_min\", \"run_name\": \"MaxAbsScaler, ElasticNet\", \"run_properties\": \"copy=True\", \"primary_metric\": 0.28980441, \"best_metric\": 0.28040375}, {\"run_id\": \"AutoML_28d9ced5-087e-4990-9384-114e83c36732_11\", \"run_number\": 1700126020, \"metric\": null, \"status\": \"Completed\", \"run_type\": null, \"training_percent\": \"100\", \"start_time\": \"2023-11-16T09:17:53.435362Z\", \"end_time\": \"2023-11-16T09:18:03.72263Z\", \"created_time\": \"2023-11-16T09:13:40.290289Z\", \"created_time_dt\": \"2023-11-16T09:13:40.290289Z\", \"duration\": \"0:04:23\", \"iteration\": \"11\", \"goal\": \"normalized_root_mean_squared_error_min\", \"run_name\": \"MinMaxScaler, ElasticNet\", \"run_properties\": \"copy=True, feature_range=(0, 1\", \"primary_metric\": 0.29254388, \"best_metric\": 0.28040375}, {\"run_id\": \"AutoML_28d9ced5-087e-4990-9384-114e83c36732_13\", \"run_number\": 1700126021, \"metric\": null, \"status\": \"Completed\", \"run_type\": null, \"training_percent\": \"100\", \"start_time\": \"2023-11-16T09:18:15.934586Z\", \"end_time\": \"2023-11-16T09:18:26.741216Z\", \"created_time\": \"2023-11-16T09:13:41.153236Z\", \"created_time_dt\": \"2023-11-16T09:13:41.153236Z\", \"duration\": \"0:04:45\", \"iteration\": \"13\", \"goal\": \"normalized_root_mean_squared_error_min\", \"run_name\": \"MinMaxScaler, RandomForest\", \"run_properties\": \"copy=True, feature_range=(0, 1\", \"primary_metric\": 0.29104853, \"best_metric\": 0.28040375}, {\"run_id\": \"AutoML_28d9ced5-087e-4990-9384-114e83c36732_15\", \"run_number\": 1700126022, \"metric\": null, \"status\": \"Completed\", \"run_type\": null, \"training_percent\": \"100\", \"start_time\": \"2023-11-16T09:18:40.210255Z\", \"end_time\": \"2023-11-16T09:18:50.406936Z\", \"created_time\": \"2023-11-16T09:13:42.000634Z\", \"created_time_dt\": \"2023-11-16T09:13:42.000634Z\", \"duration\": \"0:05:08\", \"iteration\": \"15\", \"goal\": \"normalized_root_mean_squared_error_min\", \"run_name\": \"StandardScalerWrapper, ElasticNet\", \"run_properties\": \"copy=True, with_mean=True, with_std=False\", \"primary_metric\": 0.29263758, \"best_metric\": 0.28040375}, {\"run_id\": \"AutoML_28d9ced5-087e-4990-9384-114e83c36732_worker_0\", \"run_number\": 1700126023, \"metric\": null, \"status\": \"Completed\", \"run_type\": \"azureml.scriptrun\", \"training_percent\": null, \"start_time\": \"2023-11-16T09:14:04.455364Z\", \"end_time\": \"2023-11-16T09:19:48.178678Z\", \"created_time\": \"2023-11-16T09:13:43.948523Z\", \"created_time_dt\": \"2023-11-16T09:13:43.948523Z\", \"duration\": \"0:06:04\", \"iteration\": null, \"goal\": null, \"run_name\": \"Completed\", \"run_properties\": null}, {\"run_id\": \"AutoML_28d9ced5-087e-4990-9384-114e83c36732_20\", \"run_number\": 1700126543, \"metric\": null, \"status\": \"Completed\", \"run_type\": \"azureml.scriptrun\", \"training_percent\": \"100\", \"start_time\": \"2023-11-16T09:22:51.571056Z\", \"end_time\": \"2023-11-16T09:23:20.661914Z\", \"created_time\": \"2023-11-16T09:22:23.15241Z\", \"created_time_dt\": \"2023-11-16T09:22:23.15241Z\", \"duration\": \"0:00:57\", \"iteration\": \"20\", \"goal\": \"normalized_root_mean_squared_error_min\", \"run_name\": \"MinMaxScaler, ExtremeRandomTrees\", \"run_properties\": \"copy=True, feature_range=(0, 1\", \"primary_metric\": 0.28537423, \"best_metric\": 0.28040375}, {\"run_id\": \"AutoML_28d9ced5-087e-4990-9384-114e83c36732_21\", \"run_number\": 1700126601, \"metric\": null, \"status\": \"Completed\", \"run_type\": \"azureml.scriptrun\", \"training_percent\": \"100\", \"start_time\": \"2023-11-16T09:23:44.725306Z\", \"end_time\": \"2023-11-16T09:24:12.448136Z\", \"created_time\": \"2023-11-16T09:23:21.75545Z\", \"created_time_dt\": \"2023-11-16T09:23:21.75545Z\", \"duration\": \"0:00:50\", \"iteration\": \"21\", \"goal\": \"normalized_root_mean_squared_error_min\", \"run_name\": \"MinMaxScaler, ExtremeRandomTrees\", \"run_properties\": \"copy=True, feature_range=(0, 1\", \"primary_metric\": 0.28185952, \"best_metric\": 0.28040375}, {\"run_id\": \"AutoML_28d9ced5-087e-4990-9384-114e83c36732_22\", \"run_number\": 1700126653, \"metric\": null, \"status\": \"Completed\", \"run_type\": \"azureml.scriptrun\", \"training_percent\": \"100\", \"start_time\": \"2023-11-16T09:24:38.170815Z\", \"end_time\": \"2023-11-16T09:25:06.166616Z\", \"created_time\": \"2023-11-16T09:24:13.454548Z\", \"created_time_dt\": \"2023-11-16T09:24:13.454548Z\", \"duration\": \"0:00:52\", \"iteration\": \"22\", \"goal\": \"normalized_root_mean_squared_error_min\", \"run_name\": \"MaxAbsScaler, ExtremeRandomTrees\", \"run_properties\": \"copy=True\", \"primary_metric\": 0.30070003, \"best_metric\": 0.28040375}, {\"run_id\": \"AutoML_28d9ced5-087e-4990-9384-114e83c36732_23\", \"run_number\": 1700126707, \"metric\": null, \"status\": \"Completed\", \"run_type\": \"azureml.scriptrun\", \"training_percent\": \"100\", \"start_time\": \"2023-11-16T09:25:29.710019Z\", \"end_time\": \"2023-11-16T09:25:57.667998Z\", \"created_time\": \"2023-11-16T09:25:07.118379Z\", \"created_time_dt\": \"2023-11-16T09:25:07.118379Z\", \"duration\": \"0:00:50\", \"iteration\": \"23\", \"goal\": \"normalized_root_mean_squared_error_min\", \"run_name\": \"MinMaxScaler, DecisionTree\", \"run_properties\": \"copy=True, feature_range=(0, 1\", \"primary_metric\": 0.29216489, \"best_metric\": 0.28040375}, {\"run_id\": \"AutoML_28d9ced5-087e-4990-9384-114e83c36732_24\", \"run_number\": 1700126758, \"metric\": null, \"status\": \"Completed\", \"run_type\": \"azureml.scriptrun\", \"training_percent\": \"100\", \"start_time\": \"2023-11-16T09:26:19.806436Z\", \"end_time\": \"2023-11-16T09:26:48.053571Z\", \"created_time\": \"2023-11-16T09:25:58.700947Z\", \"created_time_dt\": \"2023-11-16T09:25:58.700947Z\", \"duration\": \"0:00:49\", \"iteration\": \"24\", \"goal\": \"normalized_root_mean_squared_error_min\", \"run_name\": \"RobustScaler, ExtremeRandomTrees\", \"run_properties\": \"copy=True, quantile_range=[10, 90], with_centering=False,\\n             with_scaling=False\", \"primary_metric\": 0.28482427, \"best_metric\": 0.28040375}, {\"run_id\": \"AutoML_28d9ced5-087e-4990-9384-114e83c36732_25\", \"run_number\": 1700126810, \"metric\": null, \"status\": \"Completed\", \"run_type\": \"azureml.scriptrun\", \"training_percent\": \"100\", \"start_time\": \"2023-11-16T09:27:10.241647Z\", \"end_time\": \"2023-11-16T09:27:38.800569Z\", \"created_time\": \"2023-11-16T09:26:50.01346Z\", \"created_time_dt\": \"2023-11-16T09:26:50.01346Z\", \"duration\": \"0:00:48\", \"iteration\": \"25\", \"goal\": \"normalized_root_mean_squared_error_min\", \"run_name\": \"StandardScalerWrapper, ExtremeRandomTrees\", \"run_properties\": \"copy=True, with_mean=True, with_std=True\", \"primary_metric\": 0.28215409, \"best_metric\": 0.28040375}, {\"run_id\": \"AutoML_28d9ced5-087e-4990-9384-114e83c36732_26\", \"run_number\": 1700126860, \"metric\": null, \"status\": \"Completed\", \"run_type\": \"azureml.scriptrun\", \"training_percent\": \"100\", \"start_time\": \"2023-11-16T09:28:04.586437Z\", \"end_time\": \"2023-11-16T09:28:33.262514Z\", \"created_time\": \"2023-11-16T09:27:40.105118Z\", \"created_time_dt\": \"2023-11-16T09:27:40.105118Z\", \"duration\": \"0:00:53\", \"iteration\": \"26\", \"goal\": \"normalized_root_mean_squared_error_min\", \"run_name\": \"RobustScaler, DecisionTree\", \"run_properties\": \"copy=True, quantile_range=[10, 90], with_centering=False,\\n             with_scaling=False\", \"primary_metric\": 0.29418205, \"best_metric\": 0.28040375}, {\"run_id\": \"AutoML_28d9ced5-087e-4990-9384-114e83c36732_27\", \"run_number\": 1700126914, \"metric\": null, \"status\": \"Completed\", \"run_type\": \"azureml.scriptrun\", \"training_percent\": \"100\", \"start_time\": \"2023-11-16T09:28:56.098313Z\", \"end_time\": \"2023-11-16T09:29:24.30236Z\", \"created_time\": \"2023-11-16T09:28:34.710201Z\", \"created_time_dt\": \"2023-11-16T09:28:34.710201Z\", \"duration\": \"0:00:49\", \"iteration\": \"27\", \"goal\": \"normalized_root_mean_squared_error_min\", \"run_name\": \"StandardScalerWrapper, RandomForest\", \"run_properties\": \"copy=True, with_mean=True, with_std=False\", \"primary_metric\": 0.28491031, \"best_metric\": 0.28040375}, {\"run_id\": \"AutoML_28d9ced5-087e-4990-9384-114e83c36732_28\", \"run_number\": 1700126965, \"metric\": null, \"status\": \"Completed\", \"run_type\": \"azureml.scriptrun\", \"training_percent\": \"100\", \"start_time\": \"2023-11-16T09:29:45.440098Z\", \"end_time\": \"2023-11-16T09:30:14.841868Z\", \"created_time\": \"2023-11-16T09:29:25.646572Z\", \"created_time_dt\": \"2023-11-16T09:29:25.646572Z\", \"duration\": \"0:00:49\", \"iteration\": \"28\", \"goal\": \"normalized_root_mean_squared_error_min\", \"run_name\": \"StandardScalerWrapper, ExtremeRandomTrees\", \"run_properties\": \"copy=True, with_mean=True, with_std=False\", \"primary_metric\": 0.28217196, \"best_metric\": 0.28040375}, {\"run_id\": \"AutoML_28d9ced5-087e-4990-9384-114e83c36732_29\", \"run_number\": 1700127016, \"metric\": null, \"status\": \"Completed\", \"run_type\": \"azureml.scriptrun\", \"training_percent\": \"100\", \"start_time\": \"2023-11-16T09:30:35.845852Z\", \"end_time\": \"2023-11-16T09:31:03.927313Z\", \"created_time\": \"2023-11-16T09:30:16.144596Z\", \"created_time_dt\": \"2023-11-16T09:30:16.144596Z\", \"duration\": \"0:00:47\", \"iteration\": \"29\", \"goal\": \"normalized_root_mean_squared_error_min\", \"run_name\": \"StandardScalerWrapper, RandomForest\", \"run_properties\": \"copy=True, with_mean=True, with_std=True\", \"primary_metric\": 0.28861878, \"best_metric\": 0.28040375}, {\"run_id\": \"AutoML_28d9ced5-087e-4990-9384-114e83c36732_30\", \"run_number\": 1700127064, \"metric\": null, \"status\": \"Completed\", \"run_type\": \"azureml.scriptrun\", \"training_percent\": \"100\", \"start_time\": \"2023-11-16T09:31:26.226082Z\", \"end_time\": \"2023-11-16T09:32:10.860485Z\", \"created_time\": \"2023-11-16T09:31:04.48624Z\", \"created_time_dt\": \"2023-11-16T09:31:04.48624Z\", \"duration\": \"0:01:06\", \"iteration\": \"30\", \"goal\": \"normalized_root_mean_squared_error_min\", \"run_name\": \"VotingEnsemble\", \"run_properties\": \"estimators=[('5', Pipeline(memory=None, steps=[('autoarima', AutoArima(timeseries_param_dict={'time_column_name': 'WeekStarting', 'grain_column_names': ['Store', 'Brand'], 'target_column_name': 'Quantity', 'drop_column_names': ['Revenue', 'Advert', 'Price'], 'overwrite_columns': True, 'dropna': False, 'transform_dictionary': {'min': '_automl_target_col', 'max': '_automl_target_col', 'mean': '_automl_target_col'}, 'max_horizon': 6, 'origin_time_colname': 'origin', 'country_or_region': None, 'n_cross_validations': 3, 'short_series_handling': True, 'max_cores_per_iteration': 1, 'feature_lags': None, 'target_aggregation_function': None, 'cv_step_size': 5, 'seasonality': 4, 'use_stl': 'season_trend', 'freq': 'W-THU', 'short_series_handling_configuration': 'auto', 'target_lags': [0], 'target_rolling_window_size': 0, 'arimax_raw_columns': ['Brand', 'WeekStarting', 'Store']}\", \"primary_metric\": 0.27755083, \"best_metric\": 0.27755083}], \"children_metrics\": {\"categories\": [0], \"series\": {\"mean_absolute_percentage_error\": [{\"categories\": [\"0\", \"2\", \"4\", \"6\", \"9\", \"11\", \"13\", \"15\", \"20\", \"21\", \"22\", \"23\", \"24\", \"25\", \"26\", \"27\", \"28\", \"29\", \"30\"], \"mode\": \"markers\", \"name\": \"mean_absolute_percentage_error\", \"stepped\": false, \"type\": \"scatter\", \"data\": [26.724033230268702, 20.23989344724369, 20.320751775603622, 20.808708473368526, 20.780023682788222, 20.83189582176851, 20.677338922285262, 20.83567453760318, 20.185243505154585, 20.237536707608765, 21.14138401476114, 20.77871046542727, 20.52329504875806, 20.3039491293872, 20.94101524999525, 20.52108070469587, 20.222611807768633, 20.643845768820317, 19.994548698196226]}, {\"categories\": [\"0\", \"2\", \"4\", \"6\", \"9\", \"11\", \"13\", \"15\", \"20\", \"21\", \"22\", \"23\", \"24\", \"25\", \"26\", \"27\", \"28\", \"29\", \"30\"], \"mode\": \"lines\", \"name\": \"mean_absolute_percentage_error_min\", \"stepped\": true, \"type\": \"scatter\", \"data\": [26.724033230268702, 20.23989344724369, 20.23989344724369, 20.23989344724369, 20.23989344724369, 20.23989344724369, 20.23989344724369, 20.23989344724369, 20.185243505154585, 20.185243505154585, 20.185243505154585, 20.185243505154585, 20.185243505154585, 20.185243505154585, 20.185243505154585, 20.185243505154585, 20.185243505154585, 20.185243505154585, 19.994548698196226]}], \"normalized_mean_absolute_error\": [{\"categories\": [\"0\", \"2\", \"4\", \"6\", \"9\", \"11\", \"13\", \"15\", \"20\", \"21\", \"22\", \"23\", \"24\", \"25\", \"26\", \"27\", \"28\", \"29\", \"30\"], \"mode\": \"markers\", \"name\": \"normalized_mean_absolute_error\", \"stepped\": false, \"type\": \"scatter\", \"data\": [0.33221250185134926, 0.2418666664963841, 0.2424469417788598, 0.2500235278878849, 0.25064117078854137, 0.2520480600139365, 0.2494900993617588, 0.25210055916334856, 0.24402623974148926, 0.24361949132915417, 0.257724345564767, 0.25004290078945196, 0.2473142803022511, 0.24341870747573022, 0.253515168206533, 0.24696383114105935, 0.24296524841381428, 0.2476611459297132, 0.23977018100539302]}, {\"categories\": [\"0\", \"2\", \"4\", \"6\", \"9\", \"11\", \"13\", \"15\", \"20\", \"21\", \"22\", \"23\", \"24\", \"25\", \"26\", \"27\", \"28\", \"29\", \"30\"], \"mode\": \"lines\", \"name\": \"normalized_mean_absolute_error_min\", \"stepped\": true, \"type\": \"scatter\", \"data\": [0.33221250185134926, 0.2418666664963841, 0.2418666664963841, 0.2418666664963841, 0.2418666664963841, 0.2418666664963841, 0.2418666664963841, 0.2418666664963841, 0.2418666664963841, 0.2418666664963841, 0.2418666664963841, 0.2418666664963841, 0.2418666664963841, 0.2418666664963841, 0.2418666664963841, 0.2418666664963841, 0.2418666664963841, 0.2418666664963841, 0.23977018100539302]}], \"normalized_median_absolute_error\": [{\"categories\": [\"0\", \"2\", \"4\", \"6\", \"9\", \"11\", \"13\", \"15\", \"20\", \"21\", \"22\", \"23\", \"24\", \"25\", \"26\", \"27\", \"28\", \"29\", \"30\"], \"mode\": \"markers\", \"name\": \"normalized_median_absolute_error\", \"stepped\": false, \"type\": \"scatter\", \"data\": [0.31906267625964585, 0.23598428405147512, 0.2364939828851831, 0.23278787539256082, 0.23867386913749503, 0.2384087158218486, 0.2332752048317094, 0.2384010178029852, 0.23301147125509006, 0.23762481891932885, 0.238731771475843, 0.23299472847787497, 0.24012770590780877, 0.2356814585103091, 0.24318457323627266, 0.23734001639027594, 0.236881395659395, 0.23507567830329876, 0.23371612952056364]}, {\"categories\": [\"0\", \"2\", \"4\", \"6\", \"9\", \"11\", \"13\", \"15\", \"20\", \"21\", \"22\", \"23\", \"24\", \"25\", \"26\", \"27\", \"28\", \"29\", \"30\"], \"mode\": \"lines\", \"name\": \"normalized_median_absolute_error_min\", \"stepped\": true, \"type\": \"scatter\", \"data\": [0.31906267625964585, 0.23598428405147512, 0.23598428405147512, 0.23278787539256082, 0.23278787539256082, 0.23278787539256082, 0.23278787539256082, 0.23278787539256082, 0.23278787539256082, 0.23278787539256082, 0.23278787539256082, 0.23278787539256082, 0.23278787539256082, 0.23278787539256082, 0.23278787539256082, 0.23278787539256082, 0.23278787539256082, 0.23278787539256082, 0.23278787539256082]}], \"r2_score\": [{\"categories\": [\"0\", \"2\", \"4\", \"6\", \"9\", \"11\", \"13\", \"15\", \"20\", \"21\", \"22\", \"23\", \"24\", \"25\", \"26\", \"27\", \"28\", \"29\", \"30\"], \"mode\": \"markers\", \"name\": \"r2_score\", \"stepped\": false, \"type\": \"scatter\", \"data\": [-0.956562609990597, -0.025093019724938603, -0.027532618109740687, -0.1137345848659234, -0.09918772157913347, -0.12252137814230823, -0.10961346604694137, -0.12331944858704984, -0.0677037938186625, -0.038660685142919204, -0.18552557992838717, -0.13322803733564967, -0.06669685065559616, -0.0397331902259647, -0.15048176948557282, -0.06462715204215042, -0.03970791061646898, -0.08734263612370759, -0.007637927105757429]}, {\"categories\": [\"0\", \"2\", \"4\", \"6\", \"9\", \"11\", \"13\", \"15\", \"20\", \"21\", \"22\", \"23\", \"24\", \"25\", \"26\", \"27\", \"28\", \"29\", \"30\"], \"mode\": \"lines\", \"name\": \"r2_score_max\", \"stepped\": true, \"type\": \"scatter\", \"data\": [-0.956562609990597, -0.025093019724938603, -0.025093019724938603, -0.025093019724938603, -0.025093019724938603, -0.025093019724938603, -0.025093019724938603, -0.025093019724938603, -0.025093019724938603, -0.025093019724938603, -0.025093019724938603, -0.025093019724938603, -0.025093019724938603, -0.025093019724938603, -0.025093019724938603, -0.025093019724938603, -0.025093019724938603, -0.025093019724938603, -0.007637927105757429]}], \"mean_absolute_error\": [{\"categories\": [\"0\", \"2\", \"4\", \"6\", \"9\", \"11\", \"13\", \"15\", \"20\", \"21\", \"22\", \"23\", \"24\", \"25\", \"26\", \"27\", \"28\", \"29\", \"30\"], \"mode\": \"markers\", \"name\": \"mean_absolute_error\", \"stepped\": false, \"type\": \"scatter\", \"data\": [3600.1777777777775, 2618.2133607294477, 2624.3957872833803, 2706.317186258537, 2712.9326734029232, 2728.0057942636695, 2699.8349429452187, 2728.5731994642993, 2641.257080351715, 2636.879084925917, 2788.7787050264556, 2706.45566063495, 2676.6610864044424, 2634.6404888965258, 2742.5815077736443, 2672.5756154981013, 2629.864036107611, 2680.480267084928, 2595.3863651392608]}, {\"categories\": [\"0\", \"2\", \"4\", \"6\", \"9\", \"11\", \"13\", \"15\", \"20\", \"21\", \"22\", \"23\", \"24\", \"25\", \"26\", \"27\", \"28\", \"29\", \"30\"], \"mode\": \"lines\", \"name\": \"mean_absolute_error_min\", \"stepped\": true, \"type\": \"scatter\", \"data\": [3600.1777777777775, 2618.2133607294477, 2618.2133607294477, 2618.2133607294477, 2618.2133607294477, 2618.2133607294477, 2618.2133607294477, 2618.2133607294477, 2618.2133607294477, 2618.2133607294477, 2618.2133607294477, 2618.2133607294477, 2618.2133607294477, 2618.2133607294477, 2618.2133607294477, 2618.2133607294477, 2618.2133607294477, 2618.2133607294477, 2595.3863651392608]}], \"explained_variance\": [{\"categories\": [\"0\", \"2\", \"4\", \"6\", \"9\", \"11\", \"13\", \"15\", \"20\", \"21\", \"22\", \"23\", \"24\", \"25\", \"26\", \"27\", \"28\", \"29\", \"30\"], \"mode\": \"markers\", \"name\": \"explained_variance\", \"stepped\": false, \"type\": \"scatter\", \"data\": [-1.0814998611369508, -0.0013284838059372344, -0.0014563192204292141, -0.07292939619591439, -0.08544102653283543, -0.11166226385285483, -0.09436769944236918, -0.1124633755816169, -0.05746431265678117, -0.025766300378990675, -0.17410588981818442, -0.11371201509371465, -0.04702855745645329, -0.020489585029144997, -0.13704349612043173, -0.03792819274068578, -0.023807517626522296, -0.06707585443557507, 0.013104906909438144]}, {\"categories\": [\"0\", \"2\", \"4\", \"6\", \"9\", \"11\", \"13\", \"15\", \"20\", \"21\", \"22\", \"23\", \"24\", \"25\", \"26\", \"27\", \"28\", \"29\", \"30\"], \"mode\": \"lines\", \"name\": \"explained_variance_max\", \"stepped\": true, \"type\": \"scatter\", \"data\": [-1.0814998611369508, -0.0013284838059372344, -0.0013284838059372344, -0.0013284838059372344, -0.0013284838059372344, -0.0013284838059372344, -0.0013284838059372344, -0.0013284838059372344, -0.0013284838059372344, -0.0013284838059372344, -0.0013284838059372344, -0.0013284838059372344, -0.0013284838059372344, -0.0013284838059372344, -0.0013284838059372344, -0.0013284838059372344, -0.0013284838059372344, -0.0013284838059372344, 0.013104906909438144]}], \"spearman_correlation\": [{\"categories\": [\"0\", \"2\", \"4\", \"6\", \"9\", \"11\", \"13\", \"15\", \"20\", \"21\", \"22\", \"23\", \"24\", \"25\", \"26\", \"27\", \"28\", \"29\", \"30\"], \"mode\": \"markers\", \"name\": \"spearman_correlation\", \"stepped\": false, \"type\": \"scatter\", \"data\": [-0.05104067631667617, 0.06042233235737814, 0.06868712458371083, 0.08583865888672781, 0.001129943502824864, 0.010447346485134762, -0.03173103639899973, 0.011577289987959627, 0.011299435028248594, 0.02243215708067055, -0.05046705507839646, 0.04410546303860861, 0.07933949379859105, 0.036010002778549606, -0.0007572204600092003, 0.04100098056681804, 0.026136889876817643, -0.0324065578433673, 0.11293877929054369]}, {\"categories\": [\"0\", \"2\", \"4\", \"6\", \"9\", \"11\", \"13\", \"15\", \"20\", \"21\", \"22\", \"23\", \"24\", \"25\", \"26\", \"27\", \"28\", \"29\", \"30\"], \"mode\": \"lines\", \"name\": \"spearman_correlation_max\", \"stepped\": true, \"type\": \"scatter\", \"data\": [-0.05104067631667617, 0.06042233235737814, 0.06868712458371083, 0.08583865888672781, 0.08583865888672781, 0.08583865888672781, 0.08583865888672781, 0.08583865888672781, 0.08583865888672781, 0.08583865888672781, 0.08583865888672781, 0.08583865888672781, 0.08583865888672781, 0.08583865888672781, 0.08583865888672781, 0.08583865888672781, 0.08583865888672781, 0.08583865888672781, 0.11293877929054369]}], \"root_mean_squared_error\": [{\"categories\": [\"0\", \"2\", \"4\", \"6\", \"9\", \"11\", \"13\", \"15\", \"20\", \"21\", \"22\", \"23\", \"24\", \"25\", \"26\", \"27\", \"28\", \"29\", \"30\"], \"mode\": \"markers\", \"name\": \"root_mean_squared_error\", \"stepped\": false, \"type\": \"scatter\", \"data\": [4421.806939409317, 3077.1846154047103, 3080.701784342895, 3205.5240306377577, 3187.243297908463, 3220.7004151098845, 3204.965745374269, 3221.842447280378, 3143.390894472796, 3099.5107392110513, 3312.160938697178, 3239.811946560823, 3139.2198205248733, 3100.857391182553, 3264.045655930662, 3136.6322101666933, 3100.712609183021, 3171.8532802516843, 3052.3795106827365]}, {\"categories\": [\"0\", \"2\", \"4\", \"6\", \"9\", \"11\", \"13\", \"15\", \"20\", \"21\", \"22\", \"23\", \"24\", \"25\", \"26\", \"27\", \"28\", \"29\", \"30\"], \"mode\": \"lines\", \"name\": \"root_mean_squared_error_min\", \"stepped\": true, \"type\": \"scatter\", \"data\": [4421.806939409317, 3077.1846154047103, 3077.1846154047103, 3077.1846154047103, 3077.1846154047103, 3077.1846154047103, 3077.1846154047103, 3077.1846154047103, 3077.1846154047103, 3077.1846154047103, 3077.1846154047103, 3077.1846154047103, 3077.1846154047103, 3077.1846154047103, 3077.1846154047103, 3077.1846154047103, 3077.1846154047103, 3077.1846154047103, 3052.3795106827365]}], \"root_mean_squared_log_error\": [{\"categories\": [\"0\", \"2\", \"4\", \"6\", \"9\", \"11\", \"13\", \"15\", \"20\", \"21\", \"22\", \"23\", \"24\", \"25\", \"26\", \"27\", \"28\", \"29\", \"30\"], \"mode\": \"markers\", \"name\": \"root_mean_squared_log_error\", \"stepped\": false, \"type\": \"scatter\", \"data\": [0.318270534612257, 0.22626847489023802, 0.22668682714349578, 0.23274631993200576, 0.23235299853912098, 0.23415386834145288, 0.2333542258847893, 0.23422396055470787, 0.22888322352438353, 0.2268051178103019, 0.23982291634980457, 0.23583341706652017, 0.2290733385424771, 0.22727155793530066, 0.2366449125245962, 0.2291951336526025, 0.22706325206640554, 0.23198264161982748, 0.22404262252716226]}, {\"categories\": [\"0\", \"2\", \"4\", \"6\", \"9\", \"11\", \"13\", \"15\", \"20\", \"21\", \"22\", \"23\", \"24\", \"25\", \"26\", \"27\", \"28\", \"29\", \"30\"], \"mode\": \"lines\", \"name\": \"root_mean_squared_log_error_min\", \"stepped\": true, \"type\": \"scatter\", \"data\": [0.318270534612257, 0.22626847489023802, 0.22626847489023802, 0.22626847489023802, 0.22626847489023802, 0.22626847489023802, 0.22626847489023802, 0.22626847489023802, 0.22626847489023802, 0.22626847489023802, 0.22626847489023802, 0.22626847489023802, 0.22626847489023802, 0.22626847489023802, 0.22626847489023802, 0.22626847489023802, 0.22626847489023802, 0.22626847489023802, 0.22404262252716226]}], \"normalized_root_mean_squared_log_error\": [{\"categories\": [\"0\", \"2\", \"4\", \"6\", \"9\", \"11\", \"13\", \"15\", \"20\", \"21\", \"22\", \"23\", \"24\", \"25\", \"26\", \"27\", \"28\", \"29\", \"30\"], \"mode\": \"markers\", \"name\": \"normalized_root_mean_squared_log_error\", \"stepped\": false, \"type\": \"scatter\", \"data\": [0.3845830665586371, 0.2828038465407665, 0.2833594248109778, 0.28952506058393923, 0.2906702509137223, 0.2928806639488408, 0.2915199210964852, 0.29296380623854573, 0.285987989321276, 0.28366063739294584, 0.30014252175682904, 0.29226476011104474, 0.2857679202868345, 0.2842523177122604, 0.29371672874641863, 0.28666387182512465, 0.2840348488100502, 0.29020505140999897, 0.28000218886005823]}, {\"categories\": [\"0\", \"2\", \"4\", \"6\", \"9\", \"11\", \"13\", \"15\", \"20\", \"21\", \"22\", \"23\", \"24\", \"25\", \"26\", \"27\", \"28\", \"29\", \"30\"], \"mode\": \"lines\", \"name\": \"normalized_root_mean_squared_log_error_min\", \"stepped\": true, \"type\": \"scatter\", \"data\": [0.3845830665586371, 0.2828038465407665, 0.2828038465407665, 0.2828038465407665, 0.2828038465407665, 0.2828038465407665, 0.2828038465407665, 0.2828038465407665, 0.2828038465407665, 0.2828038465407665, 0.2828038465407665, 0.2828038465407665, 0.2828038465407665, 0.2828038465407665, 0.2828038465407665, 0.2828038465407665, 0.2828038465407665, 0.2828038465407665, 0.28000218886005823]}], \"normalized_root_mean_squared_error\": [{\"categories\": [\"0\", \"2\", \"4\", \"6\", \"9\", \"11\", \"13\", \"15\", \"20\", \"21\", \"22\", \"23\", \"24\", \"25\", \"26\", \"27\", \"28\", \"29\", \"30\"], \"mode\": \"markers\", \"name\": \"normalized_root_mean_squared_error\", \"stepped\": false, \"type\": \"scatter\", \"data\": [0.38785548558348415, 0.2804037502151941, 0.2807462058420359, 0.28945597350335067, 0.2898044096338947, 0.2925438787339154, 0.2910485271595519, 0.2926375782077314, 0.2853742289269992, 0.2818595169573122, 0.3007000318451207, 0.29216489283136443, 0.2848242748167999, 0.28215408540492126, 0.29418205185390556, 0.28491030576038906, 0.2821719649230596, 0.2886187794204422, 0.27755083329054386]}, {\"categories\": [\"0\", \"2\", \"4\", \"6\", \"9\", \"11\", \"13\", \"15\", \"20\", \"21\", \"22\", \"23\", \"24\", \"25\", \"26\", \"27\", \"28\", \"29\", \"30\"], \"mode\": \"lines\", \"name\": \"normalized_root_mean_squared_error_min\", \"stepped\": true, \"type\": \"scatter\", \"data\": [0.38785548558348415, 0.2804037502151941, 0.2804037502151941, 0.2804037502151941, 0.2804037502151941, 0.2804037502151941, 0.2804037502151941, 0.2804037502151941, 0.2804037502151941, 0.2804037502151941, 0.2804037502151941, 0.2804037502151941, 0.2804037502151941, 0.2804037502151941, 0.2804037502151941, 0.2804037502151941, 0.2804037502151941, 0.2804037502151941, 0.27755083329054386]}], \"median_absolute_error\": [{\"categories\": [\"0\", \"2\", \"4\", \"6\", \"9\", \"11\", \"13\", \"15\", \"20\", \"21\", \"22\", \"23\", \"24\", \"25\", \"26\", \"27\", \"28\", \"29\", \"30\"], \"mode\": \"markers\", \"name\": \"median_absolute_error\", \"stepped\": false, \"type\": \"scatter\", \"data\": [2973.6666666666665, 2549.391022021457, 2594.0278076094064, 2450.9307958762406, 2655.3936195365027, 2600.550439309643, 2421.2765991530246, 2598.6208156861335, 2575.95871531302, 2646.785191204052, 2516.3919444444446, 2487.4688457254247, 2616.276163731541, 2579.066543156293, 2540.234951159951, 2674.9111615512757, 2631.995384307342, 2609.9265644293687, 2733.118053946136]}, {\"categories\": [\"0\", \"2\", \"4\", \"6\", \"9\", \"11\", \"13\", \"15\", \"20\", \"21\", \"22\", \"23\", \"24\", \"25\", \"26\", \"27\", \"28\", \"29\", \"30\"], \"mode\": \"lines\", \"name\": \"median_absolute_error_min\", \"stepped\": true, \"type\": \"scatter\", \"data\": [2973.6666666666665, 2549.391022021457, 2549.391022021457, 2450.9307958762406, 2450.9307958762406, 2450.9307958762406, 2421.2765991530246, 2421.2765991530246, 2421.2765991530246, 2421.2765991530246, 2421.2765991530246, 2421.2765991530246, 2421.2765991530246, 2421.2765991530246, 2421.2765991530246, 2421.2765991530246, 2421.2765991530246, 2421.2765991530246, 2421.2765991530246]}]}, \"metricName\": null, \"primaryMetricName\": \"normalized_root_mean_squared_error\", \"showLegend\": false}, \"run_metrics\": [{\"name\": \"experiment_status\", \"run_id\": \"AutoML_28d9ced5-087e-4990-9384-114e83c36732\", \"categories\": [0, 1, 2, 3, 4, 5, 6, 7, 8, 9, 10, 11, 12, 13, 14, 15, 16, 17], \"series\": [{\"data\": [\"DatasetFeaturization\", \"DatasetFeaturizationCompleted\", \"DatasetCrossValidationSplit\", \"DatasetFeaturization\", \"DatasetFeaturizationCompleted\", \"DatasetFeaturization\", \"DatasetFeaturizationCompleted\", \"DatasetFeaturization\", \"DatasetFeaturizationCompleted\", \"ModelSelection\", \"BestRunExplainModel\", \"ModelExplanationDataSetSetup\", \"PickSurrogateModel\", \"EngineeredFeatureExplanations\", \"EngineeredFeatureExplanations\", \"RawFeaturesExplanations\", \"RawFeaturesExplanations\", \"BestRunExplainModel\"]}]}, {\"name\": \"experiment_status_description\", \"run_id\": \"AutoML_28d9ced5-087e-4990-9384-114e83c36732\", \"categories\": [0, 1, 2, 3, 4, 5, 6, 7, 8, 9, 10, 11, 12, 13, 14, 15, 16, 17], \"series\": [{\"data\": [\"Beginning to featurize the dataset.\", \"Completed featurizing the dataset.\", \"Generating individually featurized CV splits.\", \"Beginning to featurize the CV split.\", \"Completed featurizing the CV split.\", \"Beginning to featurize the CV split.\", \"Completed featurizing the CV split.\", \"Beginning to featurize the CV split.\", \"Completed featurizing the CV split.\", \"Beginning model selection.\", \"Best run model explanations started\", \"Model explanations data setup completed\", \"Choosing LightGBM as the surrogate model for explanations\", \"Computation of engineered features started\", \"Computation of engineered features completed\", \"Computation of raw features started\", \"Computation of raw features completed\", \"Best run model explanations completed\"]}]}, {\"name\": \"explained_variance\", \"run_id\": \"AutoML_28d9ced5-087e-4990-9384-114e83c36732\", \"categories\": [0], \"series\": [{\"data\": [0.013104906909438144]}]}, {\"name\": \"root_mean_squared_log_error\", \"run_id\": \"AutoML_28d9ced5-087e-4990-9384-114e83c36732\", \"categories\": [0], \"series\": [{\"data\": [0.22404262252716226]}]}, {\"name\": \"mean_absolute_percentage_error\", \"run_id\": \"AutoML_28d9ced5-087e-4990-9384-114e83c36732\", \"categories\": [0], \"series\": [{\"data\": [19.994548698196226]}]}, {\"name\": \"r2_score\", \"run_id\": \"AutoML_28d9ced5-087e-4990-9384-114e83c36732\", \"categories\": [0], \"series\": [{\"data\": [-0.007637927105757429]}]}, {\"name\": \"mean_absolute_error\", \"run_id\": \"AutoML_28d9ced5-087e-4990-9384-114e83c36732\", \"categories\": [0], \"series\": [{\"data\": [2595.3863651392608]}]}, {\"name\": \"spearman_correlation\", \"run_id\": \"AutoML_28d9ced5-087e-4990-9384-114e83c36732\", \"categories\": [0], \"series\": [{\"data\": [0.11293877929054369]}]}, {\"name\": \"normalized_root_mean_squared_error\", \"run_id\": \"AutoML_28d9ced5-087e-4990-9384-114e83c36732\", \"categories\": [0], \"series\": [{\"data\": [0.27755083329054386]}]}, {\"name\": \"normalized_mean_absolute_error\", \"run_id\": \"AutoML_28d9ced5-087e-4990-9384-114e83c36732\", \"categories\": [0], \"series\": [{\"data\": [0.23977018100539302]}]}, {\"name\": \"median_absolute_error\", \"run_id\": \"AutoML_28d9ced5-087e-4990-9384-114e83c36732\", \"categories\": [0], \"series\": [{\"data\": [2733.118053946136]}]}, {\"name\": \"root_mean_squared_error\", \"run_id\": \"AutoML_28d9ced5-087e-4990-9384-114e83c36732\", \"categories\": [0], \"series\": [{\"data\": [3052.3795106827365]}]}, {\"name\": \"normalized_root_mean_squared_log_error\", \"run_id\": \"AutoML_28d9ced5-087e-4990-9384-114e83c36732\", \"categories\": [0], \"series\": [{\"data\": [0.28000218886005823]}]}, {\"name\": \"normalized_median_absolute_error\", \"run_id\": \"AutoML_28d9ced5-087e-4990-9384-114e83c36732\", \"categories\": [0], \"series\": [{\"data\": [0.23371612952056364]}]}], \"run_logs\": \"\\nRun is completed.\", \"graph\": {}, \"widget_settings\": {\"childWidgetDisplay\": \"popup\", \"send_telemetry\": false, \"log_level\": \"INFO\", \"sdk_version\": \"1.51.0\"}, \"loading\": false}"
     },
     "metadata": {},
     "output_type": "display_data"
    }
   ],
   "source": [
    "ARIMA_run_configuration = AutoMLConfig(task = 'forecasting', primary_metric = 'normalized_root_mean_squared_error', \n",
    "                                       featurization = 'auto', compute_target = compute_target, training_data = oj_sales_dataset, \n",
    "                                       label_column_name = 'Quantity', experiment_timeout_minutes = 30, enable_early_stopping = True, \n",
    "                                       n_cross_validations = 3, model_explainability = True, enable_stack_ensemble = False, \n",
    "                                       enable_voting_ensemble = True, forecasting_parameters = ARIMA_params)\n",
    "\n",
    "AutoML_run_ARIMA = experiment.submit(ARIMA_run_configuration, show_output = True)\n",
    "RunDetails(AutoML_run_ARIMA).show()"
   ]
  },
  {
   "cell_type": "markdown",
   "id": "400f263b",
   "metadata": {},
   "source": [
    "# Model Registration For Future Use"
   ]
  },
  {
   "cell_type": "code",
   "execution_count": 15,
   "id": "31ce622e",
   "metadata": {},
   "outputs": [
    {
     "data": {
      "text/plain": [
       "Model(workspace=Workspace.create(name='auotml-example-workspace', subscription_id='0c19fc19-85fd-4aa4-b133-61dd20fa93df', resource_group='edwin.spartan117-rg'), name=OJ-Sales-Forecasting-AutoML, id=OJ-Sales-Forecasting-AutoML:1, version=1, tags={'Project': 'Orange Juice Sales', 'Creator': ' Edwin Goh'}, properties={})"
      ]
     },
     "execution_count": 15,
     "metadata": {},
     "output_type": "execute_result"
    }
   ],
   "source": [
    "AutoML_run_ARIMA.register_model(model_name = 'OJ-Sales-Forecasting-AutoML', \n",
    "                                description = 'Best AutoML Forecasting Model Run using the Orange Juice Sales (Simulated) Sample dataset',\n",
    "                                tags = {'Project': 'Orange Juice Sales', 'Creator': ' Edwin Goh'})"
   ]
  },
  {
   "cell_type": "markdown",
   "id": "2c5f2bf4",
   "metadata": {},
   "source": [
    "## Using $R^2$ As The Evaluation Metric"
   ]
  },
  {
   "cell_type": "code",
   "execution_count": 16,
   "id": "dcb5f576",
   "metadata": {},
   "outputs": [
    {
     "data": {
      "text/plain": [
       "Model(workspace=Workspace.create(name='auotml-example-workspace', subscription_id='0c19fc19-85fd-4aa4-b133-61dd20fa93df', resource_group='edwin.spartan117-rg'), name=OJ-Sales-Forecasting-AutoML-R2, id=OJ-Sales-Forecasting-AutoML-R2:1, version=1, tags={'Project': 'Orange Juice Sales', 'Creator': ' Edwin Goh', 'Metric': 'R-Squared'}, properties={})"
      ]
     },
     "execution_count": 16,
     "metadata": {},
     "output_type": "execute_result"
    }
   ],
   "source": [
    "AutoML_run_ARIMA.register_model(model_name = 'OJ-Sales-Forecasting-AutoML-R2', \n",
    "                                description = 'Best AutoML Forecasting Model Run using the Orange Juice Sales (Simulated) Sample dataset',\n",
    "                                tags = {'Project': 'Orange Juice Sales', 'Creator': ' Edwin Goh', 'Metric': 'R-Squared'},\n",
    "                                metric = 'r2_score')"
   ]
  }
 ],
 "metadata": {
  "kernelspec": {
   "display_name": "Python 3.8 - AzureML",
   "language": "python",
   "name": "python38-azureml"
  },
  "language_info": {
   "codemirror_mode": {
    "name": "ipython",
    "version": 3
   },
   "file_extension": ".py",
   "mimetype": "text/x-python",
   "name": "python",
   "nbconvert_exporter": "python",
   "pygments_lexer": "ipython3",
   "version": "3.8.5"
  }
 },
 "nbformat": 4,
 "nbformat_minor": 5
}
